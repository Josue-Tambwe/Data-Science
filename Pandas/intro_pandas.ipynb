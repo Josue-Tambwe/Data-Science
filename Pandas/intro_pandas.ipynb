{
 "cells": [
  {
   "cell_type": "markdown",
   "id": "fb2d368a-4423-4009-b211-30a201025491",
   "metadata": {},
   "source": [
    "Les structures des données avec le module Numpy étant bien organisées pour le calculs numériques, elles imposent certaines contraintes notamment les données doivent être de même type et préférablement numériques (int ou float). Ce qui rend impossible l'étiquetage des données.\n",
    "Toutefois, la bibliothèque **Pandas**, avec ses objets (**séries** et **dataframe**) non seulement pallie à ce problème d'étiquetage des données mais optimise la préparation, le nettoyage et l'analyse des données en gardant les fonctions de calcul de haute performance de la bibliothèque Numpy."
   ]
  },
  {
   "cell_type": "code",
   "execution_count": 3,
   "id": "ac3c9bb2-35c6-4884-ae8f-9adc09888f42",
   "metadata": {},
   "outputs": [],
   "source": [
    "import pandas as pd\n",
    "import numpy as np"
   ]
  },
  {
   "cell_type": "markdown",
   "id": "16722fb2-ceb6-4e79-ae3e-0daea0ae51b7",
   "metadata": {},
   "source": [
    "# Série : \n",
    "un tableau uni-dimensionnel formé des lignes, lesquelles sont indéxées (par défaut par des entiers à partir de 0). \n",
    "Les indices n'ont pas de contraintes quant à leurs types."
   ]
  },
  {
   "cell_type": "code",
   "execution_count": 7,
   "id": "4af01432-292c-45a4-857d-4d226ebc3a98",
   "metadata": {},
   "outputs": [
    {
     "data": {
      "text/plain": [
       "0     1\n",
       "1     3\n",
       "2     5\n",
       "3     9\n",
       "4    13\n",
       "dtype: int64"
      ]
     },
     "execution_count": 7,
     "metadata": {},
     "output_type": "execute_result"
    }
   ],
   "source": [
    "serie1 = pd.Series([1, 3, 5, 9, 13])\n",
    "serie1"
   ]
  },
  {
   "cell_type": "code",
   "execution_count": 10,
   "id": "2c7f0da7-de3f-4381-ae88-33a69555a693",
   "metadata": {},
   "outputs": [
    {
     "data": {
      "text/plain": [
       "a       1\n",
       "True    3\n",
       "2.5     5\n",
       "0       9\n",
       "dtype: int64"
      ]
     },
     "execution_count": 10,
     "metadata": {},
     "output_type": "execute_result"
    }
   ],
   "source": [
    "serie2 = pd.Series(data = [1, 3, 5, 9], index = ['a', True, 2.5, 0])\n",
    "serie2\n"
   ]
  },
  {
   "cell_type": "code",
   "execution_count": 11,
   "id": "71594bfd-34ab-4375-bf0b-19115314e8a1",
   "metadata": {},
   "outputs": [
    {
     "data": {
      "text/plain": [
       "b         2\n",
       "False     4\n",
       "3.5       6\n",
       "15       10\n",
       "dtype: int64"
      ]
     },
     "execution_count": 11,
     "metadata": {},
     "output_type": "execute_result"
    }
   ],
   "source": [
    "serie3 = pd.Series(data = [2, 4, 6, 10], index = ['b', False, 3.5, 15])\n",
    "serie3"
   ]
  },
  {
   "cell_type": "markdown",
   "id": "de67b1b9-3b52-4dd0-9eef-e1c23e440d1a",
   "metadata": {},
   "source": [
    "**Remarques** : \n",
    "1. **S** est en majuscule\n",
    "2. lorsque l'on ne met qu'une seule liste en argument (serie1), les indices sont les entiers à partir de 0\n",
    "3. le cas de deux listes en arguments (serie3) où la première sera la liste des données et la suivant celle des indices"
   ]
  },
  {
   "cell_type": "markdown",
   "id": "3b02e4e1-9072-49b2-a514-8c8e810c6175",
   "metadata": {},
   "source": [
    "## Accès aux éléments d'une série : \n",
    "Identique au fonctionnement des dictionnaires où l'indice (index) joue le rôle de la clé"
   ]
  },
  {
   "cell_type": "code",
   "execution_count": 14,
   "id": "9660abe9-7e24-4570-aab7-ede26dc19695",
   "metadata": {},
   "outputs": [
    {
     "name": "stdout",
     "output_type": "stream",
     "text": [
      "serie1[0] =  1\n",
      "serie2[True] =  3\n",
      "serie3[3.5] =  6\n"
     ]
    }
   ],
   "source": [
    "print(\"serie1[0] = \", serie1[0])\n",
    "print(\"serie2[True] = \", serie2[True])\n",
    "print(\"serie3[3.5] = \", serie3[3.5])"
   ]
  },
  {
   "cell_type": "markdown",
   "id": "9bf06083-e6ab-42d0-a0ef-ee795578b709",
   "metadata": {},
   "source": [
    "### Attribut : index\n",
    "On peut consulter la liste des indices d'une série avec l'attribut de la série:  ***index***"
   ]
  },
  {
   "cell_type": "code",
   "execution_count": 15,
   "id": "9c93b46a-0509-418f-b468-2506a3841cc0",
   "metadata": {},
   "outputs": [
    {
     "data": {
      "text/plain": [
       "Index(['a', True, 2.5, 0], dtype='object')"
      ]
     },
     "execution_count": 15,
     "metadata": {},
     "output_type": "execute_result"
    }
   ],
   "source": [
    "serie2.index"
   ]
  },
  {
   "cell_type": "markdown",
   "id": "d9c84d49-5f7c-45fa-a5ff-6051ad0730be",
   "metadata": {},
   "source": [
    "## Créer une série à partir d'un dictionnaire : \n",
    "les clés du dictionnaire deviendront les indices de la série"
   ]
  },
  {
   "cell_type": "code",
   "execution_count": 16,
   "id": "f549bd30-4853-4301-bfd3-49f31d58d502",
   "metadata": {},
   "outputs": [
    {
     "data": {
      "text/plain": [
       "matin     6\n",
       "midi     12\n",
       "soir      8\n",
       "dtype: int64"
      ]
     },
     "execution_count": 16,
     "metadata": {},
     "output_type": "execute_result"
    }
   ],
   "source": [
    "dict_heure = {\"matin\": 6, \"midi\": 12, \"soir\": 8}\n",
    "serie4 = pd.Series(dict_heure)\n",
    "serie4"
   ]
  },
  {
   "cell_type": "markdown",
   "id": "fd8db405-823c-44e7-8a07-917e2056200e",
   "metadata": {},
   "source": [
    "### N'utiliser qu'une partie du dictionnaire :\n",
    "Dans l'argument **index**, mettre dans une liste toutes les clés pour lesquelles l'on souhaite conserver la valeur."
   ]
  },
  {
   "cell_type": "code",
   "execution_count": 17,
   "id": "84507531-5ec1-4846-a017-cb0c19cd2ecc",
   "metadata": {},
   "outputs": [
    {
     "data": {
      "text/plain": [
       "midi    12\n",
       "soir     8\n",
       "dtype: int64"
      ]
     },
     "execution_count": 17,
     "metadata": {},
     "output_type": "execute_result"
    }
   ],
   "source": [
    "serie5 = pd.Series(dict_heure, index = [\"midi\", \"soir\"])\n",
    "serie5"
   ]
  },
  {
   "cell_type": "markdown",
   "id": "3bb7cff5-b36d-4aae-8f15-d2fd5e14be7c",
   "metadata": {},
   "source": [
    "## Modifier un élément d'un indice"
   ]
  },
  {
   "cell_type": "code",
   "execution_count": 18,
   "id": "8132a678-dcb3-4a24-b15c-8f6e40705e59",
   "metadata": {},
   "outputs": [
    {
     "data": {
      "text/plain": [
       "midi    13\n",
       "soir     8\n",
       "dtype: int64"
      ]
     },
     "execution_count": 18,
     "metadata": {},
     "output_type": "execute_result"
    }
   ],
   "source": [
    "serie5[\"midi\"] = 13\n",
    "serie5"
   ]
  },
  {
   "cell_type": "markdown",
   "id": "dbc6c37e-c81c-4b80-8557-a28f6235ffc9",
   "metadata": {},
   "source": [
    "## Ajouter des élément dans une série : \n",
    "identique à l'ajout d'un élément dans un dictionnaire"
   ]
  },
  {
   "cell_type": "code",
   "execution_count": 19,
   "id": "7540d2e7-dfd6-479d-abf2-1cc365e54fc3",
   "metadata": {},
   "outputs": [
    {
     "data": {
      "text/plain": [
       "midi    13\n",
       "soir     8\n",
       "nuit    12\n",
       "dtype: int64"
      ]
     },
     "execution_count": 19,
     "metadata": {},
     "output_type": "execute_result"
    }
   ],
   "source": [
    "serie5[\"nuit\"] = 12\n",
    "serie5"
   ]
  },
  {
   "cell_type": "markdown",
   "id": "8ebbb839-783d-40dc-962b-e67ec4665cb3",
   "metadata": {},
   "source": [
    "## Filtrer sur les valeurs d'une série"
   ]
  },
  {
   "cell_type": "code",
   "execution_count": 21,
   "id": "446e9710-43c2-4d2d-be01-d0ca5c68315a",
   "metadata": {},
   "outputs": [
    {
     "data": {
      "text/plain": [
       "a    15\n",
       "b    34\n",
       "d    11\n",
       "f    19\n",
       "dtype: int64"
      ]
     },
     "execution_count": 21,
     "metadata": {},
     "output_type": "execute_result"
    }
   ],
   "source": [
    "serie6 = pd.Series([15, 34, 7, 11, 9, 19], ['a', 'b', 'c', 'd', 'e', 'f'])\n",
    "serie6[serie6 >= 10]"
   ]
  },
  {
   "cell_type": "markdown",
   "id": "ed4b4f1e-7bc2-4c44-92cf-b0b569b74922",
   "metadata": {},
   "source": [
    "### Possibilité de combiner plusieurs critères (conditions) dans le filtre"
   ]
  },
  {
   "cell_type": "code",
   "execution_count": 23,
   "id": "0f6604b4-40fb-4569-86f1-3facc047cd81",
   "metadata": {},
   "outputs": [
    {
     "data": {
      "text/plain": [
       "a    15\n",
       "d    11\n",
       "dtype: int64"
      ]
     },
     "execution_count": 23,
     "metadata": {},
     "output_type": "execute_result"
    }
   ],
   "source": [
    "serie6[(serie6 >= 10) & (serie6 <= 15)]"
   ]
  },
  {
   "cell_type": "markdown",
   "id": "99247e45-a02d-47cc-a53d-0ccf7a0baec2",
   "metadata": {},
   "source": [
    "# DataFrame :\n",
    "Structure des données tabulaire bi-dimensionnelle, orienté colonnes, avec des étiquettes (indices) sur les lignes et les colonnes "
   ]
  },
  {
   "cell_type": "markdown",
   "id": "0239fc58-f112-46b0-88de-1c84b61eb15f",
   "metadata": {},
   "source": [
    "## Créer une dataframe partant d'une série : \n",
    "Sachant que pour les séries, les indices des lignes sont déjà définis, il ne reste plus qu'à donner un nom (une étiquette) à la colonne (dans une liste à un seul élément)"
   ]
  },
  {
   "cell_type": "code",
   "execution_count": 26,
   "id": "a032bafe-3903-4928-b2e8-7edf69fafb63",
   "metadata": {},
   "outputs": [
    {
     "data": {
      "text/html": [
       "<div>\n",
       "<style scoped>\n",
       "    .dataframe tbody tr th:only-of-type {\n",
       "        vertical-align: middle;\n",
       "    }\n",
       "\n",
       "    .dataframe tbody tr th {\n",
       "        vertical-align: top;\n",
       "    }\n",
       "\n",
       "    .dataframe thead th {\n",
       "        text-align: right;\n",
       "    }\n",
       "</style>\n",
       "<table border=\"1\" class=\"dataframe\">\n",
       "  <thead>\n",
       "    <tr style=\"text-align: right;\">\n",
       "      <th></th>\n",
       "      <th>Heures</th>\n",
       "    </tr>\n",
       "  </thead>\n",
       "  <tbody>\n",
       "    <tr>\n",
       "      <th>midi</th>\n",
       "      <td>13</td>\n",
       "    </tr>\n",
       "    <tr>\n",
       "      <th>soir</th>\n",
       "      <td>8</td>\n",
       "    </tr>\n",
       "    <tr>\n",
       "      <th>nuit</th>\n",
       "      <td>12</td>\n",
       "    </tr>\n",
       "  </tbody>\n",
       "</table>\n",
       "</div>"
      ],
      "text/plain": [
       "      Heures\n",
       "midi      13\n",
       "soir       8\n",
       "nuit      12"
      ]
     },
     "execution_count": 26,
     "metadata": {},
     "output_type": "execute_result"
    }
   ],
   "source": [
    "dataframe1 = pd.DataFrame(serie5, columns = [\"Heures\"])\n",
    "dataframe1"
   ]
  },
  {
   "cell_type": "markdown",
   "id": "0cda27b0-6ada-4e4d-a517-c5baae63480c",
   "metadata": {},
   "source": [
    "## Créer une dataframe partant de plusieurs dictionnaires: \n",
    "Les clés uniques des dictionnaires formeront les étiques des colonnes de la dataframe,, d'où une organisation des dictionnaires avec les mêmes noms des clés permettra une cohérence de la dataframe où chaque ligne (dictionnaire) sera vu comme un enregistrement d'une table (comme dans les bases des données)"
   ]
  },
  {
   "cell_type": "code",
   "execution_count": 27,
   "id": "9830258d-7493-4011-a72d-f5bff13a5ccd",
   "metadata": {},
   "outputs": [
    {
     "data": {
      "text/html": [
       "<div>\n",
       "<style scoped>\n",
       "    .dataframe tbody tr th:only-of-type {\n",
       "        vertical-align: middle;\n",
       "    }\n",
       "\n",
       "    .dataframe tbody tr th {\n",
       "        vertical-align: top;\n",
       "    }\n",
       "\n",
       "    .dataframe thead th {\n",
       "        text-align: right;\n",
       "    }\n",
       "</style>\n",
       "<table border=\"1\" class=\"dataframe\">\n",
       "  <thead>\n",
       "    <tr style=\"text-align: right;\">\n",
       "      <th></th>\n",
       "      <th>Nom</th>\n",
       "      <th>Ville</th>\n",
       "      <th>Score</th>\n",
       "    </tr>\n",
       "  </thead>\n",
       "  <tbody>\n",
       "    <tr>\n",
       "      <th>0</th>\n",
       "      <td>a</td>\n",
       "      <td>Nantes</td>\n",
       "      <td>10</td>\n",
       "    </tr>\n",
       "    <tr>\n",
       "      <th>1</th>\n",
       "      <td>b</td>\n",
       "      <td>Angers</td>\n",
       "      <td>12</td>\n",
       "    </tr>\n",
       "    <tr>\n",
       "      <th>2</th>\n",
       "      <td>c</td>\n",
       "      <td>Rennes</td>\n",
       "      <td>14</td>\n",
       "    </tr>\n",
       "    <tr>\n",
       "      <th>3</th>\n",
       "      <td>d</td>\n",
       "      <td>Paris</td>\n",
       "      <td>16</td>\n",
       "    </tr>\n",
       "    <tr>\n",
       "      <th>4</th>\n",
       "      <td>e</td>\n",
       "      <td>Lyon</td>\n",
       "      <td>18</td>\n",
       "    </tr>\n",
       "  </tbody>\n",
       "</table>\n",
       "</div>"
      ],
      "text/plain": [
       "  Nom   Ville  Score\n",
       "0   a  Nantes     10\n",
       "1   b  Angers     12\n",
       "2   c  Rennes     14\n",
       "3   d   Paris     16\n",
       "4   e    Lyon     18"
      ]
     },
     "execution_count": 27,
     "metadata": {},
     "output_type": "execute_result"
    }
   ],
   "source": [
    "d1 = {\"Nom\": \"a\", \"Ville\": \"Nantes\", \"Score\" : 10}\n",
    "d2 = {\"Nom\": \"b\", \"Ville\": \"Angers\", \"Score\" : 12}\n",
    "d3 = {\"Nom\": \"c\", \"Ville\": \"Rennes\", \"Score\" : 14}\n",
    "d4 = {\"Nom\": \"d\", \"Ville\": \"Paris\", \"Score\" : 16}\n",
    "d5 = {\"Nom\": \"e\", \"Ville\": \"Lyon\", \"Score\" : 18}\n",
    "dataframe2 = pd.DataFrame([d1, d2, d3, d4, d5])\n",
    "dataframe2"
   ]
  },
  {
   "cell_type": "markdown",
   "id": "81b6cf03-fea4-449b-a9c2-912b738806fe",
   "metadata": {},
   "source": [
    "### Dictionnaire définie en compréhension (avec une boucle **for**) : "
   ]
  },
  {
   "cell_type": "code",
   "execution_count": 5,
   "id": "74945dd9-0035-4736-a6eb-481f9b691e2f",
   "metadata": {},
   "outputs": [
    {
     "data": {
      "text/html": [
       "<div>\n",
       "<style scoped>\n",
       "    .dataframe tbody tr th:only-of-type {\n",
       "        vertical-align: middle;\n",
       "    }\n",
       "\n",
       "    .dataframe tbody tr th {\n",
       "        vertical-align: top;\n",
       "    }\n",
       "\n",
       "    .dataframe thead th {\n",
       "        text-align: right;\n",
       "    }\n",
       "</style>\n",
       "<table border=\"1\" class=\"dataframe\">\n",
       "  <thead>\n",
       "    <tr style=\"text-align: right;\">\n",
       "      <th></th>\n",
       "      <th>valeur_i</th>\n",
       "      <th>double_i</th>\n",
       "      <th>carre_i</th>\n",
       "    </tr>\n",
       "  </thead>\n",
       "  <tbody>\n",
       "    <tr>\n",
       "      <th>0</th>\n",
       "      <td>0</td>\n",
       "      <td>0</td>\n",
       "      <td>0</td>\n",
       "    </tr>\n",
       "    <tr>\n",
       "      <th>1</th>\n",
       "      <td>1</td>\n",
       "      <td>2</td>\n",
       "      <td>1</td>\n",
       "    </tr>\n",
       "    <tr>\n",
       "      <th>2</th>\n",
       "      <td>2</td>\n",
       "      <td>4</td>\n",
       "      <td>4</td>\n",
       "    </tr>\n",
       "    <tr>\n",
       "      <th>3</th>\n",
       "      <td>3</td>\n",
       "      <td>6</td>\n",
       "      <td>9</td>\n",
       "    </tr>\n",
       "    <tr>\n",
       "      <th>4</th>\n",
       "      <td>4</td>\n",
       "      <td>8</td>\n",
       "      <td>16</td>\n",
       "    </tr>\n",
       "    <tr>\n",
       "      <th>5</th>\n",
       "      <td>5</td>\n",
       "      <td>10</td>\n",
       "      <td>25</td>\n",
       "    </tr>\n",
       "    <tr>\n",
       "      <th>6</th>\n",
       "      <td>6</td>\n",
       "      <td>12</td>\n",
       "      <td>36</td>\n",
       "    </tr>\n",
       "    <tr>\n",
       "      <th>7</th>\n",
       "      <td>7</td>\n",
       "      <td>14</td>\n",
       "      <td>49</td>\n",
       "    </tr>\n",
       "    <tr>\n",
       "      <th>8</th>\n",
       "      <td>8</td>\n",
       "      <td>16</td>\n",
       "      <td>64</td>\n",
       "    </tr>\n",
       "    <tr>\n",
       "      <th>9</th>\n",
       "      <td>9</td>\n",
       "      <td>18</td>\n",
       "      <td>81</td>\n",
       "    </tr>\n",
       "  </tbody>\n",
       "</table>\n",
       "</div>"
      ],
      "text/plain": [
       "   valeur_i  double_i  carre_i\n",
       "0         0         0        0\n",
       "1         1         2        1\n",
       "2         2         4        4\n",
       "3         3         6        9\n",
       "4         4         8       16\n",
       "5         5        10       25\n",
       "6         6        12       36\n",
       "7         7        14       49\n",
       "8         8        16       64\n",
       "9         9        18       81"
      ]
     },
     "execution_count": 5,
     "metadata": {},
     "output_type": "execute_result"
    }
   ],
   "source": [
    "liste_dic = [{\"valeur_i\" : i, \"double_i\": 2*i, \"carre_i\": i*i} for i in range(10)]\n",
    "dataframe3 = pd.DataFrame(liste_dic)\n",
    "dataframe3"
   ]
  },
  {
   "cell_type": "markdown",
   "id": "1a1c883a-18d3-40e0-83e5-34f651f9345e",
   "metadata": {},
   "source": [
    "### Partant d'une matrice Numpy :"
   ]
  },
  {
   "cell_type": "code",
   "execution_count": 17,
   "id": "c61fd3ce-2c6f-4e38-b724-a880c822b01b",
   "metadata": {},
   "outputs": [
    {
     "name": "stdout",
     "output_type": "stream",
     "text": [
      "[[0 8 2]\n",
      " [5 8 1]\n",
      " [6 2 9]\n",
      " [4 5 8]]\n"
     ]
    },
    {
     "data": {
      "text/html": [
       "<div>\n",
       "<style scoped>\n",
       "    .dataframe tbody tr th:only-of-type {\n",
       "        vertical-align: middle;\n",
       "    }\n",
       "\n",
       "    .dataframe tbody tr th {\n",
       "        vertical-align: top;\n",
       "    }\n",
       "\n",
       "    .dataframe thead th {\n",
       "        text-align: right;\n",
       "    }\n",
       "</style>\n",
       "<table border=\"1\" class=\"dataframe\">\n",
       "  <thead>\n",
       "    <tr style=\"text-align: right;\">\n",
       "      <th></th>\n",
       "      <th>col_1</th>\n",
       "      <th>col_2</th>\n",
       "      <th>col_3</th>\n",
       "    </tr>\n",
       "  </thead>\n",
       "  <tbody>\n",
       "    <tr>\n",
       "      <th>ligne_1</th>\n",
       "      <td>0</td>\n",
       "      <td>8</td>\n",
       "      <td>2</td>\n",
       "    </tr>\n",
       "    <tr>\n",
       "      <th>ligne_2</th>\n",
       "      <td>5</td>\n",
       "      <td>8</td>\n",
       "      <td>1</td>\n",
       "    </tr>\n",
       "    <tr>\n",
       "      <th>ligne_3</th>\n",
       "      <td>6</td>\n",
       "      <td>2</td>\n",
       "      <td>9</td>\n",
       "    </tr>\n",
       "    <tr>\n",
       "      <th>ligne_4</th>\n",
       "      <td>4</td>\n",
       "      <td>5</td>\n",
       "      <td>8</td>\n",
       "    </tr>\n",
       "  </tbody>\n",
       "</table>\n",
       "</div>"
      ],
      "text/plain": [
       "         col_1  col_2  col_3\n",
       "ligne_1      0      8      2\n",
       "ligne_2      5      8      1\n",
       "ligne_3      6      2      9\n",
       "ligne_4      4      5      8"
      ]
     },
     "execution_count": 17,
     "metadata": {},
     "output_type": "execute_result"
    }
   ],
   "source": [
    "mat = np.random.randint(0, 11, (4,3))\n",
    "print(mat)\n",
    "dataframe4 = pd.DataFrame(mat, columns = [\"col_1\", \"col_2\", \"col_3\"], index = [\"ligne_1\", \"ligne_2\", \"ligne_3\", \"ligne_4\"])\n",
    "dataframe4"
   ]
  },
  {
   "cell_type": "markdown",
   "id": "f2b65c80-235b-4324-b177-a7883ba66fd2",
   "metadata": {},
   "source": [
    "## Modifier une Dataframe : "
   ]
  },
  {
   "cell_type": "markdown",
   "id": "3f780c6d-a27b-4968-af3f-b5e180e765ac",
   "metadata": {},
   "source": [
    "### Ajout d'une colonne"
   ]
  },
  {
   "cell_type": "code",
   "execution_count": 26,
   "id": "bd1db6dd-e1e5-41c6-b6e7-1e5ea2a924d5",
   "metadata": {},
   "outputs": [
    {
     "name": "stdout",
     "output_type": "stream",
     "text": [
      "            Maths  Physique\n",
      "Christophe      9        20\n",
      "Clara           3         2\n",
      "Benjamin        0         2\n",
      "Amine           4        12\n",
      "Jason          15         2\n"
     ]
    },
    {
     "data": {
      "text/html": [
       "<div>\n",
       "<style scoped>\n",
       "    .dataframe tbody tr th:only-of-type {\n",
       "        vertical-align: middle;\n",
       "    }\n",
       "\n",
       "    .dataframe tbody tr th {\n",
       "        vertical-align: top;\n",
       "    }\n",
       "\n",
       "    .dataframe thead th {\n",
       "        text-align: right;\n",
       "    }\n",
       "</style>\n",
       "<table border=\"1\" class=\"dataframe\">\n",
       "  <thead>\n",
       "    <tr style=\"text-align: right;\">\n",
       "      <th></th>\n",
       "      <th>Maths</th>\n",
       "      <th>Physique</th>\n",
       "      <th>Moyenne</th>\n",
       "    </tr>\n",
       "  </thead>\n",
       "  <tbody>\n",
       "    <tr>\n",
       "      <th>Christophe</th>\n",
       "      <td>9</td>\n",
       "      <td>20</td>\n",
       "      <td>14.5</td>\n",
       "    </tr>\n",
       "    <tr>\n",
       "      <th>Clara</th>\n",
       "      <td>3</td>\n",
       "      <td>2</td>\n",
       "      <td>2.5</td>\n",
       "    </tr>\n",
       "    <tr>\n",
       "      <th>Benjamin</th>\n",
       "      <td>0</td>\n",
       "      <td>2</td>\n",
       "      <td>1.0</td>\n",
       "    </tr>\n",
       "    <tr>\n",
       "      <th>Amine</th>\n",
       "      <td>4</td>\n",
       "      <td>12</td>\n",
       "      <td>8.0</td>\n",
       "    </tr>\n",
       "    <tr>\n",
       "      <th>Jason</th>\n",
       "      <td>15</td>\n",
       "      <td>2</td>\n",
       "      <td>8.5</td>\n",
       "    </tr>\n",
       "  </tbody>\n",
       "</table>\n",
       "</div>"
      ],
      "text/plain": [
       "            Maths  Physique  Moyenne\n",
       "Christophe      9        20     14.5\n",
       "Clara           3         2      2.5\n",
       "Benjamin        0         2      1.0\n",
       "Amine           4        12      8.0\n",
       "Jason          15         2      8.5"
      ]
     },
     "execution_count": 26,
     "metadata": {},
     "output_type": "execute_result"
    }
   ],
   "source": [
    "mat = np.random.randint(0, 21, (5, 2))\n",
    "notes = pd.DataFrame(mat, columns = [\"Maths\", \"Physique\"], index = [\"Christophe\", \"Clara\", \"Benjamin\", \"Amine\", \"Jason\"])\n",
    "print(notes)\n",
    "notes[\"Moyenne\"] = (notes[\"Maths\"] + notes[\"Physique\"])/2\n",
    "notes"
   ]
  },
  {
   "cell_type": "markdown",
   "id": "311f9ead-cb41-426f-8f8d-ff1e8827878d",
   "metadata": {},
   "source": [
    "## Accéder à des données"
   ]
  },
  {
   "cell_type": "markdown",
   "id": "44f3b860-d17c-45d4-b3eb-f2645befb73e",
   "metadata": {},
   "source": [
    "### Afficher une colonne : \n",
    "Il est préférable de mettre l'étiquette (nom) de la colonne entre crochet, comme une liste à un seul élément, pour avoir un affiche plus agréable que celui qui est rendu lorsque l'on ne met pas l'étiquette dans une liste avec la syntaxe notes\\[\"Maths\"] (cette syntaxe est correcte tout de même)."
   ]
  },
  {
   "cell_type": "code",
   "execution_count": 31,
   "id": "8e24d4bb-307e-4dd9-a448-cea51da41740",
   "metadata": {},
   "outputs": [
    {
     "data": {
      "text/html": [
       "<div>\n",
       "<style scoped>\n",
       "    .dataframe tbody tr th:only-of-type {\n",
       "        vertical-align: middle;\n",
       "    }\n",
       "\n",
       "    .dataframe tbody tr th {\n",
       "        vertical-align: top;\n",
       "    }\n",
       "\n",
       "    .dataframe thead th {\n",
       "        text-align: right;\n",
       "    }\n",
       "</style>\n",
       "<table border=\"1\" class=\"dataframe\">\n",
       "  <thead>\n",
       "    <tr style=\"text-align: right;\">\n",
       "      <th></th>\n",
       "      <th>Physique</th>\n",
       "    </tr>\n",
       "  </thead>\n",
       "  <tbody>\n",
       "    <tr>\n",
       "      <th>Christophe</th>\n",
       "      <td>20</td>\n",
       "    </tr>\n",
       "    <tr>\n",
       "      <th>Clara</th>\n",
       "      <td>2</td>\n",
       "    </tr>\n",
       "    <tr>\n",
       "      <th>Benjamin</th>\n",
       "      <td>2</td>\n",
       "    </tr>\n",
       "    <tr>\n",
       "      <th>Amine</th>\n",
       "      <td>12</td>\n",
       "    </tr>\n",
       "    <tr>\n",
       "      <th>Jason</th>\n",
       "      <td>2</td>\n",
       "    </tr>\n",
       "  </tbody>\n",
       "</table>\n",
       "</div>"
      ],
      "text/plain": [
       "            Physique\n",
       "Christophe        20\n",
       "Clara              2\n",
       "Benjamin           2\n",
       "Amine             12\n",
       "Jason              2"
      ]
     },
     "execution_count": 31,
     "metadata": {},
     "output_type": "execute_result"
    }
   ],
   "source": [
    "notes[[\"Physique\"]]"
   ]
  },
  {
   "cell_type": "markdown",
   "id": "02e241f1-2f8e-4aa3-84fe-6e5c55bd82be",
   "metadata": {},
   "source": [
    "### Afficher plusieurs colonnes :\n",
    "Mettre plusieurs étiquettes dans la liste."
   ]
  },
  {
   "cell_type": "code",
   "execution_count": 39,
   "id": "195f8951-a6b5-442e-89bd-1faa9462891f",
   "metadata": {},
   "outputs": [
    {
     "data": {
      "text/html": [
       "<div>\n",
       "<style scoped>\n",
       "    .dataframe tbody tr th:only-of-type {\n",
       "        vertical-align: middle;\n",
       "    }\n",
       "\n",
       "    .dataframe tbody tr th {\n",
       "        vertical-align: top;\n",
       "    }\n",
       "\n",
       "    .dataframe thead th {\n",
       "        text-align: right;\n",
       "    }\n",
       "</style>\n",
       "<table border=\"1\" class=\"dataframe\">\n",
       "  <thead>\n",
       "    <tr style=\"text-align: right;\">\n",
       "      <th></th>\n",
       "      <th>Maths</th>\n",
       "      <th>Moyenne</th>\n",
       "    </tr>\n",
       "  </thead>\n",
       "  <tbody>\n",
       "    <tr>\n",
       "      <th>Christophe</th>\n",
       "      <td>9</td>\n",
       "      <td>14.5</td>\n",
       "    </tr>\n",
       "    <tr>\n",
       "      <th>Clara</th>\n",
       "      <td>3</td>\n",
       "      <td>2.5</td>\n",
       "    </tr>\n",
       "    <tr>\n",
       "      <th>Benjamin</th>\n",
       "      <td>0</td>\n",
       "      <td>1.0</td>\n",
       "    </tr>\n",
       "    <tr>\n",
       "      <th>Amine</th>\n",
       "      <td>4</td>\n",
       "      <td>8.0</td>\n",
       "    </tr>\n",
       "    <tr>\n",
       "      <th>Jason</th>\n",
       "      <td>15</td>\n",
       "      <td>8.5</td>\n",
       "    </tr>\n",
       "  </tbody>\n",
       "</table>\n",
       "</div>"
      ],
      "text/plain": [
       "            Maths  Moyenne\n",
       "Christophe      9     14.5\n",
       "Clara           3      2.5\n",
       "Benjamin        0      1.0\n",
       "Amine           4      8.0\n",
       "Jason          15      8.5"
      ]
     },
     "execution_count": 39,
     "metadata": {},
     "output_type": "execute_result"
    }
   ],
   "source": [
    "notes[[\"Maths\", \"Moyenne\"]]\n"
   ]
  },
  {
   "cell_type": "markdown",
   "id": "f5e546ca-0121-49d4-a56a-45fc300497d4",
   "metadata": {},
   "source": [
    "### Accès à une ligne : \n",
    "Avec : **loc\\[index]**, où *index* est  l'étiquette de la ligne souhaitée\n",
    "N.B : ici \"Christophe\" a un \"C\" majuscule, il faut que l'étique soitexactement le même que celui dans la dataframe."
   ]
  },
  {
   "cell_type": "code",
   "execution_count": 41,
   "id": "e9f874ad-3677-4595-8049-4af2fa6d293e",
   "metadata": {},
   "outputs": [
    {
     "data": {
      "text/plain": [
       "Maths        9.0\n",
       "Physique    20.0\n",
       "Moyenne     14.5\n",
       "Name: Christophe, dtype: float64"
      ]
     },
     "execution_count": 41,
     "metadata": {},
     "output_type": "execute_result"
    }
   ],
   "source": [
    "notes.loc[\"Christophe\"]"
   ]
  },
  {
   "cell_type": "markdown",
   "id": "49354687-db3c-4b3a-ad5a-0e146a36bd8e",
   "metadata": {},
   "source": [
    "### Accès à un élément spécifique (ligne + colonne) : \n",
    "Avec **loc\\[index, column]**, où *index* est l'étiquette de la ligne et *column* celui de la colonne"
   ]
  },
  {
   "cell_type": "code",
   "execution_count": 42,
   "id": "1bbc4a44-76fa-4580-92db-3fb6de51d5d8",
   "metadata": {},
   "outputs": [
    {
     "data": {
      "text/plain": [
       "2.5"
      ]
     },
     "execution_count": 42,
     "metadata": {},
     "output_type": "execute_result"
    }
   ],
   "source": [
    "notes.loc[\"Clara\", \"Moyenne\"]"
   ]
  },
  {
   "cell_type": "markdown",
   "id": "05592b2b-4d53-43aa-8dad-e5bfe5e914a9",
   "metadata": {},
   "source": [
    "### Cas des valeurs manquantes : \n",
    "En supposant ques les dictionnaires ont les mêmes noms des clés (pour des raisons de cohérence), alors si les dictionnaires n'ont pas le même nombre d'éléments, les valeurs manquantes seront remplies par NaN (Not a Number) "
   ]
  },
  {
   "cell_type": "code",
   "execution_count": 28,
   "id": "272f7ec4-4465-4cc1-8b3b-fefa2584dc06",
   "metadata": {},
   "outputs": [
    {
     "data": {
      "text/html": [
       "<div>\n",
       "<style scoped>\n",
       "    .dataframe tbody tr th:only-of-type {\n",
       "        vertical-align: middle;\n",
       "    }\n",
       "\n",
       "    .dataframe tbody tr th {\n",
       "        vertical-align: top;\n",
       "    }\n",
       "\n",
       "    .dataframe thead th {\n",
       "        text-align: right;\n",
       "    }\n",
       "</style>\n",
       "<table border=\"1\" class=\"dataframe\">\n",
       "  <thead>\n",
       "    <tr style=\"text-align: right;\">\n",
       "      <th></th>\n",
       "      <th>Nom</th>\n",
       "      <th>Ville</th>\n",
       "      <th>Score</th>\n",
       "    </tr>\n",
       "  </thead>\n",
       "  <tbody>\n",
       "    <tr>\n",
       "      <th>0</th>\n",
       "      <td>a</td>\n",
       "      <td>Nantes</td>\n",
       "      <td>10.0</td>\n",
       "    </tr>\n",
       "    <tr>\n",
       "      <th>1</th>\n",
       "      <td>b</td>\n",
       "      <td>NaN</td>\n",
       "      <td>12.0</td>\n",
       "    </tr>\n",
       "    <tr>\n",
       "      <th>2</th>\n",
       "      <td>c</td>\n",
       "      <td>Rennes</td>\n",
       "      <td>14.0</td>\n",
       "    </tr>\n",
       "    <tr>\n",
       "      <th>3</th>\n",
       "      <td>NaN</td>\n",
       "      <td>Paris</td>\n",
       "      <td>16.0</td>\n",
       "    </tr>\n",
       "    <tr>\n",
       "      <th>4</th>\n",
       "      <td>e</td>\n",
       "      <td>Lyon</td>\n",
       "      <td>NaN</td>\n",
       "    </tr>\n",
       "  </tbody>\n",
       "</table>\n",
       "</div>"
      ],
      "text/plain": [
       "   Nom   Ville  Score\n",
       "0    a  Nantes   10.0\n",
       "1    b     NaN   12.0\n",
       "2    c  Rennes   14.0\n",
       "3  NaN   Paris   16.0\n",
       "4    e    Lyon    NaN"
      ]
     },
     "execution_count": 28,
     "metadata": {},
     "output_type": "execute_result"
    }
   ],
   "source": [
    "d1 = {\"Nom\": \"a\", \"Ville\": \"Nantes\", \"Score\" : 10}\n",
    "d2 = {\"Nom\": \"b\", \"Score\" : 12}\n",
    "d3 = {\"Nom\": \"c\", \"Ville\": \"Rennes\", \"Score\" : 14}\n",
    "d4 = {\"Ville\": \"Paris\", \"Score\" : 16}\n",
    "d5 = {\"Nom\": \"e\", \"Ville\": \"Lyon\"}\n",
    "dataframe2 = pd.DataFrame([d1, d2, d3, d4, d5])\n",
    "dataframe2"
   ]
  },
  {
   "cell_type": "markdown",
   "id": "fce2271c-ba5a-4403-8676-747788659a39",
   "metadata": {},
   "source": [
    "## Supression dans une Dataframe : \n",
    "Pour faire l'analogie avec la table d'une base des données, on peut supprimer des lignes (enregistrements) ou des colonnes (champs) dans une Dataframe.\n",
    "Pour ce faire le premier argument est l'étiquette à supprimer (ligne ou colonne), le second argument est **axis** qui doit être mis à **0** pour supprimer une ligne (enregistrement), et à **1** pour supprimer une colonne (champ). Le dernier argument : **inplace** qui doit prendre la valeur *True* ou *False*, selon que l'on veut supprimer directement dans la dataframe ou juste supprimer lors de l'affichage, toutefois **la dataframe originale reste intacte** (il est par défaut à False)."
   ]
  },
  {
   "cell_type": "markdown",
   "id": "af8f10c0-d9fe-4253-8eb9-7be3a7f48913",
   "metadata": {},
   "source": [
    "#### Supprimer une colonne :"
   ]
  },
  {
   "cell_type": "code",
   "execution_count": 43,
   "id": "3ec8fb59-d758-4e15-ae0d-4333fe25fa69",
   "metadata": {},
   "outputs": [
    {
     "data": {
      "text/html": [
       "<div>\n",
       "<style scoped>\n",
       "    .dataframe tbody tr th:only-of-type {\n",
       "        vertical-align: middle;\n",
       "    }\n",
       "\n",
       "    .dataframe tbody tr th {\n",
       "        vertical-align: top;\n",
       "    }\n",
       "\n",
       "    .dataframe thead th {\n",
       "        text-align: right;\n",
       "    }\n",
       "</style>\n",
       "<table border=\"1\" class=\"dataframe\">\n",
       "  <thead>\n",
       "    <tr style=\"text-align: right;\">\n",
       "      <th></th>\n",
       "      <th>Maths</th>\n",
       "      <th>Moyenne</th>\n",
       "    </tr>\n",
       "  </thead>\n",
       "  <tbody>\n",
       "    <tr>\n",
       "      <th>Christophe</th>\n",
       "      <td>9</td>\n",
       "      <td>14.5</td>\n",
       "    </tr>\n",
       "    <tr>\n",
       "      <th>Clara</th>\n",
       "      <td>3</td>\n",
       "      <td>2.5</td>\n",
       "    </tr>\n",
       "    <tr>\n",
       "      <th>Benjamin</th>\n",
       "      <td>0</td>\n",
       "      <td>1.0</td>\n",
       "    </tr>\n",
       "    <tr>\n",
       "      <th>Amine</th>\n",
       "      <td>4</td>\n",
       "      <td>8.0</td>\n",
       "    </tr>\n",
       "    <tr>\n",
       "      <th>Jason</th>\n",
       "      <td>15</td>\n",
       "      <td>8.5</td>\n",
       "    </tr>\n",
       "  </tbody>\n",
       "</table>\n",
       "</div>"
      ],
      "text/plain": [
       "            Maths  Moyenne\n",
       "Christophe      9     14.5\n",
       "Clara           3      2.5\n",
       "Benjamin        0      1.0\n",
       "Amine           4      8.0\n",
       "Jason          15      8.5"
      ]
     },
     "execution_count": 43,
     "metadata": {},
     "output_type": "execute_result"
    }
   ],
   "source": [
    "notes.drop(\"Physique\", axis = 1, inplace = False)"
   ]
  },
  {
   "cell_type": "code",
   "execution_count": 44,
   "id": "7ec50cc4-cd5c-4bb8-8526-355bd60267f9",
   "metadata": {},
   "outputs": [
    {
     "data": {
      "text/html": [
       "<div>\n",
       "<style scoped>\n",
       "    .dataframe tbody tr th:only-of-type {\n",
       "        vertical-align: middle;\n",
       "    }\n",
       "\n",
       "    .dataframe tbody tr th {\n",
       "        vertical-align: top;\n",
       "    }\n",
       "\n",
       "    .dataframe thead th {\n",
       "        text-align: right;\n",
       "    }\n",
       "</style>\n",
       "<table border=\"1\" class=\"dataframe\">\n",
       "  <thead>\n",
       "    <tr style=\"text-align: right;\">\n",
       "      <th></th>\n",
       "      <th>Maths</th>\n",
       "      <th>Physique</th>\n",
       "      <th>Moyenne</th>\n",
       "    </tr>\n",
       "  </thead>\n",
       "  <tbody>\n",
       "    <tr>\n",
       "      <th>Christophe</th>\n",
       "      <td>9</td>\n",
       "      <td>20</td>\n",
       "      <td>14.5</td>\n",
       "    </tr>\n",
       "    <tr>\n",
       "      <th>Clara</th>\n",
       "      <td>3</td>\n",
       "      <td>2</td>\n",
       "      <td>2.5</td>\n",
       "    </tr>\n",
       "    <tr>\n",
       "      <th>Benjamin</th>\n",
       "      <td>0</td>\n",
       "      <td>2</td>\n",
       "      <td>1.0</td>\n",
       "    </tr>\n",
       "    <tr>\n",
       "      <th>Amine</th>\n",
       "      <td>4</td>\n",
       "      <td>12</td>\n",
       "      <td>8.0</td>\n",
       "    </tr>\n",
       "    <tr>\n",
       "      <th>Jason</th>\n",
       "      <td>15</td>\n",
       "      <td>2</td>\n",
       "      <td>8.5</td>\n",
       "    </tr>\n",
       "  </tbody>\n",
       "</table>\n",
       "</div>"
      ],
      "text/plain": [
       "            Maths  Physique  Moyenne\n",
       "Christophe      9        20     14.5\n",
       "Clara           3         2      2.5\n",
       "Benjamin        0         2      1.0\n",
       "Amine           4        12      8.0\n",
       "Jason          15         2      8.5"
      ]
     },
     "execution_count": 44,
     "metadata": {},
     "output_type": "execute_result"
    }
   ],
   "source": [
    "notes"
   ]
  },
  {
   "cell_type": "code",
   "execution_count": 49,
   "id": "89ce474c-ec23-4253-9dd6-40473a0ebb43",
   "metadata": {},
   "outputs": [
    {
     "data": {
      "text/html": [
       "<div>\n",
       "<style scoped>\n",
       "    .dataframe tbody tr th:only-of-type {\n",
       "        vertical-align: middle;\n",
       "    }\n",
       "\n",
       "    .dataframe tbody tr th {\n",
       "        vertical-align: top;\n",
       "    }\n",
       "\n",
       "    .dataframe thead th {\n",
       "        text-align: right;\n",
       "    }\n",
       "</style>\n",
       "<table border=\"1\" class=\"dataframe\">\n",
       "  <thead>\n",
       "    <tr style=\"text-align: right;\">\n",
       "      <th></th>\n",
       "      <th>Maths</th>\n",
       "      <th>Moyenne</th>\n",
       "    </tr>\n",
       "  </thead>\n",
       "  <tbody>\n",
       "    <tr>\n",
       "      <th>Christophe</th>\n",
       "      <td>9</td>\n",
       "      <td>14.5</td>\n",
       "    </tr>\n",
       "    <tr>\n",
       "      <th>Clara</th>\n",
       "      <td>3</td>\n",
       "      <td>2.5</td>\n",
       "    </tr>\n",
       "    <tr>\n",
       "      <th>Benjamin</th>\n",
       "      <td>0</td>\n",
       "      <td>1.0</td>\n",
       "    </tr>\n",
       "    <tr>\n",
       "      <th>Amine</th>\n",
       "      <td>4</td>\n",
       "      <td>8.0</td>\n",
       "    </tr>\n",
       "    <tr>\n",
       "      <th>Jason</th>\n",
       "      <td>15</td>\n",
       "      <td>8.5</td>\n",
       "    </tr>\n",
       "  </tbody>\n",
       "</table>\n",
       "</div>"
      ],
      "text/plain": [
       "            Maths  Moyenne\n",
       "Christophe      9     14.5\n",
       "Clara           3      2.5\n",
       "Benjamin        0      1.0\n",
       "Amine           4      8.0\n",
       "Jason          15      8.5"
      ]
     },
     "execution_count": 49,
     "metadata": {},
     "output_type": "execute_result"
    }
   ],
   "source": [
    "\n",
    "notes.drop(\"Physique\", axis = 1, inplace = True)\n",
    "notes"
   ]
  },
  {
   "cell_type": "markdown",
   "id": "ad6b7d8f-d29f-49fd-9bef-487ce17646ae",
   "metadata": {},
   "source": [
    "#### Supprimer une ligne : "
   ]
  },
  {
   "cell_type": "code",
   "execution_count": 50,
   "id": "5f25a910-4d85-4bd6-b346-32dd1f14b24c",
   "metadata": {},
   "outputs": [],
   "source": [
    "notes.drop(\"Clara\", axis = 0, inplace = True)\n"
   ]
  },
  {
   "cell_type": "code",
   "execution_count": 51,
   "id": "794ad059-7b29-4fcc-b331-a755c101d18c",
   "metadata": {},
   "outputs": [
    {
     "data": {
      "text/html": [
       "<div>\n",
       "<style scoped>\n",
       "    .dataframe tbody tr th:only-of-type {\n",
       "        vertical-align: middle;\n",
       "    }\n",
       "\n",
       "    .dataframe tbody tr th {\n",
       "        vertical-align: top;\n",
       "    }\n",
       "\n",
       "    .dataframe thead th {\n",
       "        text-align: right;\n",
       "    }\n",
       "</style>\n",
       "<table border=\"1\" class=\"dataframe\">\n",
       "  <thead>\n",
       "    <tr style=\"text-align: right;\">\n",
       "      <th></th>\n",
       "      <th>Maths</th>\n",
       "      <th>Moyenne</th>\n",
       "    </tr>\n",
       "  </thead>\n",
       "  <tbody>\n",
       "    <tr>\n",
       "      <th>Christophe</th>\n",
       "      <td>9</td>\n",
       "      <td>14.5</td>\n",
       "    </tr>\n",
       "    <tr>\n",
       "      <th>Benjamin</th>\n",
       "      <td>0</td>\n",
       "      <td>1.0</td>\n",
       "    </tr>\n",
       "    <tr>\n",
       "      <th>Amine</th>\n",
       "      <td>4</td>\n",
       "      <td>8.0</td>\n",
       "    </tr>\n",
       "    <tr>\n",
       "      <th>Jason</th>\n",
       "      <td>15</td>\n",
       "      <td>8.5</td>\n",
       "    </tr>\n",
       "  </tbody>\n",
       "</table>\n",
       "</div>"
      ],
      "text/plain": [
       "            Maths  Moyenne\n",
       "Christophe      9     14.5\n",
       "Benjamin        0      1.0\n",
       "Amine           4      8.0\n",
       "Jason          15      8.5"
      ]
     },
     "execution_count": 51,
     "metadata": {},
     "output_type": "execute_result"
    }
   ],
   "source": [
    "notes"
   ]
  },
  {
   "cell_type": "markdown",
   "id": "7a78dd08-8930-4053-9117-277e3d94b3c8",
   "metadata": {},
   "source": [
    "## Sélection des données dans une dataframe :"
   ]
  },
  {
   "cell_type": "code",
   "execution_count": 85,
   "id": "b16d926a-872c-4e6a-87c7-81f92188b91f",
   "metadata": {},
   "outputs": [
    {
     "data": {
      "text/html": [
       "<div>\n",
       "<style scoped>\n",
       "    .dataframe tbody tr th:only-of-type {\n",
       "        vertical-align: middle;\n",
       "    }\n",
       "\n",
       "    .dataframe tbody tr th {\n",
       "        vertical-align: top;\n",
       "    }\n",
       "\n",
       "    .dataframe thead th {\n",
       "        text-align: right;\n",
       "    }\n",
       "</style>\n",
       "<table border=\"1\" class=\"dataframe\">\n",
       "  <thead>\n",
       "    <tr style=\"text-align: right;\">\n",
       "      <th></th>\n",
       "      <th>Maths</th>\n",
       "      <th>Physique</th>\n",
       "      <th>Moyenne</th>\n",
       "    </tr>\n",
       "  </thead>\n",
       "  <tbody>\n",
       "    <tr>\n",
       "      <th>Christophe</th>\n",
       "      <td>3</td>\n",
       "      <td>9</td>\n",
       "      <td>6.0</td>\n",
       "    </tr>\n",
       "    <tr>\n",
       "      <th>Clara</th>\n",
       "      <td>2</td>\n",
       "      <td>5</td>\n",
       "      <td>3.5</td>\n",
       "    </tr>\n",
       "    <tr>\n",
       "      <th>Amine</th>\n",
       "      <td>1</td>\n",
       "      <td>12</td>\n",
       "      <td>6.5</td>\n",
       "    </tr>\n",
       "    <tr>\n",
       "      <th>Amandine</th>\n",
       "      <td>8</td>\n",
       "      <td>17</td>\n",
       "      <td>12.5</td>\n",
       "    </tr>\n",
       "    <tr>\n",
       "      <th>Lina</th>\n",
       "      <td>2</td>\n",
       "      <td>3</td>\n",
       "      <td>2.5</td>\n",
       "    </tr>\n",
       "  </tbody>\n",
       "</table>\n",
       "</div>"
      ],
      "text/plain": [
       "            Maths  Physique  Moyenne\n",
       "Christophe      3         9      6.0\n",
       "Clara           2         5      3.5\n",
       "Amine           1        12      6.5\n",
       "Amandine        8        17     12.5\n",
       "Lina            2         3      2.5"
      ]
     },
     "execution_count": 85,
     "metadata": {},
     "output_type": "execute_result"
    }
   ],
   "source": [
    "# tableau aléatoire des valeurs (notes) entre 0 et 20 (car 21 exclut)\n",
    "tab1 = np.random.randint(0, 21, (5))\n",
    "# liste des étudiants\n",
    "tab2 = [\"Christophe\", \"Clara\", \"Amine\", \"Amandine\", \"Lina\"]\n",
    "# notes de Maths\n",
    "dic_maths = {tab2[i] : tab1[i] for i in range(len(tab1))}\n",
    "# Série des notes de maths\n",
    "serie_math = pd.Series(dic_maths)\n",
    "# De même pour le cours de Physique\n",
    "tab1 = np.random.randint(0, 21, (5))\n",
    "dic_physique = {tab2[i] : tab1[i] for i in range(len(tab1))}\n",
    "serie_physique = pd.Series(dic_physique)\n",
    "# la dataframe\n",
    "notes = pd.DataFrame({\"Maths\": dic_maths, \"Physique\": dic_physique})\n",
    "notes[\"Moyenne\"] = (notes[\"Maths\"] + notes[\"Physique\"])/2\n",
    "notes"
   ]
  },
  {
   "cell_type": "markdown",
   "id": "3ca659ce-0d2b-49f1-bcd4-e0f4f89845cb",
   "metadata": {},
   "source": [
    " **Remarques** : Etant donné que la dataframe \"**notes**\"  est construite à partir d'**un seul dictionnaire**, dont les deux clés sont \"Maths et Physiques\" et les **valeurs sont eux mêmes des dictionnaires**, le remplissage de la dataframe 'note' se déroulera de la manière suivante :\n",
    "\n",
    " 1. Les étiques des colonnes de la dataframe seront les deux clés du dictionnaire en argument que sont **'Maths'** et **'Physique'**\n",
    " 2. Dans un premier temps, la valeur de la clé 'Maths' :\n",
    "    - Cette valeur étant elle même un dictionnaire (dic_maths), de ce fait toutes les clés de **dic_maths** étiquetteront les lignes de la dataframe et la première colonne sera rempli entièrement en mettant la valeur d'une clé à l'emplacement convenable (intersection ligne et première colonne)\n",
    " 3. Dans un second temps, tooutes les clés du second dictionnaire (dic_physique) vont être ajouter pour étiquetter les lignes suivantes de la dataframe 'note' **si, et seulement si**, ces étiquêtes n'étaient pas déjà présentes dans la dataframe\n",
    "     - La seconde colonne sera alors complètement rempli à son tour.\n",
    " 4. Les valeurs manquantes seront rempli par NaN dans la dataframe"
   ]
  },
  {
   "cell_type": "markdown",
   "id": "42c8cefe-37b0-4bbb-a903-9c4e8344a09e",
   "metadata": {},
   "source": [
    "### Sélection d'une colonne : \n",
    "Mettre l'étiquette (nom) de la colonne entre crochet"
   ]
  },
  {
   "cell_type": "code",
   "execution_count": 88,
   "id": "20011b00-98c0-4513-8cfa-1f01451326de",
   "metadata": {},
   "outputs": [
    {
     "data": {
      "text/plain": [
       "Christophe     6.0\n",
       "Clara          3.5\n",
       "Amine          6.5\n",
       "Amandine      12.5\n",
       "Lina           2.5\n",
       "Name: Moyenne, dtype: float64"
      ]
     },
     "execution_count": 88,
     "metadata": {},
     "output_type": "execute_result"
    }
   ],
   "source": [
    "notes[\"Moyenne\"]"
   ]
  },
  {
   "cell_type": "markdown",
   "id": "56908e1f-ebc9-446a-883b-c5e296279090",
   "metadata": {},
   "source": [
    "Autre façon de faire : mettre un point (**.**) + le nom de la colonne"
   ]
  },
  {
   "cell_type": "code",
   "execution_count": 87,
   "id": "d73b23a5-46fc-475e-85f8-e8198c0b027e",
   "metadata": {},
   "outputs": [
    {
     "data": {
      "text/plain": [
       "Christophe    3\n",
       "Clara         2\n",
       "Amine         1\n",
       "Amandine      8\n",
       "Lina          2\n",
       "Name: Maths, dtype: int32"
      ]
     },
     "execution_count": 87,
     "metadata": {},
     "output_type": "execute_result"
    }
   ],
   "source": [
    "notes.Maths"
   ]
  },
  {
   "cell_type": "markdown",
   "id": "aa84bc51-b656-4426-88d6-b1657c5d306c",
   "metadata": {},
   "source": [
    "### Sélection avec *iloc[]* :\n",
    "Les lignes et colonnes sont indéxées par des entiers partant de 0, comme dans un tableau bi-dimensionnel de Numpy"
   ]
  },
  {
   "cell_type": "code",
   "execution_count": 89,
   "id": "3f946b99-c1ee-4c31-a3d8-63248e35b6b4",
   "metadata": {},
   "outputs": [
    {
     "data": {
      "text/plain": [
       "Maths        1.0\n",
       "Physique    12.0\n",
       "Moyenne      6.5\n",
       "Name: Amine, dtype: float64"
      ]
     },
     "execution_count": 89,
     "metadata": {},
     "output_type": "execute_result"
    }
   ],
   "source": [
    "notes.iloc[2]"
   ]
  },
  {
   "cell_type": "markdown",
   "id": "646c159a-1ef4-49ee-9087-2935d96b3b2a",
   "metadata": {},
   "source": [
    "### Sélection avec *loc[]* qui prend deux listes en argument : \n",
    "La première liste contiendra les étiquettes des lignes à récupérer et la deuxième liste, les étiquettes des colonnes."
   ]
  },
  {
   "cell_type": "code",
   "execution_count": 90,
   "id": "56f4c37c-30af-48d4-b166-e06c76afe3a3",
   "metadata": {},
   "outputs": [
    {
     "data": {
      "text/html": [
       "<div>\n",
       "<style scoped>\n",
       "    .dataframe tbody tr th:only-of-type {\n",
       "        vertical-align: middle;\n",
       "    }\n",
       "\n",
       "    .dataframe tbody tr th {\n",
       "        vertical-align: top;\n",
       "    }\n",
       "\n",
       "    .dataframe thead th {\n",
       "        text-align: right;\n",
       "    }\n",
       "</style>\n",
       "<table border=\"1\" class=\"dataframe\">\n",
       "  <thead>\n",
       "    <tr style=\"text-align: right;\">\n",
       "      <th></th>\n",
       "      <th>Maths</th>\n",
       "      <th>Moyenne</th>\n",
       "    </tr>\n",
       "  </thead>\n",
       "  <tbody>\n",
       "    <tr>\n",
       "      <th>Christophe</th>\n",
       "      <td>3</td>\n",
       "      <td>6.0</td>\n",
       "    </tr>\n",
       "    <tr>\n",
       "      <th>Lina</th>\n",
       "      <td>2</td>\n",
       "      <td>2.5</td>\n",
       "    </tr>\n",
       "  </tbody>\n",
       "</table>\n",
       "</div>"
      ],
      "text/plain": [
       "            Maths  Moyenne\n",
       "Christophe      3      6.0\n",
       "Lina            2      2.5"
      ]
     },
     "execution_count": 90,
     "metadata": {},
     "output_type": "execute_result"
    }
   ],
   "source": [
    "\n",
    "notes.loc[[\"Christophe\", \"Lina\"], [\"Maths\", \"Moyenne\"]]"
   ]
  },
  {
   "cell_type": "markdown",
   "id": "c69d2821-b3af-4696-bb5b-775fcf82c0b1",
   "metadata": {},
   "source": [
    "## Sélection par tranche : \n",
    "**loc\\[**debut_ligne : fin_ligne, debut_colonne : fin_colonne**]** avec : \n",
    "- debut_ligne (fin_ligne) : l'étiquette par laquelle on souhaite débuter (terminer)\n",
    "- Si l'on veut toutes les lignes (toutes les colonnes) alors  : loc\\[    **:**    , debut_colonne : fin_colonne] (loc\\[debut_ligne : fin_ligne,    **:**   ]) "
   ]
  },
  {
   "cell_type": "code",
   "execution_count": 92,
   "id": "677ff767-24af-4099-9679-a080840d002d",
   "metadata": {},
   "outputs": [
    {
     "data": {
      "text/html": [
       "<div>\n",
       "<style scoped>\n",
       "    .dataframe tbody tr th:only-of-type {\n",
       "        vertical-align: middle;\n",
       "    }\n",
       "\n",
       "    .dataframe tbody tr th {\n",
       "        vertical-align: top;\n",
       "    }\n",
       "\n",
       "    .dataframe thead th {\n",
       "        text-align: right;\n",
       "    }\n",
       "</style>\n",
       "<table border=\"1\" class=\"dataframe\">\n",
       "  <thead>\n",
       "    <tr style=\"text-align: right;\">\n",
       "      <th></th>\n",
       "      <th>Physique</th>\n",
       "      <th>Moyenne</th>\n",
       "    </tr>\n",
       "  </thead>\n",
       "  <tbody>\n",
       "    <tr>\n",
       "      <th>Clara</th>\n",
       "      <td>5</td>\n",
       "      <td>3.5</td>\n",
       "    </tr>\n",
       "    <tr>\n",
       "      <th>Amine</th>\n",
       "      <td>12</td>\n",
       "      <td>6.5</td>\n",
       "    </tr>\n",
       "    <tr>\n",
       "      <th>Amandine</th>\n",
       "      <td>17</td>\n",
       "      <td>12.5</td>\n",
       "    </tr>\n",
       "  </tbody>\n",
       "</table>\n",
       "</div>"
      ],
      "text/plain": [
       "          Physique  Moyenne\n",
       "Clara            5      3.5\n",
       "Amine           12      6.5\n",
       "Amandine        17     12.5"
      ]
     },
     "execution_count": 92,
     "metadata": {},
     "output_type": "execute_result"
    }
   ],
   "source": [
    "notes.loc[\"Clara\" : \"Amandine\", \"Physique\" : \"Moyenne\"]"
   ]
  },
  {
   "cell_type": "code",
   "execution_count": 93,
   "id": "59a742b0-0e32-49f7-80f6-f42a97cf0555",
   "metadata": {},
   "outputs": [
    {
     "data": {
      "text/html": [
       "<div>\n",
       "<style scoped>\n",
       "    .dataframe tbody tr th:only-of-type {\n",
       "        vertical-align: middle;\n",
       "    }\n",
       "\n",
       "    .dataframe tbody tr th {\n",
       "        vertical-align: top;\n",
       "    }\n",
       "\n",
       "    .dataframe thead th {\n",
       "        text-align: right;\n",
       "    }\n",
       "</style>\n",
       "<table border=\"1\" class=\"dataframe\">\n",
       "  <thead>\n",
       "    <tr style=\"text-align: right;\">\n",
       "      <th></th>\n",
       "      <th>Maths</th>\n",
       "      <th>Physique</th>\n",
       "      <th>Moyenne</th>\n",
       "    </tr>\n",
       "  </thead>\n",
       "  <tbody>\n",
       "    <tr>\n",
       "      <th>Clara</th>\n",
       "      <td>2</td>\n",
       "      <td>5</td>\n",
       "      <td>3.5</td>\n",
       "    </tr>\n",
       "    <tr>\n",
       "      <th>Amine</th>\n",
       "      <td>1</td>\n",
       "      <td>12</td>\n",
       "      <td>6.5</td>\n",
       "    </tr>\n",
       "    <tr>\n",
       "      <th>Amandine</th>\n",
       "      <td>8</td>\n",
       "      <td>17</td>\n",
       "      <td>12.5</td>\n",
       "    </tr>\n",
       "  </tbody>\n",
       "</table>\n",
       "</div>"
      ],
      "text/plain": [
       "          Maths  Physique  Moyenne\n",
       "Clara         2         5      3.5\n",
       "Amine         1        12      6.5\n",
       "Amandine      8        17     12.5"
      ]
     },
     "execution_count": 93,
     "metadata": {},
     "output_type": "execute_result"
    }
   ],
   "source": [
    "notes.loc[\"Clara\" : \"Amandine\", : ]"
   ]
  },
  {
   "cell_type": "code",
   "execution_count": 94,
   "id": "e8ab805e-9a16-47ab-955b-6249ed66a829",
   "metadata": {},
   "outputs": [
    {
     "data": {
      "text/html": [
       "<div>\n",
       "<style scoped>\n",
       "    .dataframe tbody tr th:only-of-type {\n",
       "        vertical-align: middle;\n",
       "    }\n",
       "\n",
       "    .dataframe tbody tr th {\n",
       "        vertical-align: top;\n",
       "    }\n",
       "\n",
       "    .dataframe thead th {\n",
       "        text-align: right;\n",
       "    }\n",
       "</style>\n",
       "<table border=\"1\" class=\"dataframe\">\n",
       "  <thead>\n",
       "    <tr style=\"text-align: right;\">\n",
       "      <th></th>\n",
       "      <th>Physique</th>\n",
       "      <th>Moyenne</th>\n",
       "    </tr>\n",
       "  </thead>\n",
       "  <tbody>\n",
       "    <tr>\n",
       "      <th>Christophe</th>\n",
       "      <td>9</td>\n",
       "      <td>6.0</td>\n",
       "    </tr>\n",
       "    <tr>\n",
       "      <th>Clara</th>\n",
       "      <td>5</td>\n",
       "      <td>3.5</td>\n",
       "    </tr>\n",
       "    <tr>\n",
       "      <th>Amine</th>\n",
       "      <td>12</td>\n",
       "      <td>6.5</td>\n",
       "    </tr>\n",
       "    <tr>\n",
       "      <th>Amandine</th>\n",
       "      <td>17</td>\n",
       "      <td>12.5</td>\n",
       "    </tr>\n",
       "    <tr>\n",
       "      <th>Lina</th>\n",
       "      <td>3</td>\n",
       "      <td>2.5</td>\n",
       "    </tr>\n",
       "  </tbody>\n",
       "</table>\n",
       "</div>"
      ],
      "text/plain": [
       "            Physique  Moyenne\n",
       "Christophe         9      6.0\n",
       "Clara              5      3.5\n",
       "Amine             12      6.5\n",
       "Amandine          17     12.5\n",
       "Lina               3      2.5"
      ]
     },
     "execution_count": 94,
     "metadata": {},
     "output_type": "execute_result"
    }
   ],
   "source": [
    "notes.loc[ : , \"Physique\" : \"Moyenne\"]"
   ]
  },
  {
   "cell_type": "code",
   "execution_count": 96,
   "id": "b980fc44-e124-4209-925a-3e70a190e944",
   "metadata": {},
   "outputs": [
    {
     "data": {
      "text/html": [
       "<div>\n",
       "<style scoped>\n",
       "    .dataframe tbody tr th:only-of-type {\n",
       "        vertical-align: middle;\n",
       "    }\n",
       "\n",
       "    .dataframe tbody tr th {\n",
       "        vertical-align: top;\n",
       "    }\n",
       "\n",
       "    .dataframe thead th {\n",
       "        text-align: right;\n",
       "    }\n",
       "</style>\n",
       "<table border=\"1\" class=\"dataframe\">\n",
       "  <thead>\n",
       "    <tr style=\"text-align: right;\">\n",
       "      <th></th>\n",
       "      <th>Maths</th>\n",
       "      <th>Physique</th>\n",
       "      <th>Moyenne</th>\n",
       "    </tr>\n",
       "  </thead>\n",
       "  <tbody>\n",
       "    <tr>\n",
       "      <th>Clara</th>\n",
       "      <td>2</td>\n",
       "      <td>5</td>\n",
       "      <td>3.5</td>\n",
       "    </tr>\n",
       "    <tr>\n",
       "      <th>Amine</th>\n",
       "      <td>1</td>\n",
       "      <td>12</td>\n",
       "      <td>6.5</td>\n",
       "    </tr>\n",
       "    <tr>\n",
       "      <th>Amandine</th>\n",
       "      <td>8</td>\n",
       "      <td>17</td>\n",
       "      <td>12.5</td>\n",
       "    </tr>\n",
       "    <tr>\n",
       "      <th>Lina</th>\n",
       "      <td>2</td>\n",
       "      <td>3</td>\n",
       "      <td>2.5</td>\n",
       "    </tr>\n",
       "  </tbody>\n",
       "</table>\n",
       "</div>"
      ],
      "text/plain": [
       "          Maths  Physique  Moyenne\n",
       "Clara         2         5      3.5\n",
       "Amine         1        12      6.5\n",
       "Amandine      8        17     12.5\n",
       "Lina          2         3      2.5"
      ]
     },
     "execution_count": 96,
     "metadata": {},
     "output_type": "execute_result"
    }
   ],
   "source": [
    "notes.loc[\"Clara\" : ,  : \"Moyenne\"]"
   ]
  },
  {
   "cell_type": "markdown",
   "id": "75dd4604-d257-4415-b314-a4e673655921",
   "metadata": {},
   "source": [
    "#### Remarques : On peut séléctionner par tranche avec ***iloc[]***, cette fois les entiers (à partir de 0) idexeront les lignes et les colonnes."
   ]
  },
  {
   "cell_type": "markdown",
   "id": "8b05e01b-82e9-4211-814a-d7a07a67f855",
   "metadata": {},
   "source": [
    "## Sélection Conditionnelle"
   ]
  },
  {
   "cell_type": "markdown",
   "id": "1d80379d-035d-4978-adc0-0d19c3e3a75a",
   "metadata": {},
   "source": [
    "#### Cas 1 : un tableau bi_dimensionnel des valeurs booléens dans lesquel une cellule est **True** si la valeur vérifie la condition et **False** sinon. "
   ]
  },
  {
   "cell_type": "code",
   "execution_count": 97,
   "id": "dfb2bbfa-d5a3-452f-b325-ced2379aeb9c",
   "metadata": {},
   "outputs": [
    {
     "data": {
      "text/html": [
       "<div>\n",
       "<style scoped>\n",
       "    .dataframe tbody tr th:only-of-type {\n",
       "        vertical-align: middle;\n",
       "    }\n",
       "\n",
       "    .dataframe tbody tr th {\n",
       "        vertical-align: top;\n",
       "    }\n",
       "\n",
       "    .dataframe thead th {\n",
       "        text-align: right;\n",
       "    }\n",
       "</style>\n",
       "<table border=\"1\" class=\"dataframe\">\n",
       "  <thead>\n",
       "    <tr style=\"text-align: right;\">\n",
       "      <th></th>\n",
       "      <th>Maths</th>\n",
       "      <th>Physique</th>\n",
       "      <th>Moyenne</th>\n",
       "    </tr>\n",
       "  </thead>\n",
       "  <tbody>\n",
       "    <tr>\n",
       "      <th>Christophe</th>\n",
       "      <td>False</td>\n",
       "      <td>False</td>\n",
       "      <td>False</td>\n",
       "    </tr>\n",
       "    <tr>\n",
       "      <th>Clara</th>\n",
       "      <td>False</td>\n",
       "      <td>False</td>\n",
       "      <td>False</td>\n",
       "    </tr>\n",
       "    <tr>\n",
       "      <th>Amine</th>\n",
       "      <td>False</td>\n",
       "      <td>True</td>\n",
       "      <td>False</td>\n",
       "    </tr>\n",
       "    <tr>\n",
       "      <th>Amandine</th>\n",
       "      <td>False</td>\n",
       "      <td>True</td>\n",
       "      <td>True</td>\n",
       "    </tr>\n",
       "    <tr>\n",
       "      <th>Lina</th>\n",
       "      <td>False</td>\n",
       "      <td>False</td>\n",
       "      <td>False</td>\n",
       "    </tr>\n",
       "  </tbody>\n",
       "</table>\n",
       "</div>"
      ],
      "text/plain": [
       "            Maths  Physique  Moyenne\n",
       "Christophe  False     False    False\n",
       "Clara       False     False    False\n",
       "Amine       False      True    False\n",
       "Amandine    False      True     True\n",
       "Lina        False     False    False"
      ]
     },
     "execution_count": 97,
     "metadata": {},
     "output_type": "execute_result"
    }
   ],
   "source": [
    "notes > 10"
   ]
  },
  {
   "cell_type": "markdown",
   "id": "c7d23deb-73a4-457c-8c9a-694ee30423df",
   "metadata": {},
   "source": [
    "#### Cas 2 :  On souhaite récupérer (afficher) les valeurs vérifiant condition (**NaN** lorsqu'elle n'est pas vérifiée)"
   ]
  },
  {
   "cell_type": "code",
   "execution_count": 99,
   "id": "eac366ad-b4a5-4620-8cdb-26d7ab97788d",
   "metadata": {},
   "outputs": [
    {
     "data": {
      "text/html": [
       "<div>\n",
       "<style scoped>\n",
       "    .dataframe tbody tr th:only-of-type {\n",
       "        vertical-align: middle;\n",
       "    }\n",
       "\n",
       "    .dataframe tbody tr th {\n",
       "        vertical-align: top;\n",
       "    }\n",
       "\n",
       "    .dataframe thead th {\n",
       "        text-align: right;\n",
       "    }\n",
       "</style>\n",
       "<table border=\"1\" class=\"dataframe\">\n",
       "  <thead>\n",
       "    <tr style=\"text-align: right;\">\n",
       "      <th></th>\n",
       "      <th>Maths</th>\n",
       "      <th>Physique</th>\n",
       "      <th>Moyenne</th>\n",
       "    </tr>\n",
       "  </thead>\n",
       "  <tbody>\n",
       "    <tr>\n",
       "      <th>Christophe</th>\n",
       "      <td>NaN</td>\n",
       "      <td>NaN</td>\n",
       "      <td>NaN</td>\n",
       "    </tr>\n",
       "    <tr>\n",
       "      <th>Clara</th>\n",
       "      <td>NaN</td>\n",
       "      <td>NaN</td>\n",
       "      <td>NaN</td>\n",
       "    </tr>\n",
       "    <tr>\n",
       "      <th>Amine</th>\n",
       "      <td>NaN</td>\n",
       "      <td>12.0</td>\n",
       "      <td>NaN</td>\n",
       "    </tr>\n",
       "    <tr>\n",
       "      <th>Amandine</th>\n",
       "      <td>NaN</td>\n",
       "      <td>17.0</td>\n",
       "      <td>12.5</td>\n",
       "    </tr>\n",
       "    <tr>\n",
       "      <th>Lina</th>\n",
       "      <td>NaN</td>\n",
       "      <td>NaN</td>\n",
       "      <td>NaN</td>\n",
       "    </tr>\n",
       "  </tbody>\n",
       "</table>\n",
       "</div>"
      ],
      "text/plain": [
       "            Maths  Physique  Moyenne\n",
       "Christophe    NaN       NaN      NaN\n",
       "Clara         NaN       NaN      NaN\n",
       "Amine         NaN      12.0      NaN\n",
       "Amandine      NaN      17.0     12.5\n",
       "Lina          NaN       NaN      NaN"
      ]
     },
     "execution_count": 99,
     "metadata": {},
     "output_type": "execute_result"
    }
   ],
   "source": [
    "notes[notes > 10]"
   ]
  },
  {
   "cell_type": "markdown",
   "id": "5e04073f-4894-442b-89c4-6b0b539bf8aa",
   "metadata": {},
   "source": [
    "#### Cas 3 : Condition uni-dimensionnel (colonne)\n"
   ]
  },
  {
   "cell_type": "code",
   "execution_count": 100,
   "id": "1936120f-1f86-40a3-b5a6-93b3eb02cb83",
   "metadata": {},
   "outputs": [
    {
     "data": {
      "text/plain": [
       "Christophe    False\n",
       "Clara         False\n",
       "Amine          True\n",
       "Amandine       True\n",
       "Lina          False\n",
       "Name: Physique, dtype: bool"
      ]
     },
     "execution_count": 100,
     "metadata": {},
     "output_type": "execute_result"
    }
   ],
   "source": [
    "notes[\"Physique\"] > 10"
   ]
  },
  {
   "cell_type": "code",
   "execution_count": 102,
   "id": "ebd79500-a540-4fe8-9022-20a25a28c7b8",
   "metadata": {},
   "outputs": [
    {
     "data": {
      "text/html": [
       "<div>\n",
       "<style scoped>\n",
       "    .dataframe tbody tr th:only-of-type {\n",
       "        vertical-align: middle;\n",
       "    }\n",
       "\n",
       "    .dataframe tbody tr th {\n",
       "        vertical-align: top;\n",
       "    }\n",
       "\n",
       "    .dataframe thead th {\n",
       "        text-align: right;\n",
       "    }\n",
       "</style>\n",
       "<table border=\"1\" class=\"dataframe\">\n",
       "  <thead>\n",
       "    <tr style=\"text-align: right;\">\n",
       "      <th></th>\n",
       "      <th>Maths</th>\n",
       "      <th>Physique</th>\n",
       "      <th>Moyenne</th>\n",
       "    </tr>\n",
       "  </thead>\n",
       "  <tbody>\n",
       "    <tr>\n",
       "      <th>Amine</th>\n",
       "      <td>1</td>\n",
       "      <td>12</td>\n",
       "      <td>6.5</td>\n",
       "    </tr>\n",
       "    <tr>\n",
       "      <th>Amandine</th>\n",
       "      <td>8</td>\n",
       "      <td>17</td>\n",
       "      <td>12.5</td>\n",
       "    </tr>\n",
       "  </tbody>\n",
       "</table>\n",
       "</div>"
      ],
      "text/plain": [
       "          Maths  Physique  Moyenne\n",
       "Amine         1        12      6.5\n",
       "Amandine      8        17     12.5"
      ]
     },
     "execution_count": 102,
     "metadata": {},
     "output_type": "execute_result"
    }
   ],
   "source": [
    "notes[notes[\"Physique\"] > 10]"
   ]
  },
  {
   "cell_type": "markdown",
   "id": "e3c63a05-23c2-43d8-b784-e5ab1aebacfc",
   "metadata": {},
   "source": [
    "#### **Remarque** : Les lignes ne vérifiant pas la codition sont ignorées."
   ]
  },
  {
   "cell_type": "markdown",
   "id": "11ccce86-154b-41c7-905f-9f3ab0f75be5",
   "metadata": {},
   "source": [
    "#### Cas 4 : Afficher une colonne pour laquelle une condition sur une autre colonne a été satisfaite: \n",
    "Afficher la note en 'Maths' des étudiants, uniquement s'ils ont une moyenne **supérieure ou égale à 10**\n",
    "(Premier filtre sur la moyenne et ensuite on affiche uniquement la colonne 'Maths')"
   ]
  },
  {
   "cell_type": "code",
   "execution_count": 103,
   "id": "7e6b4b7c-36f5-442d-9965-8855c641c30e",
   "metadata": {},
   "outputs": [
    {
     "data": {
      "text/plain": [
       "Amandine    8\n",
       "Name: Maths, dtype: int32"
      ]
     },
     "execution_count": 103,
     "metadata": {},
     "output_type": "execute_result"
    }
   ],
   "source": [
    "notes[notes[\"Moyenne\"] >= 10][\"Maths\"]"
   ]
  },
  {
   "cell_type": "markdown",
   "id": "f4f05918-ebd3-4034-917d-e25abe2a3d63",
   "metadata": {},
   "source": [
    "##### Pour un meilleur rendu de l'affichage il est conseillé de mettre la deuxième étique de la colonne dans une liste (ici \"Maths\") "
   ]
  },
  {
   "cell_type": "code",
   "execution_count": 104,
   "id": "167a60eb-8b3e-41bf-bc1f-50fa4bb4e4ac",
   "metadata": {},
   "outputs": [
    {
     "data": {
      "text/html": [
       "<div>\n",
       "<style scoped>\n",
       "    .dataframe tbody tr th:only-of-type {\n",
       "        vertical-align: middle;\n",
       "    }\n",
       "\n",
       "    .dataframe tbody tr th {\n",
       "        vertical-align: top;\n",
       "    }\n",
       "\n",
       "    .dataframe thead th {\n",
       "        text-align: right;\n",
       "    }\n",
       "</style>\n",
       "<table border=\"1\" class=\"dataframe\">\n",
       "  <thead>\n",
       "    <tr style=\"text-align: right;\">\n",
       "      <th></th>\n",
       "      <th>Maths</th>\n",
       "    </tr>\n",
       "  </thead>\n",
       "  <tbody>\n",
       "    <tr>\n",
       "      <th>Amandine</th>\n",
       "      <td>8</td>\n",
       "    </tr>\n",
       "  </tbody>\n",
       "</table>\n",
       "</div>"
      ],
      "text/plain": [
       "          Maths\n",
       "Amandine      8"
      ]
     },
     "execution_count": 104,
     "metadata": {},
     "output_type": "execute_result"
    }
   ],
   "source": [
    "notes[notes[\"Moyenne\"] >= 10][[\"Maths\"]]"
   ]
  },
  {
   "cell_type": "markdown",
   "id": "25dd38f7-0b64-4a8e-88aa-300a49327e3a",
   "metadata": {},
   "source": [
    "#### Cas 5 :  Afficher plusieurs colonnes pour laquelle une condition sur une autre colonne a été satisfaite : \n",
    "On rajoute les étiquettes des colonnes souhaitées dans la liste du deuxième crochet."
   ]
  },
  {
   "cell_type": "code",
   "execution_count": 105,
   "id": "1e34363c-f4ad-4a74-acce-6ae0d348f3f3",
   "metadata": {},
   "outputs": [
    {
     "data": {
      "text/html": [
       "<div>\n",
       "<style scoped>\n",
       "    .dataframe tbody tr th:only-of-type {\n",
       "        vertical-align: middle;\n",
       "    }\n",
       "\n",
       "    .dataframe tbody tr th {\n",
       "        vertical-align: top;\n",
       "    }\n",
       "\n",
       "    .dataframe thead th {\n",
       "        text-align: right;\n",
       "    }\n",
       "</style>\n",
       "<table border=\"1\" class=\"dataframe\">\n",
       "  <thead>\n",
       "    <tr style=\"text-align: right;\">\n",
       "      <th></th>\n",
       "      <th>Physique</th>\n",
       "      <th>Maths</th>\n",
       "    </tr>\n",
       "  </thead>\n",
       "  <tbody>\n",
       "    <tr>\n",
       "      <th>Amandine</th>\n",
       "      <td>17</td>\n",
       "      <td>8</td>\n",
       "    </tr>\n",
       "  </tbody>\n",
       "</table>\n",
       "</div>"
      ],
      "text/plain": [
       "          Physique  Maths\n",
       "Amandine        17      8"
      ]
     },
     "execution_count": 105,
     "metadata": {},
     "output_type": "execute_result"
    }
   ],
   "source": [
    "notes[notes[\"Moyenne\"] >= 10][[\"Physique\", \"Maths\"]]"
   ]
  }
 ],
 "metadata": {
  "kernelspec": {
   "display_name": "Python [conda env:base] *",
   "language": "python",
   "name": "conda-base-py"
  },
  "language_info": {
   "codemirror_mode": {
    "name": "ipython",
    "version": 3
   },
   "file_extension": ".py",
   "mimetype": "text/x-python",
   "name": "python",
   "nbconvert_exporter": "python",
   "pygments_lexer": "ipython3",
   "version": "3.12.7"
  }
 },
 "nbformat": 4,
 "nbformat_minor": 5
}
