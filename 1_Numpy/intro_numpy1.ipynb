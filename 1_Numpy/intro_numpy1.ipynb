{
 "cells": [
  {
   "cell_type": "markdown",
   "id": "f9a4b67e-03f7-4951-a9ff-5ccb7f76ab87",
   "metadata": {},
   "source": [
    "# Structure des données *Liste* (classique) de Python"
   ]
  },
  {
   "cell_type": "code",
   "execution_count": 2,
   "id": "2198811d-3136-409f-a118-eb4e23e703c8",
   "metadata": {},
   "outputs": [],
   "source": [
    "my_list = [1, 2, 3]"
   ]
  },
  {
   "cell_type": "code",
   "execution_count": 3,
   "id": "02d76da8-8cd7-469e-ab31-2aa411d42c5e",
   "metadata": {},
   "outputs": [
    {
     "data": {
      "text/plain": [
       "[1, 2, 3]"
      ]
     },
     "execution_count": 3,
     "metadata": {},
     "output_type": "execute_result"
    }
   ],
   "source": [
    "my_list"
   ]
  },
  {
   "cell_type": "markdown",
   "id": "92c7d05d-c1dc-4c3c-9242-a034813506e5",
   "metadata": {},
   "source": [
    "# Utilisation du module Numpy"
   ]
  },
  {
   "cell_type": "code",
   "execution_count": 1,
   "id": "4c38de70-3ddd-44ef-8606-7bb902f42c58",
   "metadata": {},
   "outputs": [],
   "source": [
    "import numpy as np"
   ]
  },
  {
   "cell_type": "code",
   "execution_count": 5,
   "id": "05b2030a-234e-4041-af83-0af8613ba20b",
   "metadata": {},
   "outputs": [
    {
     "data": {
      "text/plain": [
       "array([1, 2, 3])"
      ]
     },
     "execution_count": 5,
     "metadata": {},
     "output_type": "execute_result"
    }
   ],
   "source": [
    "np.array(my_list)"
   ]
  },
  {
   "cell_type": "markdown",
   "id": "62611925-4261-4d9a-b15c-44b316bcf03d",
   "metadata": {},
   "source": [
    "La méthode Array() convertit un objet séquentiel (préférablement d'éléments de même type) en un tableau Numpy"
   ]
  },
  {
   "cell_type": "code",
   "execution_count": 6,
   "id": "dc5493cc-fb8b-450e-81d3-1eaeed8a533d",
   "metadata": {},
   "outputs": [],
   "source": [
    "tab = np.array(my_list)"
   ]
  },
  {
   "cell_type": "code",
   "execution_count": 7,
   "id": "3ca13bcc-2ddd-4859-9564-cadf1c962826",
   "metadata": {},
   "outputs": [
    {
     "data": {
      "text/plain": [
       "array([1, 2, 3])"
      ]
     },
     "execution_count": 7,
     "metadata": {},
     "output_type": "execute_result"
    }
   ],
   "source": [
    "tab"
   ]
  },
  {
   "cell_type": "code",
   "execution_count": 8,
   "id": "876add7b-b083-48b6-9490-5875c3b79a03",
   "metadata": {},
   "outputs": [
    {
     "data": {
      "text/plain": [
       "numpy.ndarray"
      ]
     },
     "execution_count": 8,
     "metadata": {},
     "output_type": "execute_result"
    }
   ],
   "source": [
    "type(tab)"
   ]
  },
  {
   "cell_type": "markdown",
   "id": "e58bc667-79f7-4ec8-a3a9-5e5928ca113e",
   "metadata": {},
   "source": [
    "ndarray : nd (n - dimensional) array"
   ]
  },
  {
   "cell_type": "markdown",
   "id": "d155cf6d-85b9-41bb-a82d-e170ca08b8c6",
   "metadata": {},
   "source": [
    "## Liste d'éléments de type différent"
   ]
  },
  {
   "cell_type": "code",
   "execution_count": 11,
   "id": "caf3c5c6-d878-407e-b294-7f88f507957f",
   "metadata": {},
   "outputs": [
    {
     "name": "stdout",
     "output_type": "stream",
     "text": [
      "<class 'int'>\n",
      "<class 'float'>\n",
      "<class 'str'>\n"
     ]
    }
   ],
   "source": [
    "liste1 = [1, 2.0, \"Justine\"]\n",
    "for item in liste1 :\n",
    "    print(type(item))"
   ]
  },
  {
   "cell_type": "code",
   "execution_count": 15,
   "id": "f3626e0e-f58b-4b02-8062-eb0d7309f3f3",
   "metadata": {},
   "outputs": [
    {
     "data": {
      "text/plain": [
       "array(['1', '2.0', 'Justine'], dtype='<U32')"
      ]
     },
     "execution_count": 15,
     "metadata": {},
     "output_type": "execute_result"
    }
   ],
   "source": [
    "tab1 = np.array(liste1)\n",
    "tab1"
   ]
  },
  {
   "cell_type": "markdown",
   "id": "2edbe8cb-10cb-4a5a-ae26-ce69edbe5e35",
   "metadata": {},
   "source": [
    "Numpy crée un tableau d'éléements de même type en prennant le type le plus général possible (parmi les types d'éléments dans la liste)"
   ]
  },
  {
   "cell_type": "code",
   "execution_count": 16,
   "id": "2fef55cb-e4c6-4023-808e-5455956f7577",
   "metadata": {},
   "outputs": [
    {
     "data": {
      "text/plain": [
       "array([1., 1., 2.])"
      ]
     },
     "execution_count": 16,
     "metadata": {},
     "output_type": "execute_result"
    }
   ],
   "source": [
    "tab2 = np.array([1, True, 2.0])\n",
    "tab2"
   ]
  },
  {
   "cell_type": "markdown",
   "id": "a9a63116-fe3d-41b4-999d-74ca3ba87353",
   "metadata": {},
   "source": [
    "Ci dessus le type le plus général est le float et \"True\" (variable binaire) est convertit à 1.0 (False étant 0.0)"
   ]
  },
  {
   "cell_type": "markdown",
   "id": "4229ae61-ab97-4d39-88c3-f433d00e5c49",
   "metadata": {},
   "source": [
    "# Les Tableaux Bi- dimensionnel (matrices)"
   ]
  },
  {
   "cell_type": "code",
   "execution_count": 17,
   "id": "37ad6c5b-1179-4ee5-aa80-316e8c0c65cf",
   "metadata": {},
   "outputs": [
    {
     "data": {
      "text/plain": [
       "[[1, 3, 7], [2, 4, 6], [9, 11, 13]]"
      ]
     },
     "execution_count": 17,
     "metadata": {},
     "output_type": "execute_result"
    }
   ],
   "source": [
    "liste3 = [[1, 3, 7], [2, 4, 6], [9, 11, 13]]\n",
    "liste3"
   ]
  },
  {
   "cell_type": "code",
   "execution_count": 21,
   "id": "922a84d0-487c-4c39-a536-c16f3b051059",
   "metadata": {},
   "outputs": [
    {
     "name": "stdout",
     "output_type": "stream",
     "text": [
      "<class 'list'>\n",
      "<class 'numpy.ndarray'>\n"
     ]
    }
   ],
   "source": [
    "matrice = np.array(liste3)\n",
    "matrice\n",
    "print(type(liste3))\n",
    "print(type(matrice))"
   ]
  },
  {
   "cell_type": "markdown",
   "id": "41205ebb-952b-4a96-953e-2711b9111191",
   "metadata": {},
   "source": [
    "**Remarques** : \n",
    "\n",
    "    1. liste3 est une liste python, d'éléments étant également des liste\n",
    "    \n",
    "    2. matrice est un objet Numpy (array de 2 dimensions)\n",
    "\n",
    "    3. pour créer une matrice cohérente, les listes constituant la matrice (en ligne) doivent avoir le même nombre d'élément\n",
    "\n",
    "    4. La matrice créée est de taille (dimension) n x p où : \n",
    "        - n : nombre des lignes (listes)\n",
    "        - p : nombre des colonnes (nombre d'éléments d'une des listes constituant la matrice)"
   ]
  },
  {
   "cell_type": "markdown",
   "id": "0a7e5a46-bff7-49b4-8eb0-f5db82995b53",
   "metadata": {},
   "source": [
    "# Méthode : arange()"
   ]
  },
  {
   "cell_type": "code",
   "execution_count": 25,
   "id": "71047a81-bc12-4408-a2b4-1186c5d4d9aa",
   "metadata": {},
   "outputs": [
    {
     "data": {
      "text/plain": [
       "array([0, 1, 2, 3, 4, 5, 6, 7, 8, 9])"
      ]
     },
     "execution_count": 25,
     "metadata": {},
     "output_type": "execute_result"
    }
   ],
   "source": [
    "tab3 = np.arange(10)\n",
    "tab3"
   ]
  },
  {
   "cell_type": "markdown",
   "id": "79a20de6-7b42-4266-a4f6-50c5992b4647",
   "metadata": {},
   "source": [
    "arange(n) : crée un tableau Numpy uni-dimensionnel d'entiers de 0 à n exclu (de 0 à n-1)"
   ]
  },
  {
   "cell_type": "code",
   "execution_count": 26,
   "id": "660cf99a-c4be-4e10-ad11-6b648c06b480",
   "metadata": {},
   "outputs": [
    {
     "data": {
      "text/plain": [
       "array([ 5. ,  7.5, 10. , 12.5, 15. , 17.5, 20. , 22.5, 25. , 27.5, 30. ,\n",
       "       32.5, 35. , 37.5, 40. , 42.5, 45. , 47.5])"
      ]
     },
     "execution_count": 26,
     "metadata": {},
     "output_type": "execute_result"
    }
   ],
   "source": [
    "tab4 = np.arange(5, 50, 2.5)\n",
    "tab4"
   ]
  },
  {
   "cell_type": "markdown",
   "id": "31cd2f7b-033a-4915-bc47-1dd5b1ad3643",
   "metadata": {},
   "source": [
    "arange(start, stop, step) : crée un tableau d'éléments allant de **start** à **stop** exclut, avec un pas d'incrémentation de **step**"
   ]
  },
  {
   "cell_type": "code",
   "execution_count": 29,
   "id": "bb22e580-bef4-48f0-929b-c63e4340f349",
   "metadata": {
    "scrolled": true
   },
   "outputs": [
    {
     "data": {
      "text/plain": [
       "array([20, 18, 16, 14, 12, 10])"
      ]
     },
     "execution_count": 29,
     "metadata": {},
     "output_type": "execute_result"
    }
   ],
   "source": [
    "np.arange(20, 9, -2)"
   ]
  },
  {
   "cell_type": "markdown",
   "id": "40c1269d-e36d-4e3f-83f8-78ec9c1a83b5",
   "metadata": {},
   "source": [
    "marche aussi avec un **pas** négatif **(start > stop)**"
   ]
  },
  {
   "cell_type": "markdown",
   "id": "d636dbc5-98e2-4ba0-862b-433df6899e06",
   "metadata": {},
   "source": [
    "# Attribut : shape"
   ]
  },
  {
   "cell_type": "code",
   "execution_count": null,
   "id": "3c252ef1-64d9-45fe-9314-7e91c697e2c2",
   "metadata": {},
   "outputs": [
    {
     "name": "stdout",
     "output_type": "stream",
     "text": [
      "(3, 3)\n"
     ]
    }
   ],
   "source": [
    "tab = np.array([[1, 3, 5], [2, 4, 6], [7, 9, 11]])\n",
    "tab\n",
    "print(tab.shape)"
   ]
  },
  {
   "cell_type": "markdown",
   "id": "3616a6e3-67b1-4fa1-a456-11d6f7de7471",
   "metadata": {},
   "source": [
    "***shape*** est un attribut de la classe (module) Numpy, il indique la dimension de l'objet"
   ]
  },
  {
   "cell_type": "markdown",
   "id": "8006dcb1-1218-432a-874f-0d7a5b62cbba",
   "metadata": {},
   "source": [
    "# Méthodes : reshape() et resize()"
   ]
  },
  {
   "cell_type": "code",
   "execution_count": 4,
   "id": "ed57a8f7-941e-4173-97ab-fda356be6796",
   "metadata": {},
   "outputs": [
    {
     "data": {
      "text/plain": [
       "array([ 0,  1,  2,  3,  4,  5,  6,  7,  8,  9, 10, 11])"
      ]
     },
     "execution_count": 4,
     "metadata": {},
     "output_type": "execute_result"
    }
   ],
   "source": [
    "tab5 = np.arange(12)\n",
    "tab5"
   ]
  },
  {
   "cell_type": "code",
   "execution_count": 5,
   "id": "3e92a58a-7bb2-40c8-93b9-ab59e44eeaa1",
   "metadata": {},
   "outputs": [
    {
     "data": {
      "text/plain": [
       "array([[ 0,  1,  2,  3],\n",
       "       [ 4,  5,  6,  7],\n",
       "       [ 8,  9, 10, 11]])"
      ]
     },
     "execution_count": 5,
     "metadata": {},
     "output_type": "execute_result"
    }
   ],
   "source": [
    "mat1 = tab5.reshape((3, 4))\n",
    "mat1"
   ]
  },
  {
   "cell_type": "markdown",
   "id": "6564f9de-0e16-488d-b6dd-6b7082689e2d",
   "metadata": {},
   "source": [
    "**Remarques:**\n",
    "\n",
    "1. la méthode reshape() est appelée sur un objet du module Numpy (comme en Programmation Orientée Objet)\n",
    "2. cette méthode prend un seul argument : un tuple (a, b) où a est le nombre des lignes et b, des colonnes\n",
    "3. il est crucial que le produit a x b soit égale à la taille du vecteur (uni-dimensionnel) de départ (ici tab5)\n",
    "4. La méthode reshape() crée un nouveau tableau sans modifier l'original\n",
    "   "
   ]
  },
  {
   "cell_type": "code",
   "execution_count": 16,
   "id": "97736969-082a-4e1c-af24-44ee31cb76d6",
   "metadata": {},
   "outputs": [
    {
     "data": {
      "text/plain": [
       "array([[1, 3, 5],\n",
       "       [2, 4, 6]])"
      ]
     },
     "execution_count": 16,
     "metadata": {},
     "output_type": "execute_result"
    }
   ],
   "source": [
    "tab.resize((2, 3), refcheck = False)\n",
    "tab"
   ]
  },
  {
   "cell_type": "markdown",
   "id": "ecf441a8-689d-48bc-867b-c66a33dafa5c",
   "metadata": {},
   "source": [
    "**Remarques :**\n",
    "\n",
    "1. la méthode resize() est appelée sur un objet Numpy\n",
    "2. cette méthode prend en argument un tuple et refcheck = False\n",
    "3. refcheck permet de vérifier toutes les références (utilisations) à l'objet avant de le modifier\n",
    "4. contrairement à reshape(), la méthode resize() modifie le tableau initial\n",
    "5. le tuple (a, b) en premier argument n'est pas contraint au produit a x b égale à la taille du tableau initial\n",
    "6. Si a x b est inférieur au tableau initial alors certains éléments seront supprimés\n",
    "7. si le produit est supérieur à la dimension du tableau original alors, ce dernier sera complété avec des valeurs par défaut (comme 0 pour un tableau d'éléments entiers)\n"
   ]
  },
  {
   "cell_type": "markdown",
   "id": "1f25e02b-04dd-4e31-ba33-9e36033a607b",
   "metadata": {},
   "source": [
    "# Autre méthode resize() : np.resize()"
   ]
  },
  {
   "cell_type": "code",
   "execution_count": 20,
   "id": "2cd1e73e-2a4b-4291-8cb7-7d2bf3103309",
   "metadata": {},
   "outputs": [
    {
     "data": {
      "text/plain": [
       "array([[0, 1, 2, 3, 4, 5, 0, 1],\n",
       "       [2, 3, 4, 5, 0, 1, 2, 3],\n",
       "       [4, 5, 0, 1, 2, 3, 4, 5],\n",
       "       [0, 1, 2, 3, 4, 5, 0, 1],\n",
       "       [2, 3, 4, 5, 0, 1, 2, 3],\n",
       "       [4, 5, 0, 1, 2, 3, 4, 5]])"
      ]
     },
     "execution_count": 20,
     "metadata": {},
     "output_type": "execute_result"
    }
   ],
   "source": [
    "tab = np.arange(6)\n",
    "mat2 = np.resize(tab, (6,8))\n",
    "mat2"
   ]
  },
  {
   "cell_type": "markdown",
   "id": "a9ad69f0-e8de-4216-918e-e63656d93def",
   "metadata": {},
   "source": [
    "# **Remarques :**\n",
    "\n",
    "1. Ici l'appelle est faite avec l'alias ***np*** de Numpy\n",
    "2. en argument, le tableau (vecteur) initial et le tuple (dimension souhaitée)\n",
    "3. le tableau initial n'est pas modifié (similaire à la méthode reshape() vu précédemmennt)\n",
    "4. si la dimension souhaitée est plus grande que la taille du vecteur initial alors le remplissage du nouveau tableau sera fait avec des valeurs du tableau initial au risque de répétions\n"
   ]
  },
  {
   "cell_type": "markdown",
   "id": "b252fe83-4912-40b4-9486-c6d72a341700",
   "metadata": {},
   "source": [
    "# Construction automatique des tableaux remarquables"
   ]
  },
  {
   "cell_type": "markdown",
   "id": "a11eec21-05f4-45a4-9c42-d79d05c55bf5",
   "metadata": {},
   "source": [
    "## Le vecteur nul et la matrice nulle (float)"
   ]
  },
  {
   "cell_type": "code",
   "execution_count": 21,
   "id": "8954e50f-57bb-49cb-994c-54c628a95706",
   "metadata": {},
   "outputs": [
    {
     "data": {
      "text/plain": [
       "array([0., 0., 0., 0., 0.])"
      ]
     },
     "execution_count": 21,
     "metadata": {},
     "output_type": "execute_result"
    }
   ],
   "source": [
    "np.zeros(5)"
   ]
  },
  {
   "cell_type": "code",
   "execution_count": 22,
   "id": "eee62262-22ab-4225-9f2b-b8dd1737eeba",
   "metadata": {},
   "outputs": [
    {
     "data": {
      "text/plain": [
       "array([[0., 0., 0., 0.],\n",
       "       [0., 0., 0., 0.],\n",
       "       [0., 0., 0., 0.]])"
      ]
     },
     "execution_count": 22,
     "metadata": {},
     "output_type": "execute_result"
    }
   ],
   "source": [
    "np.zeros((3, 4))"
   ]
  },
  {
   "cell_type": "markdown",
   "id": "c79bbabd-b6f4-47ac-91ea-3615cad5e239",
   "metadata": {},
   "source": [
    "## vecteur et matrice contenant que des 1 (float)"
   ]
  },
  {
   "cell_type": "code",
   "execution_count": 23,
   "id": "22eff17f-5c81-4965-9744-7cbab5e0967d",
   "metadata": {},
   "outputs": [
    {
     "data": {
      "text/plain": [
       "array([1., 1., 1., 1., 1.])"
      ]
     },
     "execution_count": 23,
     "metadata": {},
     "output_type": "execute_result"
    }
   ],
   "source": [
    "np.ones(5)"
   ]
  },
  {
   "cell_type": "code",
   "execution_count": 24,
   "id": "9b0a6858-da0c-4f44-9f39-90408e13e085",
   "metadata": {},
   "outputs": [
    {
     "data": {
      "text/plain": [
       "array([[1., 1., 1., 1., 1.],\n",
       "       [1., 1., 1., 1., 1.],\n",
       "       [1., 1., 1., 1., 1.],\n",
       "       [1., 1., 1., 1., 1.]])"
      ]
     },
     "execution_count": 24,
     "metadata": {},
     "output_type": "execute_result"
    }
   ],
   "source": [
    "np.ones((4,5))"
   ]
  },
  {
   "cell_type": "markdown",
   "id": "7b26726d-685b-47fd-9904-7526220e7029",
   "metadata": {},
   "source": [
    "## On peut avoir des entiers"
   ]
  },
  {
   "cell_type": "code",
   "execution_count": 26,
   "id": "412bf067-2f84-44ff-8cf3-e7da0474eaaf",
   "metadata": {},
   "outputs": [
    {
     "data": {
      "text/plain": [
       "array([[0, 0, 0, 0],\n",
       "       [0, 0, 0, 0]])"
      ]
     },
     "execution_count": 26,
     "metadata": {},
     "output_type": "execute_result"
    }
   ],
   "source": [
    "np.zeros((2, 4), int)"
   ]
  },
  {
   "cell_type": "code",
   "execution_count": 27,
   "id": "086b0fe1-dbd2-4bec-b7b5-2d147b33fc9a",
   "metadata": {},
   "outputs": [
    {
     "data": {
      "text/plain": [
       "array([[1, 1, 1, 1, 1],\n",
       "       [1, 1, 1, 1, 1],\n",
       "       [1, 1, 1, 1, 1]])"
      ]
     },
     "execution_count": 27,
     "metadata": {},
     "output_type": "execute_result"
    }
   ],
   "source": [
    "np.ones((3,5), int)"
   ]
  },
  {
   "cell_type": "markdown",
   "id": "98e479be-17dd-4a94-b220-50241ed238c8",
   "metadata": {},
   "source": [
    "## la méthode full() : tableau d'éléments identique autre que 0 ou 1"
   ]
  },
  {
   "cell_type": "code",
   "execution_count": 28,
   "id": "0dcd97e7-8aaa-44ba-bd91-78fbbd545dba",
   "metadata": {},
   "outputs": [
    {
     "data": {
      "text/plain": [
       "array([[9, 9, 9, 9],\n",
       "       [9, 9, 9, 9],\n",
       "       [9, 9, 9, 9]])"
      ]
     },
     "execution_count": 28,
     "metadata": {},
     "output_type": "execute_result"
    }
   ],
   "source": [
    "np.full((3,4), 9, int)"
   ]
  },
  {
   "cell_type": "markdown",
   "id": "2f8ec672-8eea-4522-9f2b-11b717c9d827",
   "metadata": {},
   "source": [
    "Cette méthode prend en arguments respectivement : un tuple (dimension souhaitée du tableau), ***la valeur*** à remplir dans le tableau et enfin le type (int ou float)"
   ]
  },
  {
   "cell_type": "markdown",
   "id": "99bb0cf9-09ac-4b05-8602-3ef0a814c1ea",
   "metadata": {},
   "source": [
    "## La matrice identité (1 sur la diagonale et 0 ailleurs)"
   ]
  },
  {
   "cell_type": "code",
   "execution_count": 29,
   "id": "a8b240aa-628c-4d27-b3b1-8781d06b206f",
   "metadata": {},
   "outputs": [
    {
     "data": {
      "text/plain": [
       "array([[1., 0., 0., 0., 0.],\n",
       "       [0., 1., 0., 0., 0.],\n",
       "       [0., 0., 1., 0., 0.],\n",
       "       [0., 0., 0., 1., 0.],\n",
       "       [0., 0., 0., 0., 1.]])"
      ]
     },
     "execution_count": 29,
     "metadata": {},
     "output_type": "execute_result"
    }
   ],
   "source": [
    "np.eye(5)"
   ]
  },
  {
   "cell_type": "markdown",
   "id": "0b693334-8c82-4e65-a477-8082ce3ad43f",
   "metadata": {},
   "source": [
    "En tant que matrice carrée (nombre des lignes identique à celui des colonnes), **un seul** paramètre suffit"
   ]
  },
  {
   "cell_type": "markdown",
   "id": "b70cc6c6-478a-4a68-ae1d-7d2877f202c5",
   "metadata": {},
   "source": [
    "# Méthode diag()"
   ]
  },
  {
   "cell_type": "code",
   "execution_count": 30,
   "id": "19248c15-73e1-4f5d-b210-903440c78525",
   "metadata": {},
   "outputs": [
    {
     "data": {
      "text/plain": [
       "array([[ 1,  2,  3,  4],\n",
       "       [ 5,  6,  7,  8],\n",
       "       [ 9, 10, 11, 12],\n",
       "       [13, 14, 15, 16]])"
      ]
     },
     "execution_count": 30,
     "metadata": {},
     "output_type": "execute_result"
    }
   ],
   "source": [
    "mat = np.arange(1, 17).reshape((4,4))\n",
    "mat"
   ]
  },
  {
   "cell_type": "markdown",
   "id": "30e4043a-94a6-48ec-b9c6-09003c2f9363",
   "metadata": {},
   "source": [
    "1. Récupérer la diagonale principale (sous forme d'un tableau Numpy)"
   ]
  },
  {
   "cell_type": "code",
   "execution_count": 32,
   "id": "266dd2ed-c6a1-478c-a682-20cd023e538a",
   "metadata": {},
   "outputs": [
    {
     "data": {
      "text/plain": [
       "array([ 1,  6, 11, 16])"
      ]
     },
     "execution_count": 32,
     "metadata": {},
     "output_type": "execute_result"
    }
   ],
   "source": [
    "np.diag(mat)"
   ]
  },
  {
   "cell_type": "markdown",
   "id": "93c59d43-f3b5-43e7-bdc3-aeda0773e9ca",
   "metadata": {},
   "source": [
    "2. Récupérer la diagonale supérieure (au dessus de la diagonale principale) : **k = 1**"
   ]
  },
  {
   "cell_type": "code",
   "execution_count": 33,
   "id": "3d019954-12db-46d9-8279-2f50d078a536",
   "metadata": {},
   "outputs": [
    {
     "data": {
      "text/plain": [
       "array([ 2,  7, 12])"
      ]
     },
     "execution_count": 33,
     "metadata": {},
     "output_type": "execute_result"
    }
   ],
   "source": [
    "np.diag(mat, k = 1)"
   ]
  },
  {
   "cell_type": "markdown",
   "id": "31b08e14-96e7-4221-981f-bd7dd1c2809f",
   "metadata": {},
   "source": [
    "3. Récupérer la diagonale au dessus de la précédente : **k = 2**"
   ]
  },
  {
   "cell_type": "code",
   "execution_count": 34,
   "id": "94b906a0-d877-4771-93bc-055759ab592b",
   "metadata": {},
   "outputs": [
    {
     "data": {
      "text/plain": [
       "array([3, 8])"
      ]
     },
     "execution_count": 34,
     "metadata": {},
     "output_type": "execute_result"
    }
   ],
   "source": [
    "np.diag(mat, k = 2)"
   ]
  },
  {
   "cell_type": "markdown",
   "id": "ae8575fd-2f72-4757-8704-534567b8b65d",
   "metadata": {},
   "source": [
    "Ainsi de suite... Les diagonales inférieures ont un fonctionnement similaire, à la précision du paramètre **k** qui est **négatif**"
   ]
  },
  {
   "cell_type": "markdown",
   "id": "b1827a15-7243-42ac-928f-3ac67fcc30a9",
   "metadata": {},
   "source": [
    "# Construction d'une matrice Diagonale"
   ]
  },
  {
   "cell_type": "code",
   "execution_count": 37,
   "id": "019da238-f56e-493d-bb69-6d88b1a993a3",
   "metadata": {},
   "outputs": [
    {
     "data": {
      "text/plain": [
       "array([[2, 0, 0, 0],\n",
       "       [0, 4, 0, 0],\n",
       "       [0, 0, 6, 0],\n",
       "       [0, 0, 0, 8]])"
      ]
     },
     "execution_count": 37,
     "metadata": {},
     "output_type": "execute_result"
    }
   ],
   "source": [
    "vecteur = np.array([2, 4, 6, 8])\n",
    "matrice_diagonale = np.diag(vecteur)\n",
    "matrice_diagonale"
   ]
  },
  {
   "cell_type": "markdown",
   "id": "43ba1adc-c4e9-4b10-ae58-826ff2b8398b",
   "metadata": {},
   "source": [
    "Construction d'une matrice diagonale dont les éléments de la diagonale principale sont ceux d'un vecteur Numpy passé en argument"
   ]
  },
  {
   "cell_type": "code",
   "execution_count": 38,
   "id": "62eb79de-2fd4-428d-941f-92d933c0f756",
   "metadata": {},
   "outputs": [
    {
     "data": {
      "text/plain": [
       "array([[0, 0, 0, 0, 0],\n",
       "       [2, 0, 0, 0, 0],\n",
       "       [0, 4, 0, 0, 0],\n",
       "       [0, 0, 6, 0, 0],\n",
       "       [0, 0, 0, 8, 0]])"
      ]
     },
     "execution_count": 38,
     "metadata": {},
     "output_type": "execute_result"
    }
   ],
   "source": [
    "matrice_diagonale_inf = np.diag(vecteur, k = -1)\n",
    "matrice_diagonale_inf"
   ]
  },
  {
   "cell_type": "markdown",
   "id": "56e99db9-78f2-4e0c-af5f-24709c1b7bf6",
   "metadata": {},
   "source": [
    "Le parmètre **k = -1** indique que la diagonale inférieure sera remplie par les éléments du vecteur en paramètre et des 0 ailleurs. Les diagonales supérieurs nécessitent un paramètre **k strictement positif**"
   ]
  },
  {
   "cell_type": "markdown",
   "id": "3c90bebf-2e83-40fb-8632-224b0894c70c",
   "metadata": {},
   "source": [
    "# Méthode linspace()"
   ]
  },
  {
   "cell_type": "code",
   "execution_count": 39,
   "id": "d3d6ac1c-6a72-4b2e-96a1-8417a61bac96",
   "metadata": {},
   "outputs": [
    {
     "data": {
      "text/plain": [
       "array([ 5.        ,  5.26315789,  5.52631579,  5.78947368,  6.05263158,\n",
       "        6.31578947,  6.57894737,  6.84210526,  7.10526316,  7.36842105,\n",
       "        7.63157895,  7.89473684,  8.15789474,  8.42105263,  8.68421053,\n",
       "        8.94736842,  9.21052632,  9.47368421,  9.73684211, 10.        ])"
      ]
     },
     "execution_count": 39,
     "metadata": {},
     "output_type": "execute_result"
    }
   ],
   "source": [
    "np.linspace(5, 10, 20)"
   ]
  },
  {
   "cell_type": "markdown",
   "id": "fb3eb8e3-9b15-4d1b-b1ea-a97cdebedc5c",
   "metadata": {},
   "source": [
    "np.linspace(debut, fin, n) :  Effectue une subdivision de **n** morceaux de l'intervalle dont **la borne inférieur** est **debut** et **la borne supérieure** est **fin** (les bornes étant atteintes)"
   ]
  },
  {
   "cell_type": "markdown",
   "id": "b641835d-e4f1-4673-895a-e69eccec4949",
   "metadata": {},
   "source": [
    "# Tableaux aléatoires d'éléments compris entre 0 et 1 (intervale \\[0, 1])"
   ]
  },
  {
   "cell_type": "code",
   "execution_count": 43,
   "id": "bcc55f96-7b76-486e-849f-d287eede7a45",
   "metadata": {},
   "outputs": [
    {
     "data": {
      "text/plain": [
       "array([0.57868042, 0.24538684, 0.02970301, 0.43036155, 0.10774151,\n",
       "       0.97006876, 0.5710518 , 0.87425961, 0.75007002, 0.52438461])"
      ]
     },
     "execution_count": 43,
     "metadata": {},
     "output_type": "execute_result"
    }
   ],
   "source": [
    "np.random.rand(10)"
   ]
  },
  {
   "cell_type": "markdown",
   "id": "5b3f82c2-6a24-4902-a5bf-5f6a6c96ccf6",
   "metadata": {},
   "source": [
    "méthode rand() du sous module **random** de **Numpy** qui prend en argument le nombre d'éléments à produire du vecteur aléatoire"
   ]
  },
  {
   "cell_type": "code",
   "execution_count": 45,
   "id": "c825ce41-f867-4967-ad8d-62bad833b1a6",
   "metadata": {},
   "outputs": [
    {
     "data": {
      "text/plain": [
       "array([[0.37550533, 0.22381506, 0.48594128],\n",
       "       [0.34155241, 0.00198359, 0.35104043],\n",
       "       [0.2090062 , 0.72539901, 0.80840365]])"
      ]
     },
     "execution_count": 45,
     "metadata": {},
     "output_type": "execute_result"
    }
   ],
   "source": [
    "np.random.rand(3,3)"
   ]
  },
  {
   "cell_type": "markdown",
   "id": "2f5d4ce7-caf4-4199-9ab8-6a6e546e6a07",
   "metadata": {},
   "source": [
    "Pour les matrice aléatoire, deux arguments que sont les nombre des lignes et des colonnes (pas un tuple)"
   ]
  },
  {
   "cell_type": "markdown",
   "id": "6b7a7fac-f619-4e39-a3db-910eb339995e",
   "metadata": {},
   "source": [
    "## Valeurs aléatoires issues d'une distribution Gaussienne centrée réduite"
   ]
  },
  {
   "cell_type": "code",
   "execution_count": 46,
   "id": "2e85b888-0a32-413f-a8f7-7f0e0b525d7d",
   "metadata": {},
   "outputs": [
    {
     "data": {
      "text/plain": [
       "array([ 0.1216381 , -0.2001229 , -0.52259722, -2.57476008,  0.11865978])"
      ]
     },
     "execution_count": 46,
     "metadata": {},
     "output_type": "execute_result"
    }
   ],
   "source": [
    "np.random.randn(5)"
   ]
  },
  {
   "cell_type": "markdown",
   "id": "b0f416ea-4167-4de9-ac9e-77028a1c8b71",
   "metadata": {},
   "source": [
    "Dans le sous module Random du module Numpy, c'est la méthode **randn()**, avec en argument le nombre des valeurs souhaitées pour le vecteur (***deux nombres*** en arguments pour ***le cas d'une matrice***)\n"
   ]
  },
  {
   "cell_type": "code",
   "execution_count": 47,
   "id": "5d40d63b-4bfc-4343-9eca-a74637471e08",
   "metadata": {},
   "outputs": [
    {
     "data": {
      "text/plain": [
       "array([[-0.24616869, -0.29862159, -0.86374124,  0.93250439,  0.51550932,\n",
       "        -0.93530337],\n",
       "       [-0.59256646, -0.69190976, -0.14150194, -0.67522733,  1.42142499,\n",
       "        -0.91229087],\n",
       "       [-0.36647845, -0.71988932,  0.26281499,  0.02923866, -0.50597093,\n",
       "        -1.23719294],\n",
       "       [ 2.50544577, -0.6178535 ,  1.07613839, -0.1332717 , -0.47214882,\n",
       "         0.11816049],\n",
       "       [-1.61579505, -0.86350726,  1.10798949,  1.71353266,  1.07358869,\n",
       "        -0.18857852]])"
      ]
     },
     "execution_count": 47,
     "metadata": {},
     "output_type": "execute_result"
    }
   ],
   "source": [
    "np.random.randn(5, 6)"
   ]
  },
  {
   "cell_type": "markdown",
   "id": "8822fd5a-b48f-4662-aa70-226d8b227c42",
   "metadata": {},
   "source": [
    "# Tableaux aléatoires d'entiers"
   ]
  },
  {
   "cell_type": "markdown",
   "id": "9202e5c2-4e7c-4a09-a8b3-11bb4eabd75f",
   "metadata": {},
   "source": [
    "## Un nombre aléatoire entre début et fin (exclut)"
   ]
  },
  {
   "cell_type": "code",
   "execution_count": 48,
   "id": "216d469e-e7b7-4fc8-a4ec-704425bdc56a",
   "metadata": {},
   "outputs": [
    {
     "data": {
      "text/plain": [
       "10"
      ]
     },
     "execution_count": 48,
     "metadata": {},
     "output_type": "execute_result"
    }
   ],
   "source": [
    "np.random.randint(0, 100)"
   ]
  },
  {
   "cell_type": "markdown",
   "id": "b63c737e-47f6-450e-90c6-918062bfe180",
   "metadata": {},
   "source": [
    "## Un vecteur aléatoire de 10 élements entre 0 et 100 (exclut)"
   ]
  },
  {
   "cell_type": "code",
   "execution_count": 49,
   "id": "d45fb358-fbe1-4310-9592-71424ef9abbf",
   "metadata": {},
   "outputs": [
    {
     "data": {
      "text/plain": [
       "array([23, 59, 89,  8, 35, 77, 12, 98, 51, 77])"
      ]
     },
     "execution_count": 49,
     "metadata": {},
     "output_type": "execute_result"
    }
   ],
   "source": [
    "np.random.randint(0, 100, 10)"
   ]
  },
  {
   "cell_type": "markdown",
   "id": "4ec23156-74af-4648-91e3-f2b51d6529cd",
   "metadata": {},
   "source": [
    "## Une matrice aléatoire de taille (4, 6) d'élément entre -25 et 315"
   ]
  },
  {
   "cell_type": "code",
   "execution_count": 51,
   "id": "5e82f482-cd95-4084-bbd4-3999193fb0ef",
   "metadata": {},
   "outputs": [
    {
     "data": {
      "text/plain": [
       "array([[106, 239, 313, 302, 206, 136],\n",
       "       [109, 208, 235, 214, 213,  -9],\n",
       "       [267,  42, 280, 280, 122,  72],\n",
       "       [ 31, 248, 112, 166, 249, 180]])"
      ]
     },
     "execution_count": 51,
     "metadata": {},
     "output_type": "execute_result"
    }
   ],
   "source": [
    "np.random.randint(-25, 315, (4, 6))"
   ]
  },
  {
   "cell_type": "markdown",
   "id": "d583a9a8-e79a-45b3-bb41-e3fadfb877ec",
   "metadata": {},
   "source": [
    "# Distribution normale aléatoire paramétrée au choix (moyenne et écart-type)"
   ]
  },
  {
   "cell_type": "code",
   "execution_count": 7,
   "id": "459d9ec8-bb3c-4ae9-9379-2df8522e36a5",
   "metadata": {},
   "outputs": [
    {
     "data": {
      "text/plain": [
       "array([[ 5.34896788, 11.47021359, 11.05012207, 11.63051443],\n",
       "       [10.08487726, 10.14870484, 12.13966571, 12.48341467],\n",
       "       [ 8.53560204, 11.27824942, 13.94233152, 11.18778264],\n",
       "       [13.44382557,  9.60326789, 11.05546172, 10.48787663]])"
      ]
     },
     "execution_count": 7,
     "metadata": {},
     "output_type": "execute_result"
    }
   ],
   "source": [
    "np.random.normal(loc = 10, scale = 2, size = (4, 4))"
   ]
  },
  {
   "cell_type": "markdown",
   "id": "b8dcb98b-a5d1-48c0-8e98-fea55a431691",
   "metadata": {},
   "source": [
    "les arguments : **loc** (moyenne) et **scale** (écart-type); **size** est la dimension de mon tableau (vecteur ou matrice)"
   ]
  },
  {
   "cell_type": "markdown",
   "id": "752553c8-8379-4675-9a7f-263323832afe",
   "metadata": {},
   "source": [
    "# Méthodes de calcul sur les tableaux Numpy"
   ]
  },
  {
   "cell_type": "markdown",
   "id": "f5e14c89-363d-4a9c-a75d-323f57a8d2df",
   "metadata": {},
   "source": [
    "## Le Maximum"
   ]
  },
  {
   "cell_type": "code",
   "execution_count": 12,
   "id": "a0127006-7b7d-4da4-9cd3-32a470bafa5f",
   "metadata": {},
   "outputs": [
    {
     "name": "stdout",
     "output_type": "stream",
     "text": [
      "[ 92   6  75  13  39  62  97   9 100  20  24  28  17  72  13]\n",
      "la valeur maximale est :  100\n",
      "l'indice de la valeur maximale est :  8\n"
     ]
    }
   ],
   "source": [
    "tab = np.random.randint(1, 101, 15)\n",
    "print(tab)\n",
    "print(\"la valeur maximale est : \", tab.max())\n",
    "print(\"l'indice de la valeur maximale est : \", tab.argmax())"
   ]
  },
  {
   "cell_type": "code",
   "execution_count": 18,
   "id": "cecfd925-0a9e-4e78-a09b-00d770549c85",
   "metadata": {},
   "outputs": [
    {
     "name": "stdout",
     "output_type": "stream",
     "text": [
      "[[175 146   4  58  80]\n",
      " [ 32 100  46  66  31]\n",
      " [  6  85  31  46  87]\n",
      " [ 77 158 110 157  26]\n",
      " [ 40 174 112  36 164]]\n",
      "le vecteur max de chaque colonne :  [175 174 112 157 164]\n"
     ]
    }
   ],
   "source": [
    "mat = np.random.randint(0, 200, 25).reshape((5,5))\n",
    "print(mat)\n",
    "print(\"le vecteur max de chaque colonne : \", mat.max(axis = 0))"
   ]
  },
  {
   "cell_type": "markdown",
   "id": "6390d638-b9d6-416c-b0bb-33609cec7175",
   "metadata": {},
   "source": [
    "**axis** est un paramètre qui idinque la dimension selon laquelle chaque élément du vecteur sera trié.\n",
    "*axis* = **0** : le maximum en considérant les colonnes de la matrice et *axis* = **1**, pour les lignes."
   ]
  },
  {
   "cell_type": "markdown",
   "id": "3ea69f57-2154-4389-b62f-794d9f0537ca",
   "metadata": {},
   "source": [
    "Plusieurs méthodes du module Numpy ont un fonctionnement similaire, notamment : **mean** (moyenne), **sum** (somme), **std** (écart - type), etc..."
   ]
  }
 ],
 "metadata": {
  "kernelspec": {
   "display_name": "Python [conda env:base] *",
   "language": "python",
   "name": "conda-base-py"
  },
  "language_info": {
   "codemirror_mode": {
    "name": "ipython",
    "version": 3
   },
   "file_extension": ".py",
   "mimetype": "text/x-python",
   "name": "python",
   "nbconvert_exporter": "python",
   "pygments_lexer": "ipython3",
   "version": "3.12.7"
  }
 },
 "nbformat": 4,
 "nbformat_minor": 5
}
