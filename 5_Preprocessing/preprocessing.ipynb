{
 "cells": [
  {
   "cell_type": "code",
   "execution_count": 10,
   "id": "3a72c600-4c23-484c-b810-e28fdc5e825b",
   "metadata": {},
   "outputs": [],
   "source": [
    "import numpy as np\n",
    "import pandas as pd\n",
    "import seaborn as sns\n",
    "import matplotlib.pyplot as plt"
   ]
  },
  {
   "cell_type": "markdown",
   "id": "d8b8e1e9-572e-48e8-bccf-2ba6bff5af76",
   "metadata": {},
   "source": [
    "# Importation des données"
   ]
  },
  {
   "cell_type": "code",
   "execution_count": 11,
   "id": "27a4134a-8c8e-47a6-b3b8-efb7e8702734",
   "metadata": {},
   "outputs": [
    {
     "data": {
      "text/plain": [
       "['anagrams',\n",
       " 'anscombe',\n",
       " 'attention',\n",
       " 'brain_networks',\n",
       " 'car_crashes',\n",
       " 'diamonds',\n",
       " 'dots',\n",
       " 'dowjones',\n",
       " 'exercise',\n",
       " 'flights',\n",
       " 'fmri',\n",
       " 'geyser',\n",
       " 'glue',\n",
       " 'healthexp',\n",
       " 'iris',\n",
       " 'mpg',\n",
       " 'penguins',\n",
       " 'planets',\n",
       " 'seaice',\n",
       " 'taxis',\n",
       " 'tips',\n",
       " 'titanic']"
      ]
     },
     "execution_count": 11,
     "metadata": {},
     "output_type": "execute_result"
    }
   ],
   "source": [
    "# lister les jeux de données de la bibliothèque Seaborn\n",
    "sns.get_dataset_names()"
   ]
  },
  {
   "cell_type": "code",
   "execution_count": 12,
   "id": "84f1555f-f065-4efc-bc6a-f0fd75e48964",
   "metadata": {},
   "outputs": [
    {
     "data": {
      "text/html": [
       "<div>\n",
       "<style scoped>\n",
       "    .dataframe tbody tr th:only-of-type {\n",
       "        vertical-align: middle;\n",
       "    }\n",
       "\n",
       "    .dataframe tbody tr th {\n",
       "        vertical-align: top;\n",
       "    }\n",
       "\n",
       "    .dataframe thead th {\n",
       "        text-align: right;\n",
       "    }\n",
       "</style>\n",
       "<table border=\"1\" class=\"dataframe\">\n",
       "  <thead>\n",
       "    <tr style=\"text-align: right;\">\n",
       "      <th></th>\n",
       "      <th>survived</th>\n",
       "      <th>pclass</th>\n",
       "      <th>sex</th>\n",
       "      <th>age</th>\n",
       "      <th>sibsp</th>\n",
       "      <th>parch</th>\n",
       "      <th>fare</th>\n",
       "      <th>embarked</th>\n",
       "      <th>class</th>\n",
       "      <th>who</th>\n",
       "      <th>adult_male</th>\n",
       "      <th>deck</th>\n",
       "      <th>embark_town</th>\n",
       "      <th>alive</th>\n",
       "      <th>alone</th>\n",
       "    </tr>\n",
       "  </thead>\n",
       "  <tbody>\n",
       "    <tr>\n",
       "      <th>0</th>\n",
       "      <td>0</td>\n",
       "      <td>3</td>\n",
       "      <td>male</td>\n",
       "      <td>22.0</td>\n",
       "      <td>1</td>\n",
       "      <td>0</td>\n",
       "      <td>7.2500</td>\n",
       "      <td>S</td>\n",
       "      <td>Third</td>\n",
       "      <td>man</td>\n",
       "      <td>True</td>\n",
       "      <td>NaN</td>\n",
       "      <td>Southampton</td>\n",
       "      <td>no</td>\n",
       "      <td>False</td>\n",
       "    </tr>\n",
       "    <tr>\n",
       "      <th>1</th>\n",
       "      <td>1</td>\n",
       "      <td>1</td>\n",
       "      <td>female</td>\n",
       "      <td>38.0</td>\n",
       "      <td>1</td>\n",
       "      <td>0</td>\n",
       "      <td>71.2833</td>\n",
       "      <td>C</td>\n",
       "      <td>First</td>\n",
       "      <td>woman</td>\n",
       "      <td>False</td>\n",
       "      <td>C</td>\n",
       "      <td>Cherbourg</td>\n",
       "      <td>yes</td>\n",
       "      <td>False</td>\n",
       "    </tr>\n",
       "    <tr>\n",
       "      <th>2</th>\n",
       "      <td>1</td>\n",
       "      <td>3</td>\n",
       "      <td>female</td>\n",
       "      <td>26.0</td>\n",
       "      <td>0</td>\n",
       "      <td>0</td>\n",
       "      <td>7.9250</td>\n",
       "      <td>S</td>\n",
       "      <td>Third</td>\n",
       "      <td>woman</td>\n",
       "      <td>False</td>\n",
       "      <td>NaN</td>\n",
       "      <td>Southampton</td>\n",
       "      <td>yes</td>\n",
       "      <td>True</td>\n",
       "    </tr>\n",
       "    <tr>\n",
       "      <th>3</th>\n",
       "      <td>1</td>\n",
       "      <td>1</td>\n",
       "      <td>female</td>\n",
       "      <td>35.0</td>\n",
       "      <td>1</td>\n",
       "      <td>0</td>\n",
       "      <td>53.1000</td>\n",
       "      <td>S</td>\n",
       "      <td>First</td>\n",
       "      <td>woman</td>\n",
       "      <td>False</td>\n",
       "      <td>C</td>\n",
       "      <td>Southampton</td>\n",
       "      <td>yes</td>\n",
       "      <td>False</td>\n",
       "    </tr>\n",
       "    <tr>\n",
       "      <th>4</th>\n",
       "      <td>0</td>\n",
       "      <td>3</td>\n",
       "      <td>male</td>\n",
       "      <td>35.0</td>\n",
       "      <td>0</td>\n",
       "      <td>0</td>\n",
       "      <td>8.0500</td>\n",
       "      <td>S</td>\n",
       "      <td>Third</td>\n",
       "      <td>man</td>\n",
       "      <td>True</td>\n",
       "      <td>NaN</td>\n",
       "      <td>Southampton</td>\n",
       "      <td>no</td>\n",
       "      <td>True</td>\n",
       "    </tr>\n",
       "  </tbody>\n",
       "</table>\n",
       "</div>"
      ],
      "text/plain": [
       "   survived  pclass     sex   age  sibsp  parch     fare embarked  class  \\\n",
       "0         0       3    male  22.0      1      0   7.2500        S  Third   \n",
       "1         1       1  female  38.0      1      0  71.2833        C  First   \n",
       "2         1       3  female  26.0      0      0   7.9250        S  Third   \n",
       "3         1       1  female  35.0      1      0  53.1000        S  First   \n",
       "4         0       3    male  35.0      0      0   8.0500        S  Third   \n",
       "\n",
       "     who  adult_male deck  embark_town alive  alone  \n",
       "0    man        True  NaN  Southampton    no  False  \n",
       "1  woman       False    C    Cherbourg   yes  False  \n",
       "2  woman       False  NaN  Southampton   yes   True  \n",
       "3  woman       False    C  Southampton   yes  False  \n",
       "4    man        True  NaN  Southampton    no   True  "
      ]
     },
     "execution_count": 12,
     "metadata": {},
     "output_type": "execute_result"
    }
   ],
   "source": [
    "# importer un jeu de données\n",
    "dataframe = sns.load_dataset(\"titanic\")\n",
    "# afficher les 5 premières lignes\n",
    "dataframe.head()"
   ]
  },
  {
   "cell_type": "markdown",
   "id": "0f6dd0c9-9b68-4921-89bb-751f4c13790b",
   "metadata": {},
   "source": [
    "On peut remarquer des rédondences notamment les colonnes **survived**  et **alive** donnent la même information bien que l'encodage serait différent."
   ]
  },
  {
   "cell_type": "code",
   "execution_count": 13,
   "id": "38c60a63-a771-4bf3-8c33-8add96515fbe",
   "metadata": {},
   "outputs": [
    {
     "data": {
      "text/html": [
       "<div>\n",
       "<style scoped>\n",
       "    .dataframe tbody tr th:only-of-type {\n",
       "        vertical-align: middle;\n",
       "    }\n",
       "\n",
       "    .dataframe tbody tr th {\n",
       "        vertical-align: top;\n",
       "    }\n",
       "\n",
       "    .dataframe thead th {\n",
       "        text-align: right;\n",
       "    }\n",
       "</style>\n",
       "<table border=\"1\" class=\"dataframe\">\n",
       "  <thead>\n",
       "    <tr style=\"text-align: right;\">\n",
       "      <th></th>\n",
       "      <th>survived</th>\n",
       "      <th>pclass</th>\n",
       "      <th>sex</th>\n",
       "      <th>age</th>\n",
       "      <th>sibsp</th>\n",
       "      <th>parch</th>\n",
       "      <th>fare</th>\n",
       "      <th>adult_male</th>\n",
       "      <th>embark_town</th>\n",
       "    </tr>\n",
       "  </thead>\n",
       "  <tbody>\n",
       "    <tr>\n",
       "      <th>0</th>\n",
       "      <td>0</td>\n",
       "      <td>3</td>\n",
       "      <td>male</td>\n",
       "      <td>22.0</td>\n",
       "      <td>1</td>\n",
       "      <td>0</td>\n",
       "      <td>7.2500</td>\n",
       "      <td>True</td>\n",
       "      <td>Southampton</td>\n",
       "    </tr>\n",
       "    <tr>\n",
       "      <th>1</th>\n",
       "      <td>1</td>\n",
       "      <td>1</td>\n",
       "      <td>female</td>\n",
       "      <td>38.0</td>\n",
       "      <td>1</td>\n",
       "      <td>0</td>\n",
       "      <td>71.2833</td>\n",
       "      <td>False</td>\n",
       "      <td>Cherbourg</td>\n",
       "    </tr>\n",
       "    <tr>\n",
       "      <th>2</th>\n",
       "      <td>1</td>\n",
       "      <td>3</td>\n",
       "      <td>female</td>\n",
       "      <td>26.0</td>\n",
       "      <td>0</td>\n",
       "      <td>0</td>\n",
       "      <td>7.9250</td>\n",
       "      <td>False</td>\n",
       "      <td>Southampton</td>\n",
       "    </tr>\n",
       "    <tr>\n",
       "      <th>3</th>\n",
       "      <td>1</td>\n",
       "      <td>1</td>\n",
       "      <td>female</td>\n",
       "      <td>35.0</td>\n",
       "      <td>1</td>\n",
       "      <td>0</td>\n",
       "      <td>53.1000</td>\n",
       "      <td>False</td>\n",
       "      <td>Southampton</td>\n",
       "    </tr>\n",
       "    <tr>\n",
       "      <th>4</th>\n",
       "      <td>0</td>\n",
       "      <td>3</td>\n",
       "      <td>male</td>\n",
       "      <td>35.0</td>\n",
       "      <td>0</td>\n",
       "      <td>0</td>\n",
       "      <td>8.0500</td>\n",
       "      <td>True</td>\n",
       "      <td>Southampton</td>\n",
       "    </tr>\n",
       "  </tbody>\n",
       "</table>\n",
       "</div>"
      ],
      "text/plain": [
       "   survived  pclass     sex   age  sibsp  parch     fare  adult_male  \\\n",
       "0         0       3    male  22.0      1      0   7.2500        True   \n",
       "1         1       1  female  38.0      1      0  71.2833       False   \n",
       "2         1       3  female  26.0      0      0   7.9250       False   \n",
       "3         1       1  female  35.0      1      0  53.1000       False   \n",
       "4         0       3    male  35.0      0      0   8.0500        True   \n",
       "\n",
       "   embark_town  \n",
       "0  Southampton  \n",
       "1    Cherbourg  \n",
       "2  Southampton  \n",
       "3  Southampton  \n",
       "4  Southampton  "
      ]
     },
     "execution_count": 13,
     "metadata": {},
     "output_type": "execute_result"
    }
   ],
   "source": [
    "# suppressions des rédondences (axis = 1 pour supprimmer les colonnes)\n",
    "dataframe = dataframe.drop([\"who\", \"alive\", \"embarked\", \"class\", \"deck\", \"alone\"], axis = 1)\n",
    "dataframe.head()"
   ]
  },
  {
   "cell_type": "code",
   "execution_count": 14,
   "id": "16174218-f7e6-42c9-8afe-bd92b11edf03",
   "metadata": {},
   "outputs": [
    {
     "name": "stdout",
     "output_type": "stream",
     "text": [
      "<class 'pandas.core.frame.DataFrame'>\n",
      "RangeIndex: 891 entries, 0 to 890\n",
      "Data columns (total 9 columns):\n",
      " #   Column       Non-Null Count  Dtype  \n",
      "---  ------       --------------  -----  \n",
      " 0   survived     891 non-null    int64  \n",
      " 1   pclass       891 non-null    int64  \n",
      " 2   sex          891 non-null    object \n",
      " 3   age          714 non-null    float64\n",
      " 4   sibsp        891 non-null    int64  \n",
      " 5   parch        891 non-null    int64  \n",
      " 6   fare         891 non-null    float64\n",
      " 7   adult_male   891 non-null    bool   \n",
      " 8   embark_town  889 non-null    object \n",
      "dtypes: bool(1), float64(2), int64(4), object(2)\n",
      "memory usage: 56.7+ KB\n"
     ]
    }
   ],
   "source": [
    "dataframe.info()"
   ]
  },
  {
   "cell_type": "markdown",
   "id": "8bec6f7f-d22e-488a-9866-cb53b72b4c6a",
   "metadata": {},
   "source": [
    "# Visualisation des données : \n"
   ]
  },
  {
   "cell_type": "code",
   "execution_count": 15,
   "id": "1fd232a5-d824-4b38-ad0f-118ecb6aa5fa",
   "metadata": {},
   "outputs": [
    {
     "data": {
      "text/plain": [
       "<Axes: xlabel='age', ylabel='Count'>"
      ]
     },
     "execution_count": 15,
     "metadata": {},
     "output_type": "execute_result"
    },
    {
     "data": {
      "image/png": "[encoded data removed]",
      "text/plain": [
       "<Figure size 1200x3000 with 10 Axes>"
      ]
     },
     "metadata": {},
     "output_type": "display_data"
    }
   ],
   "source": [
    "# visualiser chaque colonne de la data frame\n",
    "fig, axes = plt.subplots(5, 2, figsize = (12, 30))\n",
    "# les variables catégorielles\n",
    "# les survivants\n",
    "sns.countplot(x = \"survived\", data = dataframe, ax = axes[0,0], hue = \"survived\", legend = False, width = 0.5)\n",
    "# la classe du passager\n",
    "sns.countplot(x = \"pclass\", data = dataframe, ax = axes[0,1], hue = \"pclass\", legend = False, width = 0.5)\n",
    "# le sex : male (homme) ou female (femme)\n",
    "sns.countplot(x = \"sex\", data = dataframe, ax = axes[1,0], hue = \"sex\", legend = False, width = 0.5)\n",
    "# les nombres des frères/soeurs/conjoints (0 : voyageur seul)\n",
    "sns.countplot(x = \"sibsp\", data = dataframe, ax = axes[1,1], hue = \"sibsp\", legend = False, width = 0.5)\n",
    "# les passagers ayant un parent/enfant (exclut les frères/soeurs/conjoints) : True ou False\n",
    "sns.countplot(x = \"parch\", data = dataframe, ax = axes[2,0], hue = \"parch\", legend = False, width = 0.5)\n",
    "# La ville d'embraquement du passager\n",
    "sns.countplot(x = \"embark_town\", data = dataframe, ax = axes[2,1], hue = \"embark_town\", legend = False, width = 0.5)\n",
    "for i in range(3):\n",
    "    for j in range (2):\n",
    "        axes[i, j].set_ylabel(\"Fréquences absolues\")\n",
    "\n",
    "# Les variables quantitatices (numériques)\n",
    "# Le prix du billet (en livres sterling)\n",
    "sns.boxplot(y = \"fare\", data = dataframe, ax = axes[3, 0])\n",
    "sns.histplot(x = \"fare\", data = dataframe, ax = axes[3, 1], kde = True, bins = 15)\n",
    "# L'âge du passager (en années)\n",
    "sns.boxplot(y = \"age\", data = dataframe, ax = axes[4, 0], color = \"green\")\n",
    "sns.histplot(x = \"age\", data = dataframe, ax = axes[4, 1], kde = True, color = \"green\")"
   ]
  },
  {
   "cell_type": "markdown",
   "id": "5df8d338-6aac-4335-9d0e-b12e690cbee1",
   "metadata": {},
   "source": [
    "# Croisements des variables avec la variable cible (ici **'survived'**)"
   ]
  },
  {
   "cell_type": "code",
   "execution_count": 16,
   "id": "da002f70-ee7a-4cfc-bfaf-52efda2e0184",
   "metadata": {},
   "outputs": [
    {
     "data": {
      "text/plain": [
       "<Axes: xlabel='survived', ylabel='age'>"
      ]
     },
     "execution_count": 16,
     "metadata": {},
     "output_type": "execute_result"
    },
    {
     "data": {
      "image/png": "[encoded data removed]",
      "text/plain": [
       "<Figure size 640x480 with 1 Axes>"
      ]
     },
     "metadata": {},
     "output_type": "display_data"
    }
   ],
   "source": [
    "# Age (ordonnée) en fonction de la survie (abscisse)\n",
    "sns.boxplot(x = \"survived\", y = \"age\", data = dataframe, hue = \"survived\")"
   ]
  },
  {
   "cell_type": "markdown",
   "id": "4b7a2f7f-6825-4fa5-b114-7b6457526d3f",
   "metadata": {},
   "source": [
    "La distribution des âges des personnes ayant survécues n'est pas très éloignées de celle des personne n'ayant pas survécues au nauffrage."
   ]
  },
  {
   "cell_type": "code",
   "execution_count": 17,
   "id": "f6d4fcbf-4ed6-4c55-9734-363cf2899fc8",
   "metadata": {},
   "outputs": [
    {
     "data": {
      "text/plain": [
       "<Axes: xlabel='survived', ylabel='age'>"
      ]
     },
     "execution_count": 17,
     "metadata": {},
     "output_type": "execute_result"
    },
    {
     "data": {
      "image/png": "[encoded data removed]",
      "text/plain": [
       "<Figure size 640x480 with 1 Axes>"
      ]
     },
     "metadata": {},
     "output_type": "display_data"
    }
   ],
   "source": [
    "# Age (ordonnée) en fonction de la survie (abscisse) et du sexe\n",
    "sns.boxplot(x = \"survived\", y = \"age\", data = dataframe, hue = \"sex\")"
   ]
  },
  {
   "cell_type": "markdown",
   "id": "74ebd47e-ddf9-4482-b07c-b58992ee7c9f",
   "metadata": {},
   "source": [
    "Les personnes n'ayant pas survécues étant majoritairement des hommes âgés entre 22 ans et 40 ans. Toutefois les survivants ont une distribution d'âge assez proche entre les hommes et les femmes"
   ]
  },
  {
   "cell_type": "code",
   "execution_count": 18,
   "id": "f60c7f2a-1b50-4fbb-b7c3-7412d7d9b8ee",
   "metadata": {},
   "outputs": [
    {
     "data": {
      "text/html": [
       "<div>\n",
       "<style scoped>\n",
       "    .dataframe tbody tr th:only-of-type {\n",
       "        vertical-align: middle;\n",
       "    }\n",
       "\n",
       "    .dataframe tbody tr th {\n",
       "        vertical-align: top;\n",
       "    }\n",
       "\n",
       "    .dataframe thead tr th {\n",
       "        text-align: left;\n",
       "    }\n",
       "\n",
       "    .dataframe thead tr:last-of-type th {\n",
       "        text-align: right;\n",
       "    }\n",
       "</style>\n",
       "<table border=\"1\" class=\"dataframe\">\n",
       "  <thead>\n",
       "    <tr>\n",
       "      <th>sex</th>\n",
       "      <th colspan=\"2\" halign=\"left\">female</th>\n",
       "      <th colspan=\"2\" halign=\"left\">male</th>\n",
       "    </tr>\n",
       "    <tr>\n",
       "      <th>survived</th>\n",
       "      <th>0</th>\n",
       "      <th>1</th>\n",
       "      <th>0</th>\n",
       "      <th>1</th>\n",
       "    </tr>\n",
       "    <tr>\n",
       "      <th>sibsp</th>\n",
       "      <th></th>\n",
       "      <th></th>\n",
       "      <th></th>\n",
       "      <th></th>\n",
       "    </tr>\n",
       "  </thead>\n",
       "  <tbody>\n",
       "    <tr>\n",
       "      <th>0</th>\n",
       "      <td>37.0</td>\n",
       "      <td>137.0</td>\n",
       "      <td>361.0</td>\n",
       "      <td>73.0</td>\n",
       "    </tr>\n",
       "    <tr>\n",
       "      <th>1</th>\n",
       "      <td>26.0</td>\n",
       "      <td>80.0</td>\n",
       "      <td>71.0</td>\n",
       "      <td>32.0</td>\n",
       "    </tr>\n",
       "    <tr>\n",
       "      <th>2</th>\n",
       "      <td>3.0</td>\n",
       "      <td>10.0</td>\n",
       "      <td>12.0</td>\n",
       "      <td>3.0</td>\n",
       "    </tr>\n",
       "    <tr>\n",
       "      <th>3</th>\n",
       "      <td>7.0</td>\n",
       "      <td>4.0</td>\n",
       "      <td>5.0</td>\n",
       "      <td>NaN</td>\n",
       "    </tr>\n",
       "    <tr>\n",
       "      <th>4</th>\n",
       "      <td>4.0</td>\n",
       "      <td>2.0</td>\n",
       "      <td>11.0</td>\n",
       "      <td>1.0</td>\n",
       "    </tr>\n",
       "    <tr>\n",
       "      <th>5</th>\n",
       "      <td>1.0</td>\n",
       "      <td>NaN</td>\n",
       "      <td>4.0</td>\n",
       "      <td>NaN</td>\n",
       "    </tr>\n",
       "    <tr>\n",
       "      <th>8</th>\n",
       "      <td>3.0</td>\n",
       "      <td>NaN</td>\n",
       "      <td>4.0</td>\n",
       "      <td>NaN</td>\n",
       "    </tr>\n",
       "  </tbody>\n",
       "</table>\n",
       "</div>"
      ],
      "text/plain": [
       "sex      female          male      \n",
       "survived      0      1      0     1\n",
       "sibsp                              \n",
       "0          37.0  137.0  361.0  73.0\n",
       "1          26.0   80.0   71.0  32.0\n",
       "2           3.0   10.0   12.0   3.0\n",
       "3           7.0    4.0    5.0   NaN\n",
       "4           4.0    2.0   11.0   1.0\n",
       "5           1.0    NaN    4.0   NaN\n",
       "8           3.0    NaN    4.0   NaN"
      ]
     },
     "execution_count": 18,
     "metadata": {},
     "output_type": "execute_result"
    }
   ],
   "source": [
    "# La survie en fonction du nombre des frères/soeurs/conjoints (abscisse) et du sexe\n",
    "# tableau croisé\n",
    "tab = dataframe.pivot_table(index = \"sibsp\", columns = [\"sex\", \"survived\"], aggfunc = \"size\")\n",
    "tab"
   ]
  },
  {
   "cell_type": "code",
   "execution_count": 19,
   "id": "27fc6101-401b-421e-83b8-8cfa6f2264bd",
   "metadata": {},
   "outputs": [
    {
     "data": {
      "text/plain": [
       "<Axes: xlabel='sex-survived', ylabel='sibsp'>"
      ]
     },
     "execution_count": 19,
     "metadata": {},
     "output_type": "execute_result"
    },
    {
     "data": {
      "image/png": "[encoded data removed]",
      "text/plain": [
       "<Figure size 640x480 with 2 Axes>"
      ]
     },
     "metadata": {},
     "output_type": "display_data"
    }
   ],
   "source": [
    "sns.heatmap(tab, annot = True, cmap = \"coolwarm\", fmt = \".0f\")"
   ]
  },
  {
   "cell_type": "markdown",
   "id": "b127f791-be69-4e8a-a601-bf3b5376b345",
   "metadata": {},
   "source": [
    "#### Remarque : \n",
    "La mojorité d'homme n'ayant pas survécus était ceux voyageant seul"
   ]
  },
  {
   "cell_type": "code",
   "execution_count": 20,
   "id": "2c185ddd-aebc-4096-ae61-1c91c37a628a",
   "metadata": {},
   "outputs": [
    {
     "data": {
      "text/plain": [
       "<Axes: xlabel='survived', ylabel='fare'>"
      ]
     },
     "execution_count": 20,
     "metadata": {},
     "output_type": "execute_result"
    },
    {
     "data": {
      "image/png": "[encoded data removed]",
      "text/plain": [
       "<Figure size 640x480 with 1 Axes>"
      ]
     },
     "metadata": {},
     "output_type": "display_data"
    }
   ],
   "source": [
    "# Les personnes ayant survecus en fonction des tarifs des billets et la classe\n",
    "# les prix des billets\n",
    "sns.boxplot(x = \"survived\", y = \"fare\", data = dataframe, hue = \"survived\", legend = False)"
   ]
  },
  {
   "cell_type": "code",
   "execution_count": 21,
   "id": "3eb03be5-dac3-4ff7-a063-0912724ac493",
   "metadata": {},
   "outputs": [
    {
     "data": {
      "text/plain": [
       "<Axes: xlabel='survived', ylabel='fare'>"
      ]
     },
     "execution_count": 21,
     "metadata": {},
     "output_type": "execute_result"
    },
    {
     "data": {
      "image/png": "[encoded data removed]",
      "text/plain": [
       "<Figure size 640x480 with 1 Axes>"
      ]
     },
     "metadata": {},
     "output_type": "display_data"
    }
   ],
   "source": [
    "# la classe du passager\n",
    "sns.boxplot(x = \"survived\", y = \"fare\", data = dataframe, hue = \"pclass\", legend = True)"
   ]
  },
  {
   "cell_type": "markdown",
   "id": "e9f5b948-3d56-4d16-aaee-72ff759d3c08",
   "metadata": {},
   "source": [
    "# Nettoyage des données"
   ]
  },
  {
   "cell_type": "markdown",
   "id": "668cc5d2-ea95-42e8-a8a6-22213175537f",
   "metadata": {},
   "source": [
    "## 1. Les Valeurs manquantes"
   ]
  },
  {
   "cell_type": "code",
   "execution_count": 22,
   "id": "07f785aa-419f-4fad-821b-c8cc93e343b0",
   "metadata": {},
   "outputs": [
    {
     "data": {
      "text/plain": [
       "survived         0\n",
       "pclass           0\n",
       "sex              0\n",
       "age            177\n",
       "sibsp            0\n",
       "parch            0\n",
       "fare             0\n",
       "adult_male       0\n",
       "embark_town      2\n",
       "dtype: int64"
      ]
     },
     "execution_count": 22,
     "metadata": {},
     "output_type": "execute_result"
    }
   ],
   "source": [
    "# isna() : renvoie True si la cellule est une valeur NaN (not a number) et False sinon.\n",
    "# combiner à sum() cela permet d'afficher le nombre des valeurs manquantes pour chaque colonne\n",
    "dataframe.isna().sum()"
   ]
  },
  {
   "cell_type": "markdown",
   "id": "007ef005-ac91-4b61-b9ec-1279156a43be",
   "metadata": {},
   "source": [
    "### Imputation par la moyenne ou la médiane (variables quantitatives) : \n",
    "remplacer les valeurs manquantes par une valeur. La variable ***quantitative*** doit admettre une distribution normale"
   ]
  },
  {
   "cell_type": "code",
   "execution_count": 23,
   "id": "7285d0bd-8747-4f1c-8a82-58724e0d79c6",
   "metadata": {},
   "outputs": [
    {
     "data": {
      "text/plain": [
       "<Axes: xlabel='age', ylabel='Count'>"
      ]
     },
     "execution_count": 23,
     "metadata": {},
     "output_type": "execute_result"
    },
    {
     "data": {
      "image/png": "[encoded data removed]",
      "text/plain": [
       "<Figure size 640x480 with 1 Axes>"
      ]
     },
     "metadata": {},
     "output_type": "display_data"
    }
   ],
   "source": [
    "# distribution normale visuelle (avec le KDE de l'histogramme)\n",
    "sns.histplot(x = \"age\", data = dataframe, kde = True, color = \"green\")"
   ]
  },
  {
   "cell_type": "code",
   "execution_count": 24,
   "id": "94799a96-f5d8-4686-88fa-0ba89193605e",
   "metadata": {},
   "outputs": [
    {
     "name": "stdout",
     "output_type": "stream",
     "text": [
      "la statistique de test W = 0.981 et  la p-valeur est : 0.0000000734\n",
      "La distribution n'est pas celle de la loi normale\n"
     ]
    }
   ],
   "source": [
    "# distribution normale par le test de Shapiro-Wilk (test de niveau 95%)\n",
    "from scipy.stats import shapiro\n",
    "# suppression des valeurs manquantes (dans une série avant le test)\n",
    "data_test = dataframe[\"age\"].dropna()\n",
    "stat, p_valeur = shapiro(data_test)\n",
    "print(f\"la statistique de test W = {stat:.3f} et  la p-valeur est : {p_valeur:.10f}\")\n",
    "if p_valeur > 0.05:\n",
    "    print(\"La distribution est probablement normale\")\n",
    "else :\n",
    "    print(\"La distribution n'est pas celle de la loi normale\")"
   ]
  },
  {
   "cell_type": "markdown",
   "id": "72b305d1-ae4c-451a-b2e0-276414bb605c",
   "metadata": {},
   "source": [
    "**Remarque** : Si la **statistique de test (W)** est proche de **1** alors la distrbution est proche de la loi normale et lorsque **W** est proche **0** alors la s'éloigne de la normalité.\n",
    "Toutefois, **cela n'est pas suffisant** : Tout dépendra de **la p-valeur > alpha** (alpha : risque de première espèce fixé à l'avance)"
   ]
  },
  {
   "cell_type": "code",
   "execution_count": 25,
   "id": "0ef5b5df-b1f1-402f-b352-abeef2af836d",
   "metadata": {},
   "outputs": [
    {
     "name": "stdout",
     "output_type": "stream",
     "text": [
      "Le coéfficient d'asymétrie (skewness) :  0.389\n",
      "Le coéfficient d'aplatissement (kurtosis) :  0.178\n"
     ]
    }
   ],
   "source": [
    "# vérification de la normalité (distribution) par les coéfficients d'asymétrie (skewness) et d'aplatissement (Kurtosis)\n",
    "skewness = dataframe[\"age\"].skew()\n",
    "print (\"Le coéfficient d'asymétrie (skewness) : \", round(skewness, 3))\n",
    "kurtosis = dataframe[\"age\"].kurtosis()\n",
    "print (\"Le coéfficient d'aplatissement (kurtosis) : \", round(kurtosis, 3))"
   ]
  },
  {
   "cell_type": "markdown",
   "id": "629dd4aa-6a2e-4f6d-bad5-490950a1153c",
   "metadata": {},
   "source": [
    "**Remarques:**\n",
    "- Le **Skewness** : asymétrie\n",
    "  1. skewness proche de 0 en valeur absolue : distribution **presque symétrique** proche de la gaussienne centrée réduite. On peut donc remplacer les valeurs manquantes par **la moyenne**.\n",
    "  2. skewness > 0 : distribution **asymétrique à droite** (queue vers les grandes valeurs). Il y'a plusieurs valeurs extrêmes (outliers), .donc la **médiane** conviendrait.\n",
    "  3. skewness < 0 : distribution **asymétrique à gauche** (queue vers les petites valeurs). Présence de plusieurs  **outliers** de faibles valeurs. La moyenne peut être influencée par les valeurs extrêmes basses, d'où l'usage de la **médiane**.\n",
    "- Le **Kurtosis** : importance des valeurs extrêmes\n",
    "  1. kurtosis proche de 3 : distribution  proche de la gaussienne centrée réduite. Usage de la **moyenne**\n",
    "  2. kurtosis > 3 : distribution **plus pointue** (les valeurs extrêmes plus fréquente peuvent influencer la moyenne). Opter pour la **médiane**\n",
    "  3. kurtosis < 3 : distribution **plus aplatie** (absence des pics intenses qui faussent le calcul). La **moyenne** peut être pertinente. "
   ]
  },
  {
   "cell_type": "code",
   "execution_count": 26,
   "id": "5308be1e-d72c-4128-b48d-162d46ec7d72",
   "metadata": {},
   "outputs": [
    {
     "name": "stdout",
     "output_type": "stream",
     "text": [
      "la statistique de test D = 0.065 et  la p-valeur est : 0.0049634719\n",
      "La distribution n'est pas celle de la loi normale\n"
     ]
    }
   ],
   "source": [
    "# test de Kolmogorov - Smirnov (KS)\n",
    "from scipy.stats import kstest, zscore\n",
    "data_test = dataframe[\"age\"].dropna()\n",
    "# standardisation des valeurs\n",
    "data_test = zscore(data_test)\n",
    "# test KS\n",
    "stat, p_valeur = kstest(data_test, \"norm\")\n",
    "print(f\"la statistique de test D = {stat:.3f} et  la p-valeur est : {p_valeur:.10f}\")\n",
    "if p_valeur > 0.05:\n",
    "    print(\"La distribution est probablement normale\")\n",
    "else :\n",
    "    print(\"La distribution n'est pas celle de la loi normale\")"
   ]
  },
  {
   "cell_type": "markdown",
   "id": "2673a3be-d283-4433-92e2-8edf34ef605f",
   "metadata": {},
   "source": [
    "La statistique de test **D** du test KS est la plus grande distance entre la **fonction de répartion empirique** et la **fonction de répartition de la gaussienne centrée réduite**. Donc des faibles valeurs de D pourraient suggérer une distribution proche de la loi normale et des valeurs élevées de D, un éloignement de la distribution normale. Toutefois, **la p-valeur** permet de conclure sur l'hypothèse de normalité."
   ]
  },
  {
   "cell_type": "code",
   "execution_count": 27,
   "id": "05fdaf27-e697-4a84-b4ca-fc8ed83a4b99",
   "metadata": {},
   "outputs": [
    {
     "name": "stdout",
     "output_type": "stream",
     "text": [
      "la statistique d'Agostino = 18.105 et  la p-valeur est : 0.0001170960\n",
      "La distribution n'est pas celle de la loi normale -> La médiane est plus adaptée comme valeur d'imputation\n"
     ]
    }
   ],
   "source": [
    "# test d'Agostino - Pearson\n",
    "from scipy.stats import normaltest\n",
    "data_test = dataframe[\"age\"].dropna()\n",
    "stat, p_valeur = normaltest(data_test)\n",
    "print(f\"la statistique d'Agostino = {stat:.3f} et  la p-valeur est : {p_valeur:.10f}\")\n",
    "if p_valeur > 0.05:\n",
    "    print(\"La distribution est probablement normale -> La moyenne convient comme valeur d'imputation\")\n",
    "else :\n",
    "    print(\"La distribution n'est pas celle de la loi normale -> La médiane est plus adaptée comme valeur d'imputation\")"
   ]
  },
  {
   "cell_type": "code",
   "execution_count": 28,
   "id": "5f344560-6da9-4dc5-8d05-0f0e13db0d55",
   "metadata": {},
   "outputs": [
    {
     "data": {
      "image/png": "[encoded data removed]",
      "text/plain": [
       "<Figure size 640x480 with 1 Axes>"
      ]
     },
     "metadata": {},
     "output_type": "display_data"
    }
   ],
   "source": [
    "from scipy import stats\n",
    "# la méthode Q - Q plot\n",
    "data_test = dataframe[\"age\"].dropna()\n",
    "# standardisation des données\n",
    "data_test = zscore(data_test)\n",
    "# Q-Q plot\n",
    "stats.probplot(data_test, dist=\"norm\", plot=plt)\n",
    "plt.title(\"Q-Q Plot\")\n",
    "plt.xlabel(\"Quantiles théoriques\")\n",
    "plt.ylabel(\"Quantiles empiriques\")\n",
    "plt.show()"
   ]
  },
  {
   "cell_type": "markdown",
   "id": "ede9c0bc-1cc8-4c0a-a73e-354ced1bc81b",
   "metadata": {},
   "source": [
    "- x = $F^{-1}$(p) où p appartient à \\[O.01, 0.02, ..., 0,99] et $F^{-1}$, **la bijection réciproque de la fonction de répartition de la loi normale** (fonction quantile)\n",
    "- y = Q(p), le même p utilisé pour le calcul de x, et Q est la **fonction quantile de la distribution empirique**\n",
    "- **Alignement sur la diagonale** : distribution proche de la loi normale\n",
    "- **Courbe en S** : distribution **asymétrique**\n",
    "- **Points éloignés aux extrémités** : présence des valeurs extrêmes\n",
    "- **Déviation vers le haut ou vers le bas** : queue de distribution étendue"
   ]
  },
  {
   "cell_type": "markdown",
   "id": "948439f0-7710-4449-b65a-9cb082e063a8",
   "metadata": {},
   "source": [
    "#### Remplacement des valeurs manquantes : \n",
    "Veuillez à ce que la valeur qui remplacera la valeur des données manquantes **ne modifie pas significativement la variance** (ou écart-type, std : standart deviation) des données."
   ]
  },
  {
   "cell_type": "code",
   "execution_count": 29,
   "id": "4423e43f-ac94-4c9d-b375-fd3a36bc28ba",
   "metadata": {},
   "outputs": [
    {
     "data": {
      "text/html": [
       "<div>\n",
       "<style scoped>\n",
       "    .dataframe tbody tr th:only-of-type {\n",
       "        vertical-align: middle;\n",
       "    }\n",
       "\n",
       "    .dataframe tbody tr th {\n",
       "        vertical-align: top;\n",
       "    }\n",
       "\n",
       "    .dataframe thead th {\n",
       "        text-align: right;\n",
       "    }\n",
       "</style>\n",
       "<table border=\"1\" class=\"dataframe\">\n",
       "  <thead>\n",
       "    <tr style=\"text-align: right;\">\n",
       "      <th></th>\n",
       "      <th>survived</th>\n",
       "      <th>pclass</th>\n",
       "      <th>age</th>\n",
       "      <th>sibsp</th>\n",
       "      <th>parch</th>\n",
       "      <th>fare</th>\n",
       "    </tr>\n",
       "  </thead>\n",
       "  <tbody>\n",
       "    <tr>\n",
       "      <th>count</th>\n",
       "      <td>891.000000</td>\n",
       "      <td>891.000000</td>\n",
       "      <td>714.000000</td>\n",
       "      <td>891.000000</td>\n",
       "      <td>891.000000</td>\n",
       "      <td>891.000000</td>\n",
       "    </tr>\n",
       "    <tr>\n",
       "      <th>mean</th>\n",
       "      <td>0.383838</td>\n",
       "      <td>2.308642</td>\n",
       "      <td>29.699118</td>\n",
       "      <td>0.523008</td>\n",
       "      <td>0.381594</td>\n",
       "      <td>32.204208</td>\n",
       "    </tr>\n",
       "    <tr>\n",
       "      <th>std</th>\n",
       "      <td>0.486592</td>\n",
       "      <td>0.836071</td>\n",
       "      <td>14.526497</td>\n",
       "      <td>1.102743</td>\n",
       "      <td>0.806057</td>\n",
       "      <td>49.693429</td>\n",
       "    </tr>\n",
       "    <tr>\n",
       "      <th>min</th>\n",
       "      <td>0.000000</td>\n",
       "      <td>1.000000</td>\n",
       "      <td>0.420000</td>\n",
       "      <td>0.000000</td>\n",
       "      <td>0.000000</td>\n",
       "      <td>0.000000</td>\n",
       "    </tr>\n",
       "    <tr>\n",
       "      <th>25%</th>\n",
       "      <td>0.000000</td>\n",
       "      <td>2.000000</td>\n",
       "      <td>20.125000</td>\n",
       "      <td>0.000000</td>\n",
       "      <td>0.000000</td>\n",
       "      <td>7.910400</td>\n",
       "    </tr>\n",
       "    <tr>\n",
       "      <th>50%</th>\n",
       "      <td>0.000000</td>\n",
       "      <td>3.000000</td>\n",
       "      <td>28.000000</td>\n",
       "      <td>0.000000</td>\n",
       "      <td>0.000000</td>\n",
       "      <td>14.454200</td>\n",
       "    </tr>\n",
       "    <tr>\n",
       "      <th>75%</th>\n",
       "      <td>1.000000</td>\n",
       "      <td>3.000000</td>\n",
       "      <td>38.000000</td>\n",
       "      <td>1.000000</td>\n",
       "      <td>0.000000</td>\n",
       "      <td>31.000000</td>\n",
       "    </tr>\n",
       "    <tr>\n",
       "      <th>max</th>\n",
       "      <td>1.000000</td>\n",
       "      <td>3.000000</td>\n",
       "      <td>80.000000</td>\n",
       "      <td>8.000000</td>\n",
       "      <td>6.000000</td>\n",
       "      <td>512.329200</td>\n",
       "    </tr>\n",
       "  </tbody>\n",
       "</table>\n",
       "</div>"
      ],
      "text/plain": [
       "         survived      pclass         age       sibsp       parch        fare\n",
       "count  891.000000  891.000000  714.000000  891.000000  891.000000  891.000000\n",
       "mean     0.383838    2.308642   29.699118    0.523008    0.381594   32.204208\n",
       "std      0.486592    0.836071   14.526497    1.102743    0.806057   49.693429\n",
       "min      0.000000    1.000000    0.420000    0.000000    0.000000    0.000000\n",
       "25%      0.000000    2.000000   20.125000    0.000000    0.000000    7.910400\n",
       "50%      0.000000    3.000000   28.000000    0.000000    0.000000   14.454200\n",
       "75%      1.000000    3.000000   38.000000    1.000000    0.000000   31.000000\n",
       "max      1.000000    3.000000   80.000000    8.000000    6.000000  512.329200"
      ]
     },
     "execution_count": 29,
     "metadata": {},
     "output_type": "execute_result"
    }
   ],
   "source": [
    "dataframe.describe()"
   ]
  },
  {
   "cell_type": "code",
   "execution_count": 30,
   "id": "a4aa9b1c-7eeb-4a10-bb36-6332efe084a9",
   "metadata": {},
   "outputs": [
    {
     "name": "stdout",
     "output_type": "stream",
     "text": [
      " l'écart-type passe de :  14.526 à 13.002\n"
     ]
    }
   ],
   "source": [
    "# imputation par la moyenne\n",
    "data_moyenne = dataframe.fillna(value = {\"age\" : dataframe[\"age\"].mean()})\n",
    "print(f\" l'écart-type passe de : {dataframe[\"age\"].std(): .3f} à {data_moyenne[\"age\"].std():.3f}\")"
   ]
  },
  {
   "cell_type": "code",
   "execution_count": 31,
   "id": "f7c4c4bf-47a1-4b36-8435-5c54390dad29",
   "metadata": {},
   "outputs": [
    {
     "name": "stdout",
     "output_type": "stream",
     "text": [
      " l'écart-type passe de :  14.526 à 13.020\n"
     ]
    }
   ],
   "source": [
    "# imputation par la médiane\n",
    "data_moyenne = dataframe.fillna(value = {\"age\" : dataframe[\"age\"].median()})\n",
    "print(f\" l'écart-type passe de : {dataframe[\"age\"].std(): .3f} à {data_moyenne[\"age\"].std():.3f}\")"
   ]
  },
  {
   "cell_type": "code",
   "execution_count": 32,
   "id": "ed84d282-560d-4ac8-86b7-5a02e355a7f0",
   "metadata": {},
   "outputs": [
    {
     "name": "stdout",
     "output_type": "stream",
     "text": [
      "<class 'pandas.core.frame.DataFrame'>\n",
      "RangeIndex: 891 entries, 0 to 890\n",
      "Data columns (total 9 columns):\n",
      " #   Column       Non-Null Count  Dtype  \n",
      "---  ------       --------------  -----  \n",
      " 0   survived     891 non-null    int64  \n",
      " 1   pclass       891 non-null    int64  \n",
      " 2   sex          891 non-null    object \n",
      " 3   age          891 non-null    float64\n",
      " 4   sibsp        891 non-null    int64  \n",
      " 5   parch        891 non-null    int64  \n",
      " 6   fare         891 non-null    float64\n",
      " 7   adult_male   891 non-null    bool   \n",
      " 8   embark_town  889 non-null    object \n",
      "dtypes: bool(1), float64(2), int64(4), object(2)\n",
      "memory usage: 56.7+ KB\n"
     ]
    }
   ],
   "source": [
    "# Après les tests de normalité vu précédemment, la médiane est plus adaptée\n",
    "dataframe.fillna(value = {\"age\" : dataframe[\"age\"].median()}, inplace = True)\n",
    "dataframe.info()"
   ]
  },
  {
   "cell_type": "code",
   "execution_count": 33,
   "id": "b57213d1-648b-4031-9d3f-ea1959a1ff85",
   "metadata": {},
   "outputs": [
    {
     "data": {
      "text/plain": [
       "survived       0\n",
       "pclass         0\n",
       "sex            0\n",
       "age            0\n",
       "sibsp          0\n",
       "parch          0\n",
       "fare           0\n",
       "adult_male     0\n",
       "embark_town    2\n",
       "dtype: int64"
      ]
     },
     "execution_count": 33,
     "metadata": {},
     "output_type": "execute_result"
    }
   ],
   "source": [
    "dataframe.isna().sum()"
   ]
  },
  {
   "cell_type": "markdown",
   "id": "94a8fbb3-9e33-4662-a2cd-0a767b3b679d",
   "metadata": {},
   "source": [
    "### Imputation par le mode (variable catégorielle) : \n",
    "la modilité de plus grande fréquence"
   ]
  },
  {
   "cell_type": "code",
   "execution_count": 34,
   "id": "5a4bdfa7-f522-4e55-8ba2-93605d0069d9",
   "metadata": {},
   "outputs": [
    {
     "data": {
      "text/plain": [
       "embark_town\n",
       "Southampton    644\n",
       "Cherbourg      168\n",
       "Queenstown      77\n",
       "Name: count, dtype: int64"
      ]
     },
     "execution_count": 34,
     "metadata": {},
     "output_type": "execute_result"
    }
   ],
   "source": [
    "# les fréquences absolues\n",
    "dataframe[\"embark_town\"].value_counts()"
   ]
  },
  {
   "cell_type": "code",
   "execution_count": 35,
   "id": "43041468-2ebc-4fc9-b26a-a0b6c15ad2e6",
   "metadata": {},
   "outputs": [
    {
     "data": {
      "text/plain": [
       "embark_town\n",
       "Southampton    0.724409\n",
       "Cherbourg      0.188976\n",
       "Queenstown     0.086614\n",
       "Name: proportion, dtype: float64"
      ]
     },
     "execution_count": 35,
     "metadata": {},
     "output_type": "execute_result"
    }
   ],
   "source": [
    "# les fréquences relatives\n",
    "dataframe[\"embark_town\"].value_counts(normalize = True)"
   ]
  },
  {
   "cell_type": "code",
   "execution_count": 36,
   "id": "28916bd2-8610-4450-bf8f-1cd114e71b0c",
   "metadata": {},
   "outputs": [
    {
     "data": {
      "text/plain": [
       "survived       0\n",
       "pclass         0\n",
       "sex            0\n",
       "age            0\n",
       "sibsp          0\n",
       "parch          0\n",
       "fare           0\n",
       "adult_male     0\n",
       "embark_town    0\n",
       "dtype: int64"
      ]
     },
     "execution_count": 36,
     "metadata": {},
     "output_type": "execute_result"
    }
   ],
   "source": [
    "dataframe.fillna(value = {\"embark_town\" : \"Southampton\"}, inplace = True)\n",
    "dataframe.isna().sum()"
   ]
  },
  {
   "cell_type": "markdown",
   "id": "4f9eed71-7b2c-412b-be52-3e57142eff06",
   "metadata": {},
   "source": [
    "## 2. Les valeurs aberrantes (outliers)"
   ]
  },
  {
   "cell_type": "code",
   "execution_count": 37,
   "id": "3b90cef2-1eed-4a94-975e-dfcd76db1786",
   "metadata": {},
   "outputs": [
    {
     "data": {
      "text/plain": [
       "<Axes: ylabel='age'>"
      ]
     },
     "execution_count": 37,
     "metadata": {},
     "output_type": "execute_result"
    },
    {
     "data": {
      "image/png": "[encoded data removed]",
      "text/plain": [
       "<Figure size 640x480 with 1 Axes>"
      ]
     },
     "metadata": {},
     "output_type": "display_data"
    }
   ],
   "source": [
    "sns.boxplot(dataframe[\"age\"])"
   ]
  },
  {
   "cell_type": "code",
   "execution_count": 38,
   "id": "444d4b1c-46aa-413e-ade5-9b24e43ea1af",
   "metadata": {},
   "outputs": [
    {
     "name": "stdout",
     "output_type": "stream",
     "text": [
      "L'intervale interquartile est:  13.0\n"
     ]
    }
   ],
   "source": [
    "# la détection des valeurs aberrantes par la méthode IQR (InterQuartile Range)\n",
    "data_test = dataframe[\"age\"].dropna()\n",
    "# calcul des quartiles\n",
    "Q1 = np.percentile(data_test, 25) # premier quartile (> 25% des valeurs)\n",
    "Q3 = np.percentile(data_test, 75) # troisième quartile (> 75% des valeurs)\n",
    "IQR = Q3 - Q1\n",
    "print(\"L'intervale interquartile est: \", IQR)"
   ]
  },
  {
   "cell_type": "code",
   "execution_count": 39,
   "id": "0d39b2ab-cd71-45dd-92fb-736b92c02e70",
   "metadata": {},
   "outputs": [
    {
     "data": {
      "text/html": [
       "<div>\n",
       "<style scoped>\n",
       "    .dataframe tbody tr th:only-of-type {\n",
       "        vertical-align: middle;\n",
       "    }\n",
       "\n",
       "    .dataframe tbody tr th {\n",
       "        vertical-align: top;\n",
       "    }\n",
       "\n",
       "    .dataframe thead th {\n",
       "        text-align: right;\n",
       "    }\n",
       "</style>\n",
       "<table border=\"1\" class=\"dataframe\">\n",
       "  <thead>\n",
       "    <tr style=\"text-align: right;\">\n",
       "      <th></th>\n",
       "      <th>survived</th>\n",
       "      <th>pclass</th>\n",
       "      <th>sex</th>\n",
       "      <th>age</th>\n",
       "      <th>sibsp</th>\n",
       "      <th>parch</th>\n",
       "      <th>fare</th>\n",
       "      <th>adult_male</th>\n",
       "      <th>embark_town</th>\n",
       "    </tr>\n",
       "  </thead>\n",
       "  <tbody>\n",
       "    <tr>\n",
       "      <th>7</th>\n",
       "      <td>0</td>\n",
       "      <td>3</td>\n",
       "      <td>male</td>\n",
       "      <td>2.00</td>\n",
       "      <td>3</td>\n",
       "      <td>1</td>\n",
       "      <td>21.0750</td>\n",
       "      <td>False</td>\n",
       "      <td>Southampton</td>\n",
       "    </tr>\n",
       "    <tr>\n",
       "      <th>11</th>\n",
       "      <td>1</td>\n",
       "      <td>1</td>\n",
       "      <td>female</td>\n",
       "      <td>58.00</td>\n",
       "      <td>0</td>\n",
       "      <td>0</td>\n",
       "      <td>26.5500</td>\n",
       "      <td>False</td>\n",
       "      <td>Southampton</td>\n",
       "    </tr>\n",
       "    <tr>\n",
       "      <th>15</th>\n",
       "      <td>1</td>\n",
       "      <td>2</td>\n",
       "      <td>female</td>\n",
       "      <td>55.00</td>\n",
       "      <td>0</td>\n",
       "      <td>0</td>\n",
       "      <td>16.0000</td>\n",
       "      <td>False</td>\n",
       "      <td>Southampton</td>\n",
       "    </tr>\n",
       "    <tr>\n",
       "      <th>16</th>\n",
       "      <td>0</td>\n",
       "      <td>3</td>\n",
       "      <td>male</td>\n",
       "      <td>2.00</td>\n",
       "      <td>4</td>\n",
       "      <td>1</td>\n",
       "      <td>29.1250</td>\n",
       "      <td>False</td>\n",
       "      <td>Queenstown</td>\n",
       "    </tr>\n",
       "    <tr>\n",
       "      <th>33</th>\n",
       "      <td>0</td>\n",
       "      <td>2</td>\n",
       "      <td>male</td>\n",
       "      <td>66.00</td>\n",
       "      <td>0</td>\n",
       "      <td>0</td>\n",
       "      <td>10.5000</td>\n",
       "      <td>True</td>\n",
       "      <td>Southampton</td>\n",
       "    </tr>\n",
       "    <tr>\n",
       "      <th>...</th>\n",
       "      <td>...</td>\n",
       "      <td>...</td>\n",
       "      <td>...</td>\n",
       "      <td>...</td>\n",
       "      <td>...</td>\n",
       "      <td>...</td>\n",
       "      <td>...</td>\n",
       "      <td>...</td>\n",
       "      <td>...</td>\n",
       "    </tr>\n",
       "    <tr>\n",
       "      <th>827</th>\n",
       "      <td>1</td>\n",
       "      <td>2</td>\n",
       "      <td>male</td>\n",
       "      <td>1.00</td>\n",
       "      <td>0</td>\n",
       "      <td>2</td>\n",
       "      <td>37.0042</td>\n",
       "      <td>False</td>\n",
       "      <td>Cherbourg</td>\n",
       "    </tr>\n",
       "    <tr>\n",
       "      <th>829</th>\n",
       "      <td>1</td>\n",
       "      <td>1</td>\n",
       "      <td>female</td>\n",
       "      <td>62.00</td>\n",
       "      <td>0</td>\n",
       "      <td>0</td>\n",
       "      <td>80.0000</td>\n",
       "      <td>False</td>\n",
       "      <td>Southampton</td>\n",
       "    </tr>\n",
       "    <tr>\n",
       "      <th>831</th>\n",
       "      <td>1</td>\n",
       "      <td>2</td>\n",
       "      <td>male</td>\n",
       "      <td>0.83</td>\n",
       "      <td>1</td>\n",
       "      <td>1</td>\n",
       "      <td>18.7500</td>\n",
       "      <td>False</td>\n",
       "      <td>Southampton</td>\n",
       "    </tr>\n",
       "    <tr>\n",
       "      <th>851</th>\n",
       "      <td>0</td>\n",
       "      <td>3</td>\n",
       "      <td>male</td>\n",
       "      <td>74.00</td>\n",
       "      <td>0</td>\n",
       "      <td>0</td>\n",
       "      <td>7.7750</td>\n",
       "      <td>True</td>\n",
       "      <td>Southampton</td>\n",
       "    </tr>\n",
       "    <tr>\n",
       "      <th>879</th>\n",
       "      <td>1</td>\n",
       "      <td>1</td>\n",
       "      <td>female</td>\n",
       "      <td>56.00</td>\n",
       "      <td>0</td>\n",
       "      <td>1</td>\n",
       "      <td>83.1583</td>\n",
       "      <td>False</td>\n",
       "      <td>Cherbourg</td>\n",
       "    </tr>\n",
       "  </tbody>\n",
       "</table>\n",
       "<p>66 rows × 9 columns</p>\n",
       "</div>"
      ],
      "text/plain": [
       "     survived  pclass     sex    age  sibsp  parch     fare  adult_male  \\\n",
       "7           0       3    male   2.00      3      1  21.0750       False   \n",
       "11          1       1  female  58.00      0      0  26.5500       False   \n",
       "15          1       2  female  55.00      0      0  16.0000       False   \n",
       "16          0       3    male   2.00      4      1  29.1250       False   \n",
       "33          0       2    male  66.00      0      0  10.5000        True   \n",
       "..        ...     ...     ...    ...    ...    ...      ...         ...   \n",
       "827         1       2    male   1.00      0      2  37.0042       False   \n",
       "829         1       1  female  62.00      0      0  80.0000       False   \n",
       "831         1       2    male   0.83      1      1  18.7500       False   \n",
       "851         0       3    male  74.00      0      0   7.7750        True   \n",
       "879         1       1  female  56.00      0      1  83.1583       False   \n",
       "\n",
       "     embark_town  \n",
       "7    Southampton  \n",
       "11   Southampton  \n",
       "15   Southampton  \n",
       "16    Queenstown  \n",
       "33   Southampton  \n",
       "..           ...  \n",
       "827    Cherbourg  \n",
       "829  Southampton  \n",
       "831  Southampton  \n",
       "851  Southampton  \n",
       "879    Cherbourg  \n",
       "\n",
       "[66 rows x 9 columns]"
      ]
     },
     "execution_count": 39,
     "metadata": {},
     "output_type": "execute_result"
    }
   ],
   "source": [
    "outliers = dataframe[(dataframe[\"age\"] < Q1 - 1.5 * IQR) | (dataframe[\"age\"] > Q3 + 1.5 * IQR)]\n",
    "outliers"
   ]
  },
  {
   "cell_type": "code",
   "execution_count": 40,
   "id": "04841f86-a05b-483c-b5ab-37ba3df8d7a3",
   "metadata": {},
   "outputs": [],
   "source": [
    "# fonction pour les outliers avec la méthode IQR : (dataframe, etiquetteVariable) -> dataframeOutliers\n",
    "def find_outliers(data, variable_name):\n",
    "    Q1 = data[variable_name].quantile(0.25)\n",
    "    Q3 = data[variable_name].quantile(0.75)\n",
    "    return data[(data[variable_name] < Q1 - 1.5 * (Q3 - Q1)) | (data[variable_name] > Q3 + 1.5 * (Q3 - Q1))]\n"
   ]
  },
  {
   "cell_type": "code",
   "execution_count": 41,
   "id": "566ad672-022f-42fa-b604-405f5da1a81d",
   "metadata": {},
   "outputs": [
    {
     "data": {
      "text/html": [
       "<div>\n",
       "<style scoped>\n",
       "    .dataframe tbody tr th:only-of-type {\n",
       "        vertical-align: middle;\n",
       "    }\n",
       "\n",
       "    .dataframe tbody tr th {\n",
       "        vertical-align: top;\n",
       "    }\n",
       "\n",
       "    .dataframe thead th {\n",
       "        text-align: right;\n",
       "    }\n",
       "</style>\n",
       "<table border=\"1\" class=\"dataframe\">\n",
       "  <thead>\n",
       "    <tr style=\"text-align: right;\">\n",
       "      <th></th>\n",
       "      <th>survived</th>\n",
       "      <th>pclass</th>\n",
       "      <th>sex</th>\n",
       "      <th>age</th>\n",
       "      <th>sibsp</th>\n",
       "      <th>parch</th>\n",
       "      <th>fare</th>\n",
       "      <th>adult_male</th>\n",
       "      <th>embark_town</th>\n",
       "    </tr>\n",
       "  </thead>\n",
       "  <tbody>\n",
       "    <tr>\n",
       "      <th>803</th>\n",
       "      <td>1</td>\n",
       "      <td>3</td>\n",
       "      <td>male</td>\n",
       "      <td>0.42</td>\n",
       "      <td>0</td>\n",
       "      <td>1</td>\n",
       "      <td>8.5167</td>\n",
       "      <td>False</td>\n",
       "      <td>Cherbourg</td>\n",
       "    </tr>\n",
       "    <tr>\n",
       "      <th>755</th>\n",
       "      <td>1</td>\n",
       "      <td>2</td>\n",
       "      <td>male</td>\n",
       "      <td>0.67</td>\n",
       "      <td>1</td>\n",
       "      <td>1</td>\n",
       "      <td>14.5000</td>\n",
       "      <td>False</td>\n",
       "      <td>Southampton</td>\n",
       "    </tr>\n",
       "    <tr>\n",
       "      <th>469</th>\n",
       "      <td>1</td>\n",
       "      <td>3</td>\n",
       "      <td>female</td>\n",
       "      <td>0.75</td>\n",
       "      <td>2</td>\n",
       "      <td>1</td>\n",
       "      <td>19.2583</td>\n",
       "      <td>False</td>\n",
       "      <td>Cherbourg</td>\n",
       "    </tr>\n",
       "    <tr>\n",
       "      <th>644</th>\n",
       "      <td>1</td>\n",
       "      <td>3</td>\n",
       "      <td>female</td>\n",
       "      <td>0.75</td>\n",
       "      <td>2</td>\n",
       "      <td>1</td>\n",
       "      <td>19.2583</td>\n",
       "      <td>False</td>\n",
       "      <td>Cherbourg</td>\n",
       "    </tr>\n",
       "    <tr>\n",
       "      <th>831</th>\n",
       "      <td>1</td>\n",
       "      <td>2</td>\n",
       "      <td>male</td>\n",
       "      <td>0.83</td>\n",
       "      <td>1</td>\n",
       "      <td>1</td>\n",
       "      <td>18.7500</td>\n",
       "      <td>False</td>\n",
       "      <td>Southampton</td>\n",
       "    </tr>\n",
       "    <tr>\n",
       "      <th>...</th>\n",
       "      <td>...</td>\n",
       "      <td>...</td>\n",
       "      <td>...</td>\n",
       "      <td>...</td>\n",
       "      <td>...</td>\n",
       "      <td>...</td>\n",
       "      <td>...</td>\n",
       "      <td>...</td>\n",
       "      <td>...</td>\n",
       "    </tr>\n",
       "    <tr>\n",
       "      <th>116</th>\n",
       "      <td>0</td>\n",
       "      <td>3</td>\n",
       "      <td>male</td>\n",
       "      <td>70.50</td>\n",
       "      <td>0</td>\n",
       "      <td>0</td>\n",
       "      <td>7.7500</td>\n",
       "      <td>True</td>\n",
       "      <td>Queenstown</td>\n",
       "    </tr>\n",
       "    <tr>\n",
       "      <th>96</th>\n",
       "      <td>0</td>\n",
       "      <td>1</td>\n",
       "      <td>male</td>\n",
       "      <td>71.00</td>\n",
       "      <td>0</td>\n",
       "      <td>0</td>\n",
       "      <td>34.6542</td>\n",
       "      <td>True</td>\n",
       "      <td>Cherbourg</td>\n",
       "    </tr>\n",
       "    <tr>\n",
       "      <th>493</th>\n",
       "      <td>0</td>\n",
       "      <td>1</td>\n",
       "      <td>male</td>\n",
       "      <td>71.00</td>\n",
       "      <td>0</td>\n",
       "      <td>0</td>\n",
       "      <td>49.5042</td>\n",
       "      <td>True</td>\n",
       "      <td>Cherbourg</td>\n",
       "    </tr>\n",
       "    <tr>\n",
       "      <th>851</th>\n",
       "      <td>0</td>\n",
       "      <td>3</td>\n",
       "      <td>male</td>\n",
       "      <td>74.00</td>\n",
       "      <td>0</td>\n",
       "      <td>0</td>\n",
       "      <td>7.7750</td>\n",
       "      <td>True</td>\n",
       "      <td>Southampton</td>\n",
       "    </tr>\n",
       "    <tr>\n",
       "      <th>630</th>\n",
       "      <td>1</td>\n",
       "      <td>1</td>\n",
       "      <td>male</td>\n",
       "      <td>80.00</td>\n",
       "      <td>0</td>\n",
       "      <td>0</td>\n",
       "      <td>30.0000</td>\n",
       "      <td>True</td>\n",
       "      <td>Southampton</td>\n",
       "    </tr>\n",
       "  </tbody>\n",
       "</table>\n",
       "<p>66 rows × 9 columns</p>\n",
       "</div>"
      ],
      "text/plain": [
       "     survived  pclass     sex    age  sibsp  parch     fare  adult_male  \\\n",
       "803         1       3    male   0.42      0      1   8.5167       False   \n",
       "755         1       2    male   0.67      1      1  14.5000       False   \n",
       "469         1       3  female   0.75      2      1  19.2583       False   \n",
       "644         1       3  female   0.75      2      1  19.2583       False   \n",
       "831         1       2    male   0.83      1      1  18.7500       False   \n",
       "..        ...     ...     ...    ...    ...    ...      ...         ...   \n",
       "116         0       3    male  70.50      0      0   7.7500        True   \n",
       "96          0       1    male  71.00      0      0  34.6542        True   \n",
       "493         0       1    male  71.00      0      0  49.5042        True   \n",
       "851         0       3    male  74.00      0      0   7.7750        True   \n",
       "630         1       1    male  80.00      0      0  30.0000        True   \n",
       "\n",
       "     embark_town  \n",
       "803    Cherbourg  \n",
       "755  Southampton  \n",
       "469    Cherbourg  \n",
       "644    Cherbourg  \n",
       "831  Southampton  \n",
       "..           ...  \n",
       "116   Queenstown  \n",
       "96     Cherbourg  \n",
       "493    Cherbourg  \n",
       "851  Southampton  \n",
       "630  Southampton  \n",
       "\n",
       "[66 rows x 9 columns]"
      ]
     },
     "execution_count": 41,
     "metadata": {},
     "output_type": "execute_result"
    }
   ],
   "source": [
    "find_outliers(dataframe, \"age\").sort_values(\"age\")"
   ]
  },
  {
   "cell_type": "code",
   "execution_count": 42,
   "id": "3486b2bb-7162-4005-844b-a6887d99a818",
   "metadata": {},
   "outputs": [
    {
     "data": {
      "text/html": [
       "<div>\n",
       "<style scoped>\n",
       "    .dataframe tbody tr th:only-of-type {\n",
       "        vertical-align: middle;\n",
       "    }\n",
       "\n",
       "    .dataframe tbody tr th {\n",
       "        vertical-align: top;\n",
       "    }\n",
       "\n",
       "    .dataframe thead th {\n",
       "        text-align: right;\n",
       "    }\n",
       "</style>\n",
       "<table border=\"1\" class=\"dataframe\">\n",
       "  <thead>\n",
       "    <tr style=\"text-align: right;\">\n",
       "      <th></th>\n",
       "      <th>survived</th>\n",
       "      <th>pclass</th>\n",
       "      <th>sex</th>\n",
       "      <th>age</th>\n",
       "      <th>sibsp</th>\n",
       "      <th>parch</th>\n",
       "      <th>fare</th>\n",
       "      <th>adult_male</th>\n",
       "      <th>embark_town</th>\n",
       "    </tr>\n",
       "  </thead>\n",
       "  <tbody>\n",
       "    <tr>\n",
       "      <th>336</th>\n",
       "      <td>0</td>\n",
       "      <td>1</td>\n",
       "      <td>male</td>\n",
       "      <td>29.0</td>\n",
       "      <td>1</td>\n",
       "      <td>0</td>\n",
       "      <td>66.6000</td>\n",
       "      <td>True</td>\n",
       "      <td>Southampton</td>\n",
       "    </tr>\n",
       "    <tr>\n",
       "      <th>151</th>\n",
       "      <td>1</td>\n",
       "      <td>1</td>\n",
       "      <td>female</td>\n",
       "      <td>22.0</td>\n",
       "      <td>1</td>\n",
       "      <td>0</td>\n",
       "      <td>66.6000</td>\n",
       "      <td>False</td>\n",
       "      <td>Southampton</td>\n",
       "    </tr>\n",
       "    <tr>\n",
       "      <th>369</th>\n",
       "      <td>1</td>\n",
       "      <td>1</td>\n",
       "      <td>female</td>\n",
       "      <td>24.0</td>\n",
       "      <td>0</td>\n",
       "      <td>0</td>\n",
       "      <td>69.3000</td>\n",
       "      <td>False</td>\n",
       "      <td>Cherbourg</td>\n",
       "    </tr>\n",
       "    <tr>\n",
       "      <th>641</th>\n",
       "      <td>1</td>\n",
       "      <td>1</td>\n",
       "      <td>female</td>\n",
       "      <td>24.0</td>\n",
       "      <td>0</td>\n",
       "      <td>0</td>\n",
       "      <td>69.3000</td>\n",
       "      <td>False</td>\n",
       "      <td>Cherbourg</td>\n",
       "    </tr>\n",
       "    <tr>\n",
       "      <th>846</th>\n",
       "      <td>0</td>\n",
       "      <td>3</td>\n",
       "      <td>male</td>\n",
       "      <td>28.0</td>\n",
       "      <td>8</td>\n",
       "      <td>2</td>\n",
       "      <td>69.5500</td>\n",
       "      <td>True</td>\n",
       "      <td>Southampton</td>\n",
       "    </tr>\n",
       "    <tr>\n",
       "      <th>...</th>\n",
       "      <td>...</td>\n",
       "      <td>...</td>\n",
       "      <td>...</td>\n",
       "      <td>...</td>\n",
       "      <td>...</td>\n",
       "      <td>...</td>\n",
       "      <td>...</td>\n",
       "      <td>...</td>\n",
       "      <td>...</td>\n",
       "    </tr>\n",
       "    <tr>\n",
       "      <th>27</th>\n",
       "      <td>0</td>\n",
       "      <td>1</td>\n",
       "      <td>male</td>\n",
       "      <td>19.0</td>\n",
       "      <td>3</td>\n",
       "      <td>2</td>\n",
       "      <td>263.0000</td>\n",
       "      <td>True</td>\n",
       "      <td>Southampton</td>\n",
       "    </tr>\n",
       "    <tr>\n",
       "      <th>341</th>\n",
       "      <td>1</td>\n",
       "      <td>1</td>\n",
       "      <td>female</td>\n",
       "      <td>24.0</td>\n",
       "      <td>3</td>\n",
       "      <td>2</td>\n",
       "      <td>263.0000</td>\n",
       "      <td>False</td>\n",
       "      <td>Southampton</td>\n",
       "    </tr>\n",
       "    <tr>\n",
       "      <th>679</th>\n",
       "      <td>1</td>\n",
       "      <td>1</td>\n",
       "      <td>male</td>\n",
       "      <td>36.0</td>\n",
       "      <td>0</td>\n",
       "      <td>1</td>\n",
       "      <td>512.3292</td>\n",
       "      <td>True</td>\n",
       "      <td>Cherbourg</td>\n",
       "    </tr>\n",
       "    <tr>\n",
       "      <th>737</th>\n",
       "      <td>1</td>\n",
       "      <td>1</td>\n",
       "      <td>male</td>\n",
       "      <td>35.0</td>\n",
       "      <td>0</td>\n",
       "      <td>0</td>\n",
       "      <td>512.3292</td>\n",
       "      <td>True</td>\n",
       "      <td>Cherbourg</td>\n",
       "    </tr>\n",
       "    <tr>\n",
       "      <th>258</th>\n",
       "      <td>1</td>\n",
       "      <td>1</td>\n",
       "      <td>female</td>\n",
       "      <td>35.0</td>\n",
       "      <td>0</td>\n",
       "      <td>0</td>\n",
       "      <td>512.3292</td>\n",
       "      <td>False</td>\n",
       "      <td>Cherbourg</td>\n",
       "    </tr>\n",
       "  </tbody>\n",
       "</table>\n",
       "<p>116 rows × 9 columns</p>\n",
       "</div>"
      ],
      "text/plain": [
       "     survived  pclass     sex   age  sibsp  parch      fare  adult_male  \\\n",
       "336         0       1    male  29.0      1      0   66.6000        True   \n",
       "151         1       1  female  22.0      1      0   66.6000       False   \n",
       "369         1       1  female  24.0      0      0   69.3000       False   \n",
       "641         1       1  female  24.0      0      0   69.3000       False   \n",
       "846         0       3    male  28.0      8      2   69.5500        True   \n",
       "..        ...     ...     ...   ...    ...    ...       ...         ...   \n",
       "27          0       1    male  19.0      3      2  263.0000        True   \n",
       "341         1       1  female  24.0      3      2  263.0000       False   \n",
       "679         1       1    male  36.0      0      1  512.3292        True   \n",
       "737         1       1    male  35.0      0      0  512.3292        True   \n",
       "258         1       1  female  35.0      0      0  512.3292       False   \n",
       "\n",
       "     embark_town  \n",
       "336  Southampton  \n",
       "151  Southampton  \n",
       "369    Cherbourg  \n",
       "641    Cherbourg  \n",
       "846  Southampton  \n",
       "..           ...  \n",
       "27   Southampton  \n",
       "341  Southampton  \n",
       "679    Cherbourg  \n",
       "737    Cherbourg  \n",
       "258    Cherbourg  \n",
       "\n",
       "[116 rows x 9 columns]"
      ]
     },
     "execution_count": 42,
     "metadata": {},
     "output_type": "execute_result"
    }
   ],
   "source": [
    "find_outliers(dataframe, \"fare\").sort_values(\"fare\")"
   ]
  },
  {
   "cell_type": "code",
   "execution_count": 43,
   "id": "b25e9fbe-0b72-4cf8-8e54-d729b1ec64b9",
   "metadata": {},
   "outputs": [
    {
     "data": {
      "text/plain": [
       "<Axes: ylabel='fare'>"
      ]
     },
     "execution_count": 43,
     "metadata": {},
     "output_type": "execute_result"
    },
    {
     "data": {
      "image/png": "[encoded data removed]",
      "text/plain": [
       "<Figure size 1200x600 with 2 Axes>"
      ]
     },
     "metadata": {},
     "output_type": "display_data"
    }
   ],
   "source": [
    "fig, axes = plt.subplots(1, 2, figsize = (12, 6))\n",
    "sns.boxplot(dataframe[\"age\"], ax = axes[0], color = 'green')\n",
    "sns.boxplot(dataframe[\"fare\"], ax = axes[1], color = 'cyan')"
   ]
  },
  {
   "cell_type": "code",
   "execution_count": 44,
   "id": "2ecf41e8-8ef8-4b51-9da5-e09601fcf4b8",
   "metadata": {},
   "outputs": [
    {
     "data": {
      "text/html": [
       "<div>\n",
       "<style scoped>\n",
       "    .dataframe tbody tr th:only-of-type {\n",
       "        vertical-align: middle;\n",
       "    }\n",
       "\n",
       "    .dataframe tbody tr th {\n",
       "        vertical-align: top;\n",
       "    }\n",
       "\n",
       "    .dataframe thead th {\n",
       "        text-align: right;\n",
       "    }\n",
       "</style>\n",
       "<table border=\"1\" class=\"dataframe\">\n",
       "  <thead>\n",
       "    <tr style=\"text-align: right;\">\n",
       "      <th></th>\n",
       "      <th>survived</th>\n",
       "      <th>pclass</th>\n",
       "      <th>sex</th>\n",
       "      <th>age</th>\n",
       "      <th>sibsp</th>\n",
       "      <th>parch</th>\n",
       "      <th>fare</th>\n",
       "      <th>adult_male</th>\n",
       "      <th>embark_town</th>\n",
       "    </tr>\n",
       "  </thead>\n",
       "  <tbody>\n",
       "    <tr>\n",
       "      <th>96</th>\n",
       "      <td>0</td>\n",
       "      <td>1</td>\n",
       "      <td>male</td>\n",
       "      <td>3.199906</td>\n",
       "      <td>0</td>\n",
       "      <td>0</td>\n",
       "      <td>34.6542</td>\n",
       "      <td>True</td>\n",
       "      <td>Cherbourg</td>\n",
       "    </tr>\n",
       "    <tr>\n",
       "      <th>116</th>\n",
       "      <td>0</td>\n",
       "      <td>3</td>\n",
       "      <td>male</td>\n",
       "      <td>3.161481</td>\n",
       "      <td>0</td>\n",
       "      <td>0</td>\n",
       "      <td>7.7500</td>\n",
       "      <td>True</td>\n",
       "      <td>Queenstown</td>\n",
       "    </tr>\n",
       "    <tr>\n",
       "      <th>493</th>\n",
       "      <td>0</td>\n",
       "      <td>1</td>\n",
       "      <td>male</td>\n",
       "      <td>3.199906</td>\n",
       "      <td>0</td>\n",
       "      <td>0</td>\n",
       "      <td>49.5042</td>\n",
       "      <td>True</td>\n",
       "      <td>Cherbourg</td>\n",
       "    </tr>\n",
       "    <tr>\n",
       "      <th>630</th>\n",
       "      <td>1</td>\n",
       "      <td>1</td>\n",
       "      <td>male</td>\n",
       "      <td>3.891554</td>\n",
       "      <td>0</td>\n",
       "      <td>0</td>\n",
       "      <td>30.0000</td>\n",
       "      <td>True</td>\n",
       "      <td>Southampton</td>\n",
       "    </tr>\n",
       "    <tr>\n",
       "      <th>672</th>\n",
       "      <td>0</td>\n",
       "      <td>2</td>\n",
       "      <td>male</td>\n",
       "      <td>3.123056</td>\n",
       "      <td>0</td>\n",
       "      <td>0</td>\n",
       "      <td>10.5000</td>\n",
       "      <td>True</td>\n",
       "      <td>Southampton</td>\n",
       "    </tr>\n",
       "    <tr>\n",
       "      <th>745</th>\n",
       "      <td>0</td>\n",
       "      <td>1</td>\n",
       "      <td>male</td>\n",
       "      <td>3.123056</td>\n",
       "      <td>1</td>\n",
       "      <td>1</td>\n",
       "      <td>71.0000</td>\n",
       "      <td>True</td>\n",
       "      <td>Southampton</td>\n",
       "    </tr>\n",
       "    <tr>\n",
       "      <th>851</th>\n",
       "      <td>0</td>\n",
       "      <td>3</td>\n",
       "      <td>male</td>\n",
       "      <td>3.430455</td>\n",
       "      <td>0</td>\n",
       "      <td>0</td>\n",
       "      <td>7.7750</td>\n",
       "      <td>True</td>\n",
       "      <td>Southampton</td>\n",
       "    </tr>\n",
       "  </tbody>\n",
       "</table>\n",
       "</div>"
      ],
      "text/plain": [
       "     survived  pclass   sex       age  sibsp  parch     fare  adult_male  \\\n",
       "96          0       1  male  3.199906      0      0  34.6542        True   \n",
       "116         0       3  male  3.161481      0      0   7.7500        True   \n",
       "493         0       1  male  3.199906      0      0  49.5042        True   \n",
       "630         1       1  male  3.891554      0      0  30.0000        True   \n",
       "672         0       2  male  3.123056      0      0  10.5000        True   \n",
       "745         0       1  male  3.123056      1      1  71.0000        True   \n",
       "851         0       3  male  3.430455      0      0   7.7750        True   \n",
       "\n",
       "     embark_town  \n",
       "96     Cherbourg  \n",
       "116   Queenstown  \n",
       "493    Cherbourg  \n",
       "630  Southampton  \n",
       "672  Southampton  \n",
       "745  Southampton  \n",
       "851  Southampton  "
      ]
     },
     "execution_count": 44,
     "metadata": {},
     "output_type": "execute_result"
    }
   ],
   "source": [
    "# détection des outliers par le zscore\n",
    "data_zscore = dataframe.copy()\n",
    "data_zscore = data_zscore.dropna(subset = [\"age\"])\n",
    "data_zscore[\"age\"] = zscore(data_zscore[\"age\"])\n",
    "data_zscore[abs(data_zscore[\"age\"] > 3)]"
   ]
  },
  {
   "cell_type": "markdown",
   "id": "afd73f83-7994-4d57-a8ae-1e221859c390",
   "metadata": {},
   "source": [
    "- **L'IQR** : (Interquartile Range) est une approche non-paramétrique qui ne dépend pas de la distribution des données. Il identifie les valeurs aberrantes en fonction des quartiles et est plus sensible aux valeurs extrêmes, surtout si la distribution est asymétrique. **Idéale pour une distribution asymétrique**\n",
    "  \n",
    "- **Le Zscore** : est une approche basée sur la moyenne et l'écart-type, ce qui signifie qu’il fonctionne bien si les données suivent une distribution normale. Mais si la distribution est fortement asymétrique ou contient des valeurs extrêmes, le Z-score peut sous-estimer le nombre d’outliers. **Convient pour les distribution normales**."
   ]
  },
  {
   "cell_type": "markdown",
   "id": "8e050df7-0d8b-488d-ad34-13975f8ec1aa",
   "metadata": {},
   "source": [
    "## 3. Traitement des outliers"
   ]
  },
  {
   "cell_type": "markdown",
   "id": "07dd3882-2f68-406a-8f5e-882388f32000",
   "metadata": {},
   "source": [
    "### A. Suppression : \n",
    "Pour les grandes tables où la suppression de quelques lignes n'occionne pas la perte d'informations."
   ]
  },
  {
   "cell_type": "markdown",
   "id": "979b2781-4be0-4e85-bc20-1d132999cb3d",
   "metadata": {},
   "source": [
    "### B. L'imputation : \n",
    "lorsque la suppression des lignes menerait à une perte d'informations. On peut remplacer les outliers par : \n",
    "- **la moyenne** : lorsque |skewness| < 0.3\n",
    "- **la médiane** : lorsque 0.3 < |skewness| < 0.5\n",
    "- **Q1 / Q3** : lorsque 0.6 < |skewness| < 1\n",
    "- **log de la variable** : lorsque |skewness| < 1\n",
    "- etc..."
   ]
  },
  {
   "cell_type": "code",
   "execution_count": 45,
   "id": "d1436567-07f5-4ab7-b88e-8b93a75e6ca2",
   "metadata": {},
   "outputs": [
    {
     "name": "stdout",
     "output_type": "stream",
     "text": [
      "Le coéfficient d'asymétrie (skewness) :  0.51\n"
     ]
    }
   ],
   "source": [
    "# Age des passagers\n",
    "skewness = dataframe[\"age\"].skew()\n",
    "print (\"Le coéfficient d'asymétrie (skewness) : \", round(skewness, 3))"
   ]
  },
  {
   "cell_type": "code",
   "execution_count": 46,
   "id": "5cced9e1-0cb7-4668-9888-aa8873c78de0",
   "metadata": {},
   "outputs": [],
   "source": [
    "def imputation_IQR(data, variable_name, Q1 = True, Q3 = True):\n",
    "    q1 = data[variable_name].quantile(0.25)\n",
    "    q3 = data[variable_name].quantile(0.75)\n",
    "    if Q1:\n",
    "        inf = q1 - 1.5 * (q3 - q1)\n",
    "        # modifier les valeurs trop faibles\n",
    "        data.loc[data[variable_name] < inf, variable_name] = inf\n",
    "    if Q3 : \n",
    "        sup = q3 + 1.5 * (q3 - q1)\n",
    "        # modifier les valeurs trop élevées\n",
    "        data.loc[data[variable_name] > sup, variable_name] = sup\n",
    "    return data"
   ]
  },
  {
   "cell_type": "code",
   "execution_count": 47,
   "id": "6cba177c-4089-4b31-aa86-575ad65dfee3",
   "metadata": {},
   "outputs": [
    {
     "data": {
      "text/plain": [
       "<Axes: ylabel='age'>"
      ]
     },
     "execution_count": 47,
     "metadata": {},
     "output_type": "execute_result"
    },
    {
     "data": {
      "image/png": "[encoded data removed]",
      "text/plain": [
       "<Figure size 1400x800 with 2 Axes>"
      ]
     },
     "metadata": {},
     "output_type": "display_data"
    }
   ],
   "source": [
    "# Avant imputation des outliers\n",
    "fig, axes = plt.subplots(1, 2, figsize = (14, 8))\n",
    "sns.kdeplot(dataframe[\"age\"], fill = True, color = \"purple\", alpha = 0.5, ax = axes[0])\n",
    "axes[0].set_ylabel(\"age density\")\n",
    "sns.boxplot(y = dataframe[\"age\"], ax = axes[1], color = \"purple\")"
   ]
  },
  {
   "cell_type": "markdown",
   "id": "fcaa892c-89ef-42d6-a791-a5f75efc26af",
   "metadata": {},
   "source": [
    "**Il y'a des valeurs extrêmes fortes et faibles**"
   ]
  },
  {
   "cell_type": "code",
   "execution_count": 48,
   "id": "85a5a99e-6e33-4e9c-b318-cf062527058b",
   "metadata": {},
   "outputs": [
    {
     "data": {
      "text/plain": [
       "<Axes: ylabel='age'>"
      ]
     },
     "execution_count": 48,
     "metadata": {},
     "output_type": "execute_result"
    },
    {
     "data": {
      "image/png": "[encoded data removed]",
      "text/plain": [
       "<Figure size 1400x800 with 2 Axes>"
      ]
     },
     "metadata": {},
     "output_type": "display_data"
    }
   ],
   "source": [
    "# Age après imputation des outliers\n",
    "dataframe = imputation_IQR(dataframe, \"age\")\n",
    "fig, axes = plt.subplots(1, 2, figsize = (14, 8))\n",
    "sns.kdeplot(dataframe[\"age\"], fill = True, color = \"green\", alpha = 0.5, ax = axes[0])\n",
    "axes[0].set_ylabel(\"age density\")\n",
    "sns.boxplot(y = dataframe[\"age\"], ax = axes[1], color = \"green\")"
   ]
  },
  {
   "cell_type": "code",
   "execution_count": 49,
   "id": "4163335c-9632-4d54-811a-84bda82d6dfe",
   "metadata": {},
   "outputs": [
    {
     "name": "stdout",
     "output_type": "stream",
     "text": [
      "Le coéfficient d'asymétrie (skewness) :  4.787\n"
     ]
    }
   ],
   "source": [
    "# Les prix des billets (fare) \n",
    "skewness = dataframe[\"fare\"].skew()\n",
    "print (\"Le coéfficient d'asymétrie (skewness) : \", round(skewness, 3))"
   ]
  },
  {
   "cell_type": "code",
   "execution_count": 50,
   "id": "b26782c4-c858-4ce3-84f5-8e854ec9ceed",
   "metadata": {},
   "outputs": [
    {
     "data": {
      "text/plain": [
       "<Axes: ylabel='fare'>"
      ]
     },
     "execution_count": 50,
     "metadata": {},
     "output_type": "execute_result"
    },
    {
     "data": {
      "image/png": "[encoded data removed]",
      "text/plain": [
       "<Figure size 1400x800 with 2 Axes>"
      ]
     },
     "metadata": {},
     "output_type": "display_data"
    }
   ],
   "source": [
    "# Avant imputation des outliers\n",
    "fig, axes = plt.subplots(1, 2, figsize = (14, 8))\n",
    "sns.kdeplot(dataframe[\"fare\"], fill = True, color = \"purple\", alpha = 0.5, ax = axes[0])\n",
    "axes[0].set_ylabel(\"fare density\")\n",
    "sns.boxplot(y = dataframe[\"fare\"], ax = axes[1], color = \"purple\")"
   ]
  },
  {
   "cell_type": "markdown",
   "id": "a69a2ada-d65f-41ab-b5be-3659baacbaa0",
   "metadata": {},
   "source": [
    "**On remarque une distribution allongée vers la droite, doù uniquement les outliers de forte valeur**."
   ]
  },
  {
   "cell_type": "code",
   "execution_count": 51,
   "id": "a463e782-4efa-4bd1-8756-98102b9a6b8f",
   "metadata": {},
   "outputs": [
    {
     "data": {
      "text/plain": [
       "<Axes: ylabel='fare'>"
      ]
     },
     "execution_count": 51,
     "metadata": {},
     "output_type": "execute_result"
    },
    {
     "data": {
      "image/png": "[encoded data removed]",
      "text/plain": [
       "<Figure size 1400x800 with 2 Axes>"
      ]
     },
     "metadata": {},
     "output_type": "display_data"
    }
   ],
   "source": [
    "# Fare après imputation des outliers\n",
    "dataframe = imputation_IQR(dataframe, \"fare\", Q1 = False, Q3 = True)\n",
    "fig, axes = plt.subplots(1, 2, figsize = (14, 8))\n",
    "sns.kdeplot(dataframe[\"fare\"], fill = True, color = \"cyan\", alpha = 0.5, ax = axes[0])\n",
    "axes[0].set_ylabel(\"fare density\")\n",
    "sns.boxplot(y = dataframe[\"fare\"], ax = axes[1], color = \"cyan\")"
   ]
  },
  {
   "cell_type": "markdown",
   "id": "3a7d28c2-e597-4b1f-bc82-078c98c60921",
   "metadata": {},
   "source": [
    "### LA WINSORISATION :\n",
    "Les valeurs extrêmes sont remplacées par des valeurs plus proches du centre de la distribution.\n",
    "Un seuil est fixé, et toutes les valeurs au-dessus ou en dessous sont remplacées par les valeurs seuils (ex: 5e et 95e percentiles).\n",
    "**Utilisation** : \n",
    "- from scipy.stats.mstats import winsorize\n",
    "- data_winsorized = winsorize(data, limits=\\[0.05, 0.05])\n",
    "- **limits\\[x, y]** où :\n",
    "  - x : Proportion des valeurs les plus basses à remplacer par le quantile inférieur.\n",
    "  - y : Proportion des valeurs les plus hautes à remplacer par le quantile supérieur.\n",
    "- **Ici, 5% des valeurs les plus basses sont remplacées par le 5e percentile, et 5% des valeurs les plus hautes par le 95e percentile**."
   ]
  },
  {
   "cell_type": "markdown",
   "id": "6ecc85e1-7dc2-4b3f-8eb0-3c5bd0ee02e9",
   "metadata": {},
   "source": [
    "# Préparation des données"
   ]
  },
  {
   "cell_type": "code",
   "execution_count": 52,
   "id": "a305f967-5312-40d6-9ceb-e2d9258a35fd",
   "metadata": {},
   "outputs": [
    {
     "data": {
      "text/html": [
       "<div>\n",
       "<style scoped>\n",
       "    .dataframe tbody tr th:only-of-type {\n",
       "        vertical-align: middle;\n",
       "    }\n",
       "\n",
       "    .dataframe tbody tr th {\n",
       "        vertical-align: top;\n",
       "    }\n",
       "\n",
       "    .dataframe thead th {\n",
       "        text-align: right;\n",
       "    }\n",
       "</style>\n",
       "<table border=\"1\" class=\"dataframe\">\n",
       "  <thead>\n",
       "    <tr style=\"text-align: right;\">\n",
       "      <th></th>\n",
       "      <th>survived</th>\n",
       "      <th>pclass</th>\n",
       "      <th>sex</th>\n",
       "      <th>age</th>\n",
       "      <th>sibsp</th>\n",
       "      <th>parch</th>\n",
       "      <th>fare</th>\n",
       "      <th>adult_male</th>\n",
       "      <th>embark_town</th>\n",
       "    </tr>\n",
       "  </thead>\n",
       "  <tbody>\n",
       "    <tr>\n",
       "      <th>0</th>\n",
       "      <td>0</td>\n",
       "      <td>3</td>\n",
       "      <td>male</td>\n",
       "      <td>22.0</td>\n",
       "      <td>1</td>\n",
       "      <td>0</td>\n",
       "      <td>7.2500</td>\n",
       "      <td>True</td>\n",
       "      <td>Southampton</td>\n",
       "    </tr>\n",
       "    <tr>\n",
       "      <th>1</th>\n",
       "      <td>1</td>\n",
       "      <td>1</td>\n",
       "      <td>female</td>\n",
       "      <td>38.0</td>\n",
       "      <td>1</td>\n",
       "      <td>0</td>\n",
       "      <td>65.6344</td>\n",
       "      <td>False</td>\n",
       "      <td>Cherbourg</td>\n",
       "    </tr>\n",
       "    <tr>\n",
       "      <th>2</th>\n",
       "      <td>1</td>\n",
       "      <td>3</td>\n",
       "      <td>female</td>\n",
       "      <td>26.0</td>\n",
       "      <td>0</td>\n",
       "      <td>0</td>\n",
       "      <td>7.9250</td>\n",
       "      <td>False</td>\n",
       "      <td>Southampton</td>\n",
       "    </tr>\n",
       "    <tr>\n",
       "      <th>3</th>\n",
       "      <td>1</td>\n",
       "      <td>1</td>\n",
       "      <td>female</td>\n",
       "      <td>35.0</td>\n",
       "      <td>1</td>\n",
       "      <td>0</td>\n",
       "      <td>53.1000</td>\n",
       "      <td>False</td>\n",
       "      <td>Southampton</td>\n",
       "    </tr>\n",
       "    <tr>\n",
       "      <th>4</th>\n",
       "      <td>0</td>\n",
       "      <td>3</td>\n",
       "      <td>male</td>\n",
       "      <td>35.0</td>\n",
       "      <td>0</td>\n",
       "      <td>0</td>\n",
       "      <td>8.0500</td>\n",
       "      <td>True</td>\n",
       "      <td>Southampton</td>\n",
       "    </tr>\n",
       "  </tbody>\n",
       "</table>\n",
       "</div>"
      ],
      "text/plain": [
       "   survived  pclass     sex   age  sibsp  parch     fare  adult_male  \\\n",
       "0         0       3    male  22.0      1      0   7.2500        True   \n",
       "1         1       1  female  38.0      1      0  65.6344       False   \n",
       "2         1       3  female  26.0      0      0   7.9250       False   \n",
       "3         1       1  female  35.0      1      0  53.1000       False   \n",
       "4         0       3    male  35.0      0      0   8.0500        True   \n",
       "\n",
       "   embark_town  \n",
       "0  Southampton  \n",
       "1    Cherbourg  \n",
       "2  Southampton  \n",
       "3  Southampton  \n",
       "4  Southampton  "
      ]
     },
     "execution_count": 52,
     "metadata": {},
     "output_type": "execute_result"
    }
   ],
   "source": [
    "dataframe.head()"
   ]
  },
  {
   "cell_type": "markdown",
   "id": "dc0a7eef-1731-4d64-bee4-da9b910d88b4",
   "metadata": {},
   "source": [
    "## 1. Encodage des variables catégorielles"
   ]
  },
  {
   "cell_type": "markdown",
   "id": "1e6dad7c-63a0-42ad-90af-6ffad6434e1c",
   "metadata": {},
   "source": [
    "#### A. Le sexe :\n",
    "Selon l'ordre alphabétique on a d'abord **female** puis **male**. Et on encode par des enters en partant de **0**. Par conséquent, **female = 0** et **male = 1**"
   ]
  },
  {
   "cell_type": "code",
   "execution_count": 54,
   "id": "da0551c6-6b5b-45cb-b88d-d8ddf0bbbabd",
   "metadata": {},
   "outputs": [
    {
     "data": {
      "text/html": [
       "<div>\n",
       "<style scoped>\n",
       "    .dataframe tbody tr th:only-of-type {\n",
       "        vertical-align: middle;\n",
       "    }\n",
       "\n",
       "    .dataframe tbody tr th {\n",
       "        vertical-align: top;\n",
       "    }\n",
       "\n",
       "    .dataframe thead th {\n",
       "        text-align: right;\n",
       "    }\n",
       "</style>\n",
       "<table border=\"1\" class=\"dataframe\">\n",
       "  <thead>\n",
       "    <tr style=\"text-align: right;\">\n",
       "      <th></th>\n",
       "      <th>survived</th>\n",
       "      <th>pclass</th>\n",
       "      <th>sex</th>\n",
       "      <th>age</th>\n",
       "      <th>sibsp</th>\n",
       "      <th>parch</th>\n",
       "      <th>fare</th>\n",
       "      <th>adult_male</th>\n",
       "      <th>embark_town</th>\n",
       "    </tr>\n",
       "  </thead>\n",
       "  <tbody>\n",
       "    <tr>\n",
       "      <th>0</th>\n",
       "      <td>0</td>\n",
       "      <td>3</td>\n",
       "      <td>1</td>\n",
       "      <td>22.0</td>\n",
       "      <td>1</td>\n",
       "      <td>0</td>\n",
       "      <td>7.2500</td>\n",
       "      <td>True</td>\n",
       "      <td>Southampton</td>\n",
       "    </tr>\n",
       "    <tr>\n",
       "      <th>1</th>\n",
       "      <td>1</td>\n",
       "      <td>1</td>\n",
       "      <td>0</td>\n",
       "      <td>38.0</td>\n",
       "      <td>1</td>\n",
       "      <td>0</td>\n",
       "      <td>65.6344</td>\n",
       "      <td>False</td>\n",
       "      <td>Cherbourg</td>\n",
       "    </tr>\n",
       "    <tr>\n",
       "      <th>2</th>\n",
       "      <td>1</td>\n",
       "      <td>3</td>\n",
       "      <td>0</td>\n",
       "      <td>26.0</td>\n",
       "      <td>0</td>\n",
       "      <td>0</td>\n",
       "      <td>7.9250</td>\n",
       "      <td>False</td>\n",
       "      <td>Southampton</td>\n",
       "    </tr>\n",
       "    <tr>\n",
       "      <th>3</th>\n",
       "      <td>1</td>\n",
       "      <td>1</td>\n",
       "      <td>0</td>\n",
       "      <td>35.0</td>\n",
       "      <td>1</td>\n",
       "      <td>0</td>\n",
       "      <td>53.1000</td>\n",
       "      <td>False</td>\n",
       "      <td>Southampton</td>\n",
       "    </tr>\n",
       "    <tr>\n",
       "      <th>4</th>\n",
       "      <td>0</td>\n",
       "      <td>3</td>\n",
       "      <td>1</td>\n",
       "      <td>35.0</td>\n",
       "      <td>0</td>\n",
       "      <td>0</td>\n",
       "      <td>8.0500</td>\n",
       "      <td>True</td>\n",
       "      <td>Southampton</td>\n",
       "    </tr>\n",
       "  </tbody>\n",
       "</table>\n",
       "</div>"
      ],
      "text/plain": [
       "   survived  pclass  sex   age  sibsp  parch     fare  adult_male  embark_town\n",
       "0         0       3    1  22.0      1      0   7.2500        True  Southampton\n",
       "1         1       1    0  38.0      1      0  65.6344       False    Cherbourg\n",
       "2         1       3    0  26.0      0      0   7.9250       False  Southampton\n",
       "3         1       1    0  35.0      1      0  53.1000       False  Southampton\n",
       "4         0       3    1  35.0      0      0   8.0500        True  Southampton"
      ]
     },
     "execution_count": 54,
     "metadata": {},
     "output_type": "execute_result"
    }
   ],
   "source": [
    "dataframe[\"sex\"] = dataframe[\"sex\"].replace({\"female\" : 0, \"male\" : 1}).astype(int)\n",
    "dataframe.head()"
   ]
  },
  {
   "cell_type": "markdown",
   "id": "abe4706f-f3f2-4671-9338-3b77392a98fc",
   "metadata": {},
   "source": [
    "#### B. La variable adult_male : \n",
    "L'encodage est optionnel car les booléens valent 0 pour False et 1 pour la valeur True"
   ]
  },
  {
   "cell_type": "code",
   "execution_count": 55,
   "id": "7162c0cf-541b-4acf-b1a9-be9954e3ea9b",
   "metadata": {},
   "outputs": [
    {
     "data": {
      "text/html": [
       "<div>\n",
       "<style scoped>\n",
       "    .dataframe tbody tr th:only-of-type {\n",
       "        vertical-align: middle;\n",
       "    }\n",
       "\n",
       "    .dataframe tbody tr th {\n",
       "        vertical-align: top;\n",
       "    }\n",
       "\n",
       "    .dataframe thead th {\n",
       "        text-align: right;\n",
       "    }\n",
       "</style>\n",
       "<table border=\"1\" class=\"dataframe\">\n",
       "  <thead>\n",
       "    <tr style=\"text-align: right;\">\n",
       "      <th></th>\n",
       "      <th>survived</th>\n",
       "      <th>pclass</th>\n",
       "      <th>sex</th>\n",
       "      <th>age</th>\n",
       "      <th>sibsp</th>\n",
       "      <th>parch</th>\n",
       "      <th>fare</th>\n",
       "      <th>adult_male</th>\n",
       "      <th>embark_town</th>\n",
       "    </tr>\n",
       "  </thead>\n",
       "  <tbody>\n",
       "    <tr>\n",
       "      <th>0</th>\n",
       "      <td>0</td>\n",
       "      <td>3</td>\n",
       "      <td>1</td>\n",
       "      <td>22.0</td>\n",
       "      <td>1</td>\n",
       "      <td>0</td>\n",
       "      <td>7.2500</td>\n",
       "      <td>1</td>\n",
       "      <td>Southampton</td>\n",
       "    </tr>\n",
       "    <tr>\n",
       "      <th>1</th>\n",
       "      <td>1</td>\n",
       "      <td>1</td>\n",
       "      <td>0</td>\n",
       "      <td>38.0</td>\n",
       "      <td>1</td>\n",
       "      <td>0</td>\n",
       "      <td>65.6344</td>\n",
       "      <td>0</td>\n",
       "      <td>Cherbourg</td>\n",
       "    </tr>\n",
       "    <tr>\n",
       "      <th>2</th>\n",
       "      <td>1</td>\n",
       "      <td>3</td>\n",
       "      <td>0</td>\n",
       "      <td>26.0</td>\n",
       "      <td>0</td>\n",
       "      <td>0</td>\n",
       "      <td>7.9250</td>\n",
       "      <td>0</td>\n",
       "      <td>Southampton</td>\n",
       "    </tr>\n",
       "    <tr>\n",
       "      <th>3</th>\n",
       "      <td>1</td>\n",
       "      <td>1</td>\n",
       "      <td>0</td>\n",
       "      <td>35.0</td>\n",
       "      <td>1</td>\n",
       "      <td>0</td>\n",
       "      <td>53.1000</td>\n",
       "      <td>0</td>\n",
       "      <td>Southampton</td>\n",
       "    </tr>\n",
       "    <tr>\n",
       "      <th>4</th>\n",
       "      <td>0</td>\n",
       "      <td>3</td>\n",
       "      <td>1</td>\n",
       "      <td>35.0</td>\n",
       "      <td>0</td>\n",
       "      <td>0</td>\n",
       "      <td>8.0500</td>\n",
       "      <td>1</td>\n",
       "      <td>Southampton</td>\n",
       "    </tr>\n",
       "  </tbody>\n",
       "</table>\n",
       "</div>"
      ],
      "text/plain": [
       "   survived  pclass  sex   age  sibsp  parch     fare  adult_male  embark_town\n",
       "0         0       3    1  22.0      1      0   7.2500           1  Southampton\n",
       "1         1       1    0  38.0      1      0  65.6344           0    Cherbourg\n",
       "2         1       3    0  26.0      0      0   7.9250           0  Southampton\n",
       "3         1       1    0  35.0      1      0  53.1000           0  Southampton\n",
       "4         0       3    1  35.0      0      0   8.0500           1  Southampton"
      ]
     },
     "execution_count": 55,
     "metadata": {},
     "output_type": "execute_result"
    }
   ],
   "source": [
    "dataframe[\"adult_male\"] = dataframe[\"adult_male\"].astype(\"int\")\n",
    "dataframe.head()"
   ]
  },
  {
   "cell_type": "markdown",
   "id": "af6cd75e-7f4c-48c4-90ed-ed748cf8d15e",
   "metadata": {},
   "source": [
    "#### C. embark_town (variable catégorielle nominale) : \n",
    "On peut utiliser le **One-Hot Encoding**  avec la méthode **get_dummies()** de Pandas qui transforme chaque catégorie en une colonne qui contiendra des valeurs binaires (**1** si l'individu **appartient** à la catégorie et **0 sinon**). \n",
    "\n",
    "Avec le paramètre **drop_first = True**, on élimine la **colinéarité**. En effet, en considérant nos **3** modalités de départ, si **sur une ligne** la colonne de première modlité est à **1** alors on peut déduire les informations sur les colonnes des deux modalités restantes. \n",
    "\n",
    "\n",
    "De plus, si **sur une ligne** les colonnes de deux modalités sont à **0** alors on peut déduire que l'individu appartient à la **troisième** (dernnère) **catégorie**."
   ]
  },
  {
   "cell_type": "code",
   "execution_count": 56,
   "id": "f81d2a5c-f94f-4523-987e-2a5e3a1ae9a0",
   "metadata": {},
   "outputs": [
    {
     "data": {
      "text/plain": [
       "array(['Southampton', 'Cherbourg', 'Queenstown'], dtype=object)"
      ]
     },
     "execution_count": 56,
     "metadata": {},
     "output_type": "execute_result"
    }
   ],
   "source": [
    "# Afficher les modalités de la variable embark_town\n",
    "dataframe[\"embark_town\"].unique()"
   ]
  },
  {
   "cell_type": "code",
   "execution_count": 57,
   "id": "b6f7a6c2-1ab1-43ff-b79a-9c52c4116afa",
   "metadata": {},
   "outputs": [
    {
     "data": {
      "text/html": [
       "<div>\n",
       "<style scoped>\n",
       "    .dataframe tbody tr th:only-of-type {\n",
       "        vertical-align: middle;\n",
       "    }\n",
       "\n",
       "    .dataframe tbody tr th {\n",
       "        vertical-align: top;\n",
       "    }\n",
       "\n",
       "    .dataframe thead th {\n",
       "        text-align: right;\n",
       "    }\n",
       "</style>\n",
       "<table border=\"1\" class=\"dataframe\">\n",
       "  <thead>\n",
       "    <tr style=\"text-align: right;\">\n",
       "      <th></th>\n",
       "      <th>Queenstown</th>\n",
       "      <th>Southampton</th>\n",
       "    </tr>\n",
       "  </thead>\n",
       "  <tbody>\n",
       "    <tr>\n",
       "      <th>0</th>\n",
       "      <td>0</td>\n",
       "      <td>1</td>\n",
       "    </tr>\n",
       "    <tr>\n",
       "      <th>1</th>\n",
       "      <td>0</td>\n",
       "      <td>0</td>\n",
       "    </tr>\n",
       "    <tr>\n",
       "      <th>2</th>\n",
       "      <td>0</td>\n",
       "      <td>1</td>\n",
       "    </tr>\n",
       "    <tr>\n",
       "      <th>3</th>\n",
       "      <td>0</td>\n",
       "      <td>1</td>\n",
       "    </tr>\n",
       "    <tr>\n",
       "      <th>4</th>\n",
       "      <td>0</td>\n",
       "      <td>1</td>\n",
       "    </tr>\n",
       "    <tr>\n",
       "      <th>...</th>\n",
       "      <td>...</td>\n",
       "      <td>...</td>\n",
       "    </tr>\n",
       "    <tr>\n",
       "      <th>886</th>\n",
       "      <td>0</td>\n",
       "      <td>1</td>\n",
       "    </tr>\n",
       "    <tr>\n",
       "      <th>887</th>\n",
       "      <td>0</td>\n",
       "      <td>1</td>\n",
       "    </tr>\n",
       "    <tr>\n",
       "      <th>888</th>\n",
       "      <td>0</td>\n",
       "      <td>1</td>\n",
       "    </tr>\n",
       "    <tr>\n",
       "      <th>889</th>\n",
       "      <td>0</td>\n",
       "      <td>0</td>\n",
       "    </tr>\n",
       "    <tr>\n",
       "      <th>890</th>\n",
       "      <td>1</td>\n",
       "      <td>0</td>\n",
       "    </tr>\n",
       "  </tbody>\n",
       "</table>\n",
       "<p>891 rows × 2 columns</p>\n",
       "</div>"
      ],
      "text/plain": [
       "     Queenstown  Southampton\n",
       "0             0            1\n",
       "1             0            0\n",
       "2             0            1\n",
       "3             0            1\n",
       "4             0            1\n",
       "..          ...          ...\n",
       "886           0            1\n",
       "887           0            1\n",
       "888           0            1\n",
       "889           0            0\n",
       "890           1            0\n",
       "\n",
       "[891 rows x 2 columns]"
      ]
     },
     "execution_count": 57,
     "metadata": {},
     "output_type": "execute_result"
    }
   ],
   "source": [
    "# dataframe des catégories de la variable embark_town\n",
    "embark_categories = pd.get_dummies(dataframe[\"embark_town\"], drop_first = True).astype(\"int\")\n",
    "embark_categories"
   ]
  },
  {
   "cell_type": "code",
   "execution_count": 58,
   "id": "f3619619-41a3-4e49-8253-bf5e4e9021eb",
   "metadata": {},
   "outputs": [
    {
     "data": {
      "text/html": [
       "<div>\n",
       "<style scoped>\n",
       "    .dataframe tbody tr th:only-of-type {\n",
       "        vertical-align: middle;\n",
       "    }\n",
       "\n",
       "    .dataframe tbody tr th {\n",
       "        vertical-align: top;\n",
       "    }\n",
       "\n",
       "    .dataframe thead th {\n",
       "        text-align: right;\n",
       "    }\n",
       "</style>\n",
       "<table border=\"1\" class=\"dataframe\">\n",
       "  <thead>\n",
       "    <tr style=\"text-align: right;\">\n",
       "      <th></th>\n",
       "      <th>survived</th>\n",
       "      <th>pclass</th>\n",
       "      <th>sex</th>\n",
       "      <th>age</th>\n",
       "      <th>sibsp</th>\n",
       "      <th>parch</th>\n",
       "      <th>fare</th>\n",
       "      <th>adult_male</th>\n",
       "      <th>embark_town</th>\n",
       "      <th>Queenstown</th>\n",
       "      <th>Southampton</th>\n",
       "    </tr>\n",
       "  </thead>\n",
       "  <tbody>\n",
       "    <tr>\n",
       "      <th>0</th>\n",
       "      <td>0</td>\n",
       "      <td>3</td>\n",
       "      <td>1</td>\n",
       "      <td>22.0</td>\n",
       "      <td>1</td>\n",
       "      <td>0</td>\n",
       "      <td>7.2500</td>\n",
       "      <td>1</td>\n",
       "      <td>Southampton</td>\n",
       "      <td>0</td>\n",
       "      <td>1</td>\n",
       "    </tr>\n",
       "    <tr>\n",
       "      <th>1</th>\n",
       "      <td>1</td>\n",
       "      <td>1</td>\n",
       "      <td>0</td>\n",
       "      <td>38.0</td>\n",
       "      <td>1</td>\n",
       "      <td>0</td>\n",
       "      <td>65.6344</td>\n",
       "      <td>0</td>\n",
       "      <td>Cherbourg</td>\n",
       "      <td>0</td>\n",
       "      <td>0</td>\n",
       "    </tr>\n",
       "    <tr>\n",
       "      <th>2</th>\n",
       "      <td>1</td>\n",
       "      <td>3</td>\n",
       "      <td>0</td>\n",
       "      <td>26.0</td>\n",
       "      <td>0</td>\n",
       "      <td>0</td>\n",
       "      <td>7.9250</td>\n",
       "      <td>0</td>\n",
       "      <td>Southampton</td>\n",
       "      <td>0</td>\n",
       "      <td>1</td>\n",
       "    </tr>\n",
       "    <tr>\n",
       "      <th>3</th>\n",
       "      <td>1</td>\n",
       "      <td>1</td>\n",
       "      <td>0</td>\n",
       "      <td>35.0</td>\n",
       "      <td>1</td>\n",
       "      <td>0</td>\n",
       "      <td>53.1000</td>\n",
       "      <td>0</td>\n",
       "      <td>Southampton</td>\n",
       "      <td>0</td>\n",
       "      <td>1</td>\n",
       "    </tr>\n",
       "    <tr>\n",
       "      <th>4</th>\n",
       "      <td>0</td>\n",
       "      <td>3</td>\n",
       "      <td>1</td>\n",
       "      <td>35.0</td>\n",
       "      <td>0</td>\n",
       "      <td>0</td>\n",
       "      <td>8.0500</td>\n",
       "      <td>1</td>\n",
       "      <td>Southampton</td>\n",
       "      <td>0</td>\n",
       "      <td>1</td>\n",
       "    </tr>\n",
       "  </tbody>\n",
       "</table>\n",
       "</div>"
      ],
      "text/plain": [
       "   survived  pclass  sex   age  sibsp  parch     fare  adult_male  \\\n",
       "0         0       3    1  22.0      1      0   7.2500           1   \n",
       "1         1       1    0  38.0      1      0  65.6344           0   \n",
       "2         1       3    0  26.0      0      0   7.9250           0   \n",
       "3         1       1    0  35.0      1      0  53.1000           0   \n",
       "4         0       3    1  35.0      0      0   8.0500           1   \n",
       "\n",
       "   embark_town  Queenstown  Southampton  \n",
       "0  Southampton           0            1  \n",
       "1    Cherbourg           0            0  \n",
       "2  Southampton           0            1  \n",
       "3  Southampton           0            1  \n",
       "4  Southampton           0            1  "
      ]
     },
     "execution_count": 58,
     "metadata": {},
     "output_type": "execute_result"
    }
   ],
   "source": [
    "# concatener les deux dataframes (par les colonnes : axis = 1)\n",
    "dataframe = pd.concat([dataframe, embark_categories], axis = 1)\n",
    "dataframe.head()"
   ]
  },
  {
   "cell_type": "code",
   "execution_count": 59,
   "id": "a5315027-91ea-4421-95d0-f37de136144c",
   "metadata": {},
   "outputs": [
    {
     "data": {
      "text/html": [
       "<div>\n",
       "<style scoped>\n",
       "    .dataframe tbody tr th:only-of-type {\n",
       "        vertical-align: middle;\n",
       "    }\n",
       "\n",
       "    .dataframe tbody tr th {\n",
       "        vertical-align: top;\n",
       "    }\n",
       "\n",
       "    .dataframe thead th {\n",
       "        text-align: right;\n",
       "    }\n",
       "</style>\n",
       "<table border=\"1\" class=\"dataframe\">\n",
       "  <thead>\n",
       "    <tr style=\"text-align: right;\">\n",
       "      <th></th>\n",
       "      <th>survived</th>\n",
       "      <th>pclass</th>\n",
       "      <th>sex</th>\n",
       "      <th>age</th>\n",
       "      <th>sibsp</th>\n",
       "      <th>parch</th>\n",
       "      <th>fare</th>\n",
       "      <th>adult_male</th>\n",
       "      <th>Queenstown</th>\n",
       "      <th>Southampton</th>\n",
       "    </tr>\n",
       "  </thead>\n",
       "  <tbody>\n",
       "    <tr>\n",
       "      <th>0</th>\n",
       "      <td>0</td>\n",
       "      <td>3</td>\n",
       "      <td>1</td>\n",
       "      <td>22.0</td>\n",
       "      <td>1</td>\n",
       "      <td>0</td>\n",
       "      <td>7.2500</td>\n",
       "      <td>1</td>\n",
       "      <td>0</td>\n",
       "      <td>1</td>\n",
       "    </tr>\n",
       "    <tr>\n",
       "      <th>1</th>\n",
       "      <td>1</td>\n",
       "      <td>1</td>\n",
       "      <td>0</td>\n",
       "      <td>38.0</td>\n",
       "      <td>1</td>\n",
       "      <td>0</td>\n",
       "      <td>65.6344</td>\n",
       "      <td>0</td>\n",
       "      <td>0</td>\n",
       "      <td>0</td>\n",
       "    </tr>\n",
       "    <tr>\n",
       "      <th>2</th>\n",
       "      <td>1</td>\n",
       "      <td>3</td>\n",
       "      <td>0</td>\n",
       "      <td>26.0</td>\n",
       "      <td>0</td>\n",
       "      <td>0</td>\n",
       "      <td>7.9250</td>\n",
       "      <td>0</td>\n",
       "      <td>0</td>\n",
       "      <td>1</td>\n",
       "    </tr>\n",
       "    <tr>\n",
       "      <th>3</th>\n",
       "      <td>1</td>\n",
       "      <td>1</td>\n",
       "      <td>0</td>\n",
       "      <td>35.0</td>\n",
       "      <td>1</td>\n",
       "      <td>0</td>\n",
       "      <td>53.1000</td>\n",
       "      <td>0</td>\n",
       "      <td>0</td>\n",
       "      <td>1</td>\n",
       "    </tr>\n",
       "    <tr>\n",
       "      <th>4</th>\n",
       "      <td>0</td>\n",
       "      <td>3</td>\n",
       "      <td>1</td>\n",
       "      <td>35.0</td>\n",
       "      <td>0</td>\n",
       "      <td>0</td>\n",
       "      <td>8.0500</td>\n",
       "      <td>1</td>\n",
       "      <td>0</td>\n",
       "      <td>1</td>\n",
       "    </tr>\n",
       "  </tbody>\n",
       "</table>\n",
       "</div>"
      ],
      "text/plain": [
       "   survived  pclass  sex   age  sibsp  parch     fare  adult_male  Queenstown  \\\n",
       "0         0       3    1  22.0      1      0   7.2500           1           0   \n",
       "1         1       1    0  38.0      1      0  65.6344           0           0   \n",
       "2         1       3    0  26.0      0      0   7.9250           0           0   \n",
       "3         1       1    0  35.0      1      0  53.1000           0           0   \n",
       "4         0       3    1  35.0      0      0   8.0500           1           0   \n",
       "\n",
       "   Southampton  \n",
       "0            1  \n",
       "1            0  \n",
       "2            1  \n",
       "3            1  \n",
       "4            1  "
      ]
     },
     "execution_count": 59,
     "metadata": {},
     "output_type": "execute_result"
    }
   ],
   "source": [
    "# Suppression de l'ancienne colonne embark_town\n",
    "dataframe = dataframe.drop(columns = [\"embark_town\"])\n",
    "dataframe.head()"
   ]
  },
  {
   "cell_type": "markdown",
   "id": "b3f9f41d-78b1-468c-8bd4-aa4c2ff2a461",
   "metadata": {},
   "source": [
    "## 2. Le Feature Engineering : \n",
    "Regrouper deux ou plusieurs variables en une seule dans le but de réduire les dimensions de la dataframe. Le cas de **ville** et **quartier** en une seule variable **localisation**, **jour**, **mois** et **année** en **date**, etc... "
   ]
  },
  {
   "cell_type": "code",
   "execution_count": 60,
   "id": "f42dab19-3ea8-447c-b1f8-5443e05f006e",
   "metadata": {},
   "outputs": [
    {
     "data": {
      "text/html": [
       "<div>\n",
       "<style scoped>\n",
       "    .dataframe tbody tr th:only-of-type {\n",
       "        vertical-align: middle;\n",
       "    }\n",
       "\n",
       "    .dataframe tbody tr th {\n",
       "        vertical-align: top;\n",
       "    }\n",
       "\n",
       "    .dataframe thead th {\n",
       "        text-align: right;\n",
       "    }\n",
       "</style>\n",
       "<table border=\"1\" class=\"dataframe\">\n",
       "  <thead>\n",
       "    <tr style=\"text-align: right;\">\n",
       "      <th></th>\n",
       "      <th>survived</th>\n",
       "      <th>pclass</th>\n",
       "      <th>sex</th>\n",
       "      <th>age</th>\n",
       "      <th>fare</th>\n",
       "      <th>adult_male</th>\n",
       "      <th>Queenstown</th>\n",
       "      <th>Southampton</th>\n",
       "      <th>family</th>\n",
       "    </tr>\n",
       "  </thead>\n",
       "  <tbody>\n",
       "    <tr>\n",
       "      <th>0</th>\n",
       "      <td>0</td>\n",
       "      <td>3</td>\n",
       "      <td>1</td>\n",
       "      <td>22.0</td>\n",
       "      <td>7.2500</td>\n",
       "      <td>1</td>\n",
       "      <td>0</td>\n",
       "      <td>1</td>\n",
       "      <td>1</td>\n",
       "    </tr>\n",
       "    <tr>\n",
       "      <th>1</th>\n",
       "      <td>1</td>\n",
       "      <td>1</td>\n",
       "      <td>0</td>\n",
       "      <td>38.0</td>\n",
       "      <td>65.6344</td>\n",
       "      <td>0</td>\n",
       "      <td>0</td>\n",
       "      <td>0</td>\n",
       "      <td>1</td>\n",
       "    </tr>\n",
       "    <tr>\n",
       "      <th>2</th>\n",
       "      <td>1</td>\n",
       "      <td>3</td>\n",
       "      <td>0</td>\n",
       "      <td>26.0</td>\n",
       "      <td>7.9250</td>\n",
       "      <td>0</td>\n",
       "      <td>0</td>\n",
       "      <td>1</td>\n",
       "      <td>0</td>\n",
       "    </tr>\n",
       "    <tr>\n",
       "      <th>3</th>\n",
       "      <td>1</td>\n",
       "      <td>1</td>\n",
       "      <td>0</td>\n",
       "      <td>35.0</td>\n",
       "      <td>53.1000</td>\n",
       "      <td>0</td>\n",
       "      <td>0</td>\n",
       "      <td>1</td>\n",
       "      <td>1</td>\n",
       "    </tr>\n",
       "    <tr>\n",
       "      <th>4</th>\n",
       "      <td>0</td>\n",
       "      <td>3</td>\n",
       "      <td>1</td>\n",
       "      <td>35.0</td>\n",
       "      <td>8.0500</td>\n",
       "      <td>1</td>\n",
       "      <td>0</td>\n",
       "      <td>1</td>\n",
       "      <td>0</td>\n",
       "    </tr>\n",
       "  </tbody>\n",
       "</table>\n",
       "</div>"
      ],
      "text/plain": [
       "   survived  pclass  sex   age     fare  adult_male  Queenstown  Southampton  \\\n",
       "0         0       3    1  22.0   7.2500           1           0            1   \n",
       "1         1       1    0  38.0  65.6344           0           0            0   \n",
       "2         1       3    0  26.0   7.9250           0           0            1   \n",
       "3         1       1    0  35.0  53.1000           0           0            1   \n",
       "4         0       3    1  35.0   8.0500           1           0            1   \n",
       "\n",
       "   family  \n",
       "0       1  \n",
       "1       1  \n",
       "2       0  \n",
       "3       1  \n",
       "4       0  "
      ]
     },
     "execution_count": 60,
     "metadata": {},
     "output_type": "execute_result"
    }
   ],
   "source": [
    "# ici sibsp et parch en family : (frère/soeur/ conjoint et parent/enfant)\n",
    "dataframe[\"family\"] = dataframe[\"sibsp\"] + dataframe[\"parch\"]\n",
    "# Suppression des anciennes colonnes sibsp et parch \n",
    "dataframe = dataframe.drop(columns = [\"sibsp\", \"parch\"], axis = 1)\n",
    "dataframe.head()"
   ]
  },
  {
   "cell_type": "markdown",
   "id": "cf4ac106-c654-4205-ae62-07dc0de932ba",
   "metadata": {},
   "source": [
    "## 3. Division des données :\n",
    "partitionner nos données en **3 ensembles** : \n",
    "\n",
    "1. d'**entraînement** (60 - 80%) : sert à ajuster les paramètres du modèle\n",
    "2. de **Validation** (10 - 20%) : pour optimiser le modèle et prévenir le sur-apprentissage (overfitting)\n",
    "3. de **Test** (10 - 20%) :  Utilisé uniquement à la fin pour évaluer les performances réelles du modèle sur des données jamais vues.\n",
    "Toutefois, il est courant de diviser en deux sous ensembles :  d'**entraînement** et de **Test**."
   ]
  },
  {
   "cell_type": "code",
   "execution_count": 62,
   "id": "bd21a8d5-d3c2-4a53-899b-884ef4a80def",
   "metadata": {},
   "outputs": [],
   "source": [
    "from sklearn.model_selection import train_test_split"
   ]
  },
  {
   "cell_type": "code",
   "execution_count": 64,
   "id": "d23636c6-c3dc-4a97-acfc-6636bbf43250",
   "metadata": {},
   "outputs": [],
   "source": [
    "# séparation des variables expliicatives (indépandantes) X et de la variable expliquée (cible) y\n",
    "X = dataframe.drop(\"survived\", axis = 1)\n",
    "y = dataframe[\"survived\"]\n",
    "# la racine pour la sépartion aléatoire\n",
    "seed = 12\n",
    "# division en données d'entraînement(60%) et de Test(40%)\n",
    "X_train, X_test, y_train, y_test = train_test_split(X, y, test_size = 0.4, random_state = seed, stratify = y)\n",
    "# divisions des 40% des données de test en données de validation et de test (20% des données totales pour chacun des deux sous ensembles)\n",
    "X_val, X_test, y_val, y_test = train_test_split(X_test, y_test, test_size = 0.5, random_state = seed, stratify = y_test)\n",
    "# 60% train, 20% val, 20% test"
   ]
  },
  {
   "cell_type": "markdown",
   "id": "afb75cad-6276-46e3-9b47-f330993bc7d5",
   "metadata": {},
   "source": [
    "1. **seed** : permet de conserver la même répartition aléatoire à chaque exécution du code.\n",
    "2. **test_size** : spécifie la proportion des données de test.\n",
    "3. **stratify** : Si la variable cible (y) est **déséquilibrée**, une séparation aléatoire peut entraîner **une répartition inégale entre les ensembles**.\n",
    "Avec stratify=y garantit que les proportions des classes restent identiques dans tous les sous-ensembles. Très utile pour les problèmes de classification, notamment si certaines classes sont sous-représentées. Sans stratify, un jeu de données contenant 90% de classe \"A\" et 10% de classe \"B\" pourrait être divisé avec des proportions incorrectes, ce qui fausserait l'entraînement du modèle.\n"
   ]
  },
  {
   "cell_type": "code",
   "execution_count": 65,
   "id": "0e02524a-8e18-497c-afc0-783124d08cea",
   "metadata": {},
   "outputs": [
    {
     "data": {
      "text/plain": [
       "survived\n",
       "0    0.616162\n",
       "1    0.383838\n",
       "Name: proportion, dtype: float64"
      ]
     },
     "execution_count": 65,
     "metadata": {},
     "output_type": "execute_result"
    }
   ],
   "source": [
    "# vérification de la proportion de la distribution des classes de la variables cible\n",
    "y.value_counts(normalize = True)"
   ]
  },
  {
   "cell_type": "code",
   "execution_count": 66,
   "id": "cc40a739-5f3f-446a-b869-3d8e5bec8488",
   "metadata": {},
   "outputs": [
    {
     "data": {
      "text/plain": [
       "survived\n",
       "0    0.616105\n",
       "1    0.383895\n",
       "Name: proportion, dtype: float64"
      ]
     },
     "execution_count": 66,
     "metadata": {},
     "output_type": "execute_result"
    }
   ],
   "source": [
    "# vérifier que les données d'entrainement conservent cette distribution\n",
    "y_train.value_counts(normalize = True)"
   ]
  },
  {
   "cell_type": "code",
   "execution_count": 67,
   "id": "0048bbd7-6184-4585-8d8e-b1d9e55b9dc6",
   "metadata": {},
   "outputs": [
    {
     "data": {
      "text/plain": [
       "survived\n",
       "0    0.617978\n",
       "1    0.382022\n",
       "Name: proportion, dtype: float64"
      ]
     },
     "execution_count": 67,
     "metadata": {},
     "output_type": "execute_result"
    }
   ],
   "source": [
    "# vérifier que les données de validation conservent cette distribution\n",
    "y_val.value_counts(normalize = True)"
   ]
  },
  {
   "cell_type": "code",
   "execution_count": 68,
   "id": "7794918e-e0b8-4d7c-9803-a86f033793bd",
   "metadata": {},
   "outputs": [
    {
     "data": {
      "text/plain": [
       "survived\n",
       "0    0.614525\n",
       "1    0.385475\n",
       "Name: proportion, dtype: float64"
      ]
     },
     "execution_count": 68,
     "metadata": {},
     "output_type": "execute_result"
    }
   ],
   "source": [
    "# vérifier que les données de test conservent cette distribution\n",
    "y_test.value_counts(normalize = True)"
   ]
  },
  {
   "cell_type": "markdown",
   "id": "1b270713-52de-4472-942c-d70e8d11798d",
   "metadata": {},
   "source": [
    "## 4. La normalisation des doonnées : \n",
    "Normaliser les données est une étape clé en prétraitement des données, particulièrement en Machine Learning. Elle permet **d’uniformiser les valeurs afin d’éviter les biais dus aux différences d’échelle**.\n",
    "####  Pourquoi normaliser les données ?\n",
    "\n",
    "- Certaines variables ont des ordres de grandeur très différents → ex: un salaire (30,000€) et un âge (35 ans).\n",
    "- Les modèles basés sur les distances (SVM, K-Means, réseaux neuronaux) sont très sensibles aux écarts d'échelle → une variable avec des grandes valeurs peut dominer le modèle.\n",
    "- Faciliter la convergence des algorithmes de Machine Learning → En normalisant, le modèle apprend plus efficacement. **Sans normalisation, une variable à grande échelle peut influencer fortement les résultats du modèle.**\n",
    "\n",
    "#### Quand faut-il normaliser ?\n",
    "\n",
    "1. Si les **variables ont des unités différentes** → ex: température (°C), poids (kg), salaire (€).\n",
    "2. Si on utilise un **modèle sensible aux écarts de valeurs** → SVM, K-Means, Réseaux Neuronaux.\n",
    "3. Si les **distributions sont très asymétriques et étendues** → Ex: prix immobilier, revenus, durée de transactions.\n",
    "4. Si les **valeurs contiennent des extrêmes** et que l’**apprentissage est perturbé** → Normalisation stabilise l’analyse.\n",
    "   \n",
    "**Les modèles basés sur les arbres (Random Forest, Decision Trees) ne nécessitent PAS de normalisation car ils se basent sur les séparations et non sur les distances.**"
   ]
  },
  {
   "cell_type": "markdown",
   "id": "3829819e-0f55-4992-bfee-3858a2e89f92",
   "metadata": {},
   "source": [
    "## 6. La gestion du déséquilibre des  : \n",
    "Il existe plusieurs méthodes :\n",
    "- **Oversampling** : **ajout** d'instances synthétiques (artificielles) à la **classe minoritaire**\n",
    "- **Undersampling** : **réduction** d'instances dans la classe **majoritaire**\n",
    "- **Podération des classes** : **ajustement de l'influence de chaque classe** sur l'apprentissage\n",
    "- **F1 - score** : **évaluation** de la précision en tenant compte du déséquilibre.\n",
    "Les deux premières méthodes sont les plus utilisées."
   ]
  },
  {
   "cell_type": "markdown",
   "id": "c6211f30-c182-48e4-bb2c-971d0fa401ea",
   "metadata": {},
   "source": [
    "### A. Sur-échantillonnage (Oversampling)"
   ]
  },
  {
   "cell_type": "code",
   "execution_count": 69,
   "id": "3f582cf9-b1b5-479a-b0b9-d72a38779ad4",
   "metadata": {},
   "outputs": [],
   "source": [
    "from sklearn.utils import resample"
   ]
  },
  {
   "cell_type": "code",
   "execution_count": 71,
   "id": "fae1a0c9-9800-4144-8c64-8072c342e96e",
   "metadata": {},
   "outputs": [
    {
     "data": {
      "text/html": [
       "<div>\n",
       "<style scoped>\n",
       "    .dataframe tbody tr th:only-of-type {\n",
       "        vertical-align: middle;\n",
       "    }\n",
       "\n",
       "    .dataframe tbody tr th {\n",
       "        vertical-align: top;\n",
       "    }\n",
       "\n",
       "    .dataframe thead th {\n",
       "        text-align: right;\n",
       "    }\n",
       "</style>\n",
       "<table border=\"1\" class=\"dataframe\">\n",
       "  <thead>\n",
       "    <tr style=\"text-align: right;\">\n",
       "      <th></th>\n",
       "      <th>pclass</th>\n",
       "      <th>sex</th>\n",
       "      <th>age</th>\n",
       "      <th>fare</th>\n",
       "      <th>adult_male</th>\n",
       "      <th>Queenstown</th>\n",
       "      <th>Southampton</th>\n",
       "      <th>family</th>\n",
       "      <th>survived</th>\n",
       "    </tr>\n",
       "  </thead>\n",
       "  <tbody>\n",
       "    <tr>\n",
       "      <th>283</th>\n",
       "      <td>3</td>\n",
       "      <td>1</td>\n",
       "      <td>19.0</td>\n",
       "      <td>8.0500</td>\n",
       "      <td>1</td>\n",
       "      <td>0</td>\n",
       "      <td>1</td>\n",
       "      <td>0</td>\n",
       "      <td>1</td>\n",
       "    </tr>\n",
       "    <tr>\n",
       "      <th>653</th>\n",
       "      <td>3</td>\n",
       "      <td>0</td>\n",
       "      <td>28.0</td>\n",
       "      <td>7.8292</td>\n",
       "      <td>0</td>\n",
       "      <td>1</td>\n",
       "      <td>0</td>\n",
       "      <td>0</td>\n",
       "      <td>1</td>\n",
       "    </tr>\n",
       "    <tr>\n",
       "      <th>222</th>\n",
       "      <td>3</td>\n",
       "      <td>1</td>\n",
       "      <td>51.0</td>\n",
       "      <td>8.0500</td>\n",
       "      <td>1</td>\n",
       "      <td>0</td>\n",
       "      <td>1</td>\n",
       "      <td>0</td>\n",
       "      <td>0</td>\n",
       "    </tr>\n",
       "    <tr>\n",
       "      <th>147</th>\n",
       "      <td>3</td>\n",
       "      <td>0</td>\n",
       "      <td>9.0</td>\n",
       "      <td>34.3750</td>\n",
       "      <td>0</td>\n",
       "      <td>0</td>\n",
       "      <td>1</td>\n",
       "      <td>4</td>\n",
       "      <td>0</td>\n",
       "    </tr>\n",
       "    <tr>\n",
       "      <th>729</th>\n",
       "      <td>3</td>\n",
       "      <td>0</td>\n",
       "      <td>25.0</td>\n",
       "      <td>7.9250</td>\n",
       "      <td>0</td>\n",
       "      <td>0</td>\n",
       "      <td>1</td>\n",
       "      <td>1</td>\n",
       "      <td>0</td>\n",
       "    </tr>\n",
       "    <tr>\n",
       "      <th>...</th>\n",
       "      <td>...</td>\n",
       "      <td>...</td>\n",
       "      <td>...</td>\n",
       "      <td>...</td>\n",
       "      <td>...</td>\n",
       "      <td>...</td>\n",
       "      <td>...</td>\n",
       "      <td>...</td>\n",
       "      <td>...</td>\n",
       "    </tr>\n",
       "    <tr>\n",
       "      <th>504</th>\n",
       "      <td>1</td>\n",
       "      <td>0</td>\n",
       "      <td>16.0</td>\n",
       "      <td>65.6344</td>\n",
       "      <td>0</td>\n",
       "      <td>0</td>\n",
       "      <td>1</td>\n",
       "      <td>0</td>\n",
       "      <td>1</td>\n",
       "    </tr>\n",
       "    <tr>\n",
       "      <th>556</th>\n",
       "      <td>1</td>\n",
       "      <td>0</td>\n",
       "      <td>48.0</td>\n",
       "      <td>39.6000</td>\n",
       "      <td>0</td>\n",
       "      <td>0</td>\n",
       "      <td>0</td>\n",
       "      <td>1</td>\n",
       "      <td>1</td>\n",
       "    </tr>\n",
       "    <tr>\n",
       "      <th>200</th>\n",
       "      <td>3</td>\n",
       "      <td>1</td>\n",
       "      <td>28.0</td>\n",
       "      <td>9.5000</td>\n",
       "      <td>1</td>\n",
       "      <td>0</td>\n",
       "      <td>1</td>\n",
       "      <td>0</td>\n",
       "      <td>0</td>\n",
       "    </tr>\n",
       "    <tr>\n",
       "      <th>591</th>\n",
       "      <td>1</td>\n",
       "      <td>0</td>\n",
       "      <td>52.0</td>\n",
       "      <td>65.6344</td>\n",
       "      <td>0</td>\n",
       "      <td>0</td>\n",
       "      <td>0</td>\n",
       "      <td>1</td>\n",
       "      <td>1</td>\n",
       "    </tr>\n",
       "    <tr>\n",
       "      <th>387</th>\n",
       "      <td>2</td>\n",
       "      <td>0</td>\n",
       "      <td>36.0</td>\n",
       "      <td>13.0000</td>\n",
       "      <td>0</td>\n",
       "      <td>0</td>\n",
       "      <td>1</td>\n",
       "      <td>0</td>\n",
       "      <td>1</td>\n",
       "    </tr>\n",
       "  </tbody>\n",
       "</table>\n",
       "<p>534 rows × 9 columns</p>\n",
       "</div>"
      ],
      "text/plain": [
       "     pclass  sex   age     fare  adult_male  Queenstown  Southampton  family  \\\n",
       "283       3    1  19.0   8.0500           1           0            1       0   \n",
       "653       3    0  28.0   7.8292           0           1            0       0   \n",
       "222       3    1  51.0   8.0500           1           0            1       0   \n",
       "147       3    0   9.0  34.3750           0           0            1       4   \n",
       "729       3    0  25.0   7.9250           0           0            1       1   \n",
       "..      ...  ...   ...      ...         ...         ...          ...     ...   \n",
       "504       1    0  16.0  65.6344           0           0            1       0   \n",
       "556       1    0  48.0  39.6000           0           0            0       1   \n",
       "200       3    1  28.0   9.5000           1           0            1       0   \n",
       "591       1    0  52.0  65.6344           0           0            0       1   \n",
       "387       2    0  36.0  13.0000           0           0            1       0   \n",
       "\n",
       "     survived  \n",
       "283         1  \n",
       "653         1  \n",
       "222         0  \n",
       "147         0  \n",
       "729         0  \n",
       "..        ...  \n",
       "504         1  \n",
       "556         1  \n",
       "200         0  \n",
       "591         1  \n",
       "387         1  \n",
       "\n",
       "[534 rows x 9 columns]"
      ]
     },
     "execution_count": 71,
     "metadata": {},
     "output_type": "execute_result"
    }
   ],
   "source": [
    "# concaténer les deux dataframes d'entraînement en une seule\n",
    "data = X_train\n",
    "data[\"survived\"] = y_train.values\n",
    "data"
   ]
  },
  {
   "cell_type": "code",
   "execution_count": 73,
   "id": "e19f1f70-c8b2-4854-ad0e-08c83bb34784",
   "metadata": {},
   "outputs": [
    {
     "data": {
      "text/plain": [
       "survived\n",
       "0    0.616105\n",
       "1    0.383895\n",
       "Name: proportion, dtype: float64"
      ]
     },
     "execution_count": 73,
     "metadata": {},
     "output_type": "execute_result"
    }
   ],
   "source": [
    "# afficher les proportions déséquilibrées des classes\n",
    "data[\"survived\"].value_counts(normalize = True)"
   ]
  },
  {
   "cell_type": "code",
   "execution_count": 75,
   "id": "c903058c-1e93-4069-83ce-fde8edb0a63f",
   "metadata": {},
   "outputs": [
    {
     "data": {
      "text/plain": [
       "(205, 9)"
      ]
     },
     "execution_count": 75,
     "metadata": {},
     "output_type": "execute_result"
    }
   ],
   "source": [
    "# diviser en deux dataframes selon les classes de la variable d'intérêt\n",
    "minority = data[data[\"survived\"] == 1] # les survivants sont minoritaires\n",
    "minority.shape"
   ]
  },
  {
   "cell_type": "code",
   "execution_count": 76,
   "id": "1eb19629-3046-4ecd-aa36-780a6c891b56",
   "metadata": {},
   "outputs": [
    {
     "data": {
      "text/plain": [
       "(329, 9)"
      ]
     },
     "execution_count": 76,
     "metadata": {},
     "output_type": "execute_result"
    }
   ],
   "source": [
    "majority = data[data[\"survived\"] == 0] # les personnes n'ayant pas survécu\n",
    "majority.shape"
   ]
  },
  {
   "cell_type": "code",
   "execution_count": 79,
   "id": "e319c42f-8a9d-45b1-9252-1fc01e35e31f",
   "metadata": {},
   "outputs": [
    {
     "name": "stdout",
     "output_type": "stream",
     "text": [
      "True\n"
     ]
    }
   ],
   "source": [
    "# augmenter par bootstraping le nombre d'observations de la classe minoritaire jusqu'à atteindre la taille de la classe majoritaire\n",
    "minority = resample(minority, replace = True, n_samples = len(majority))\n",
    "# replace = True : pour éffectuer des tirages avec remises (bootstrap)\n",
    "# n_samples : Le nombre d'observations souhaité pour l'échantillon bootstrappé\n",
    "print(minority.shape == majority.shape)"
   ]
  },
  {
   "cell_type": "markdown",
   "id": "1387c7bd-5fc9-4fe2-804e-fbf1db383342",
   "metadata": {},
   "source": [
    "**Le Bootstraping** : est une technique statistique qui consiste à rééchantillonner un dataset avec remise (replacement). Elle permet d’estimer la distribution d’un paramètre ou d’un modèle en créant plusieurs sous-échantillons aléatoires à partir des données originales."
   ]
  },
  {
   "cell_type": "code",
   "execution_count": 81,
   "id": "1652f769-746b-4669-b49c-51d24262bd03",
   "metadata": {},
   "outputs": [
    {
     "data": {
      "text/html": [
       "<div>\n",
       "<style scoped>\n",
       "    .dataframe tbody tr th:only-of-type {\n",
       "        vertical-align: middle;\n",
       "    }\n",
       "\n",
       "    .dataframe tbody tr th {\n",
       "        vertical-align: top;\n",
       "    }\n",
       "\n",
       "    .dataframe thead th {\n",
       "        text-align: right;\n",
       "    }\n",
       "</style>\n",
       "<table border=\"1\" class=\"dataframe\">\n",
       "  <thead>\n",
       "    <tr style=\"text-align: right;\">\n",
       "      <th></th>\n",
       "      <th>pclass</th>\n",
       "      <th>sex</th>\n",
       "      <th>age</th>\n",
       "      <th>fare</th>\n",
       "      <th>adult_male</th>\n",
       "      <th>Queenstown</th>\n",
       "      <th>Southampton</th>\n",
       "      <th>family</th>\n",
       "      <th>survived</th>\n",
       "    </tr>\n",
       "  </thead>\n",
       "  <tbody>\n",
       "    <tr>\n",
       "      <th>708</th>\n",
       "      <td>1</td>\n",
       "      <td>0</td>\n",
       "      <td>22.0</td>\n",
       "      <td>65.6344</td>\n",
       "      <td>0</td>\n",
       "      <td>0</td>\n",
       "      <td>1</td>\n",
       "      <td>0</td>\n",
       "      <td>1</td>\n",
       "    </tr>\n",
       "    <tr>\n",
       "      <th>630</th>\n",
       "      <td>1</td>\n",
       "      <td>1</td>\n",
       "      <td>54.5</td>\n",
       "      <td>30.0000</td>\n",
       "      <td>1</td>\n",
       "      <td>0</td>\n",
       "      <td>1</td>\n",
       "      <td>0</td>\n",
       "      <td>1</td>\n",
       "    </tr>\n",
       "    <tr>\n",
       "      <th>520</th>\n",
       "      <td>1</td>\n",
       "      <td>0</td>\n",
       "      <td>30.0</td>\n",
       "      <td>65.6344</td>\n",
       "      <td>0</td>\n",
       "      <td>0</td>\n",
       "      <td>1</td>\n",
       "      <td>0</td>\n",
       "      <td>1</td>\n",
       "    </tr>\n",
       "    <tr>\n",
       "      <th>247</th>\n",
       "      <td>2</td>\n",
       "      <td>0</td>\n",
       "      <td>24.0</td>\n",
       "      <td>14.5000</td>\n",
       "      <td>0</td>\n",
       "      <td>0</td>\n",
       "      <td>1</td>\n",
       "      <td>2</td>\n",
       "      <td>1</td>\n",
       "    </tr>\n",
       "    <tr>\n",
       "      <th>68</th>\n",
       "      <td>3</td>\n",
       "      <td>0</td>\n",
       "      <td>17.0</td>\n",
       "      <td>7.9250</td>\n",
       "      <td>0</td>\n",
       "      <td>0</td>\n",
       "      <td>1</td>\n",
       "      <td>6</td>\n",
       "      <td>1</td>\n",
       "    </tr>\n",
       "    <tr>\n",
       "      <th>...</th>\n",
       "      <td>...</td>\n",
       "      <td>...</td>\n",
       "      <td>...</td>\n",
       "      <td>...</td>\n",
       "      <td>...</td>\n",
       "      <td>...</td>\n",
       "      <td>...</td>\n",
       "      <td>...</td>\n",
       "      <td>...</td>\n",
       "    </tr>\n",
       "    <tr>\n",
       "      <th>35</th>\n",
       "      <td>1</td>\n",
       "      <td>1</td>\n",
       "      <td>42.0</td>\n",
       "      <td>52.0000</td>\n",
       "      <td>1</td>\n",
       "      <td>0</td>\n",
       "      <td>1</td>\n",
       "      <td>1</td>\n",
       "      <td>0</td>\n",
       "    </tr>\n",
       "    <tr>\n",
       "      <th>739</th>\n",
       "      <td>3</td>\n",
       "      <td>1</td>\n",
       "      <td>28.0</td>\n",
       "      <td>7.8958</td>\n",
       "      <td>1</td>\n",
       "      <td>0</td>\n",
       "      <td>1</td>\n",
       "      <td>0</td>\n",
       "      <td>0</td>\n",
       "    </tr>\n",
       "    <tr>\n",
       "      <th>882</th>\n",
       "      <td>3</td>\n",
       "      <td>0</td>\n",
       "      <td>22.0</td>\n",
       "      <td>10.5167</td>\n",
       "      <td>0</td>\n",
       "      <td>0</td>\n",
       "      <td>1</td>\n",
       "      <td>0</td>\n",
       "      <td>0</td>\n",
       "    </tr>\n",
       "    <tr>\n",
       "      <th>840</th>\n",
       "      <td>3</td>\n",
       "      <td>1</td>\n",
       "      <td>20.0</td>\n",
       "      <td>7.9250</td>\n",
       "      <td>1</td>\n",
       "      <td>0</td>\n",
       "      <td>1</td>\n",
       "      <td>0</td>\n",
       "      <td>0</td>\n",
       "    </tr>\n",
       "    <tr>\n",
       "      <th>200</th>\n",
       "      <td>3</td>\n",
       "      <td>1</td>\n",
       "      <td>28.0</td>\n",
       "      <td>9.5000</td>\n",
       "      <td>1</td>\n",
       "      <td>0</td>\n",
       "      <td>1</td>\n",
       "      <td>0</td>\n",
       "      <td>0</td>\n",
       "    </tr>\n",
       "  </tbody>\n",
       "</table>\n",
       "<p>658 rows × 9 columns</p>\n",
       "</div>"
      ],
      "text/plain": [
       "     pclass  sex   age     fare  adult_male  Queenstown  Southampton  family  \\\n",
       "708       1    0  22.0  65.6344           0           0            1       0   \n",
       "630       1    1  54.5  30.0000           1           0            1       0   \n",
       "520       1    0  30.0  65.6344           0           0            1       0   \n",
       "247       2    0  24.0  14.5000           0           0            1       2   \n",
       "68        3    0  17.0   7.9250           0           0            1       6   \n",
       "..      ...  ...   ...      ...         ...         ...          ...     ...   \n",
       "35        1    1  42.0  52.0000           1           0            1       1   \n",
       "739       3    1  28.0   7.8958           1           0            1       0   \n",
       "882       3    0  22.0  10.5167           0           0            1       0   \n",
       "840       3    1  20.0   7.9250           1           0            1       0   \n",
       "200       3    1  28.0   9.5000           1           0            1       0   \n",
       "\n",
       "     survived  \n",
       "708         1  \n",
       "630         1  \n",
       "520         1  \n",
       "247         1  \n",
       "68          1  \n",
       "..        ...  \n",
       "35          0  \n",
       "739         0  \n",
       "882         0  \n",
       "840         0  \n",
       "200         0  \n",
       "\n",
       "[658 rows x 9 columns]"
      ]
     },
     "execution_count": 81,
     "metadata": {},
     "output_type": "execute_result"
    }
   ],
   "source": [
    "# concatener les dataframes de deux classes en une seule\n",
    "data = pd.concat([minority, majority], axis = 0)\n",
    "data"
   ]
  },
  {
   "cell_type": "code",
   "execution_count": 83,
   "id": "50dfea8d-82c9-437c-b3a9-67ce2c822cfb",
   "metadata": {},
   "outputs": [
    {
     "data": {
      "text/html": [
       "<div>\n",
       "<style scoped>\n",
       "    .dataframe tbody tr th:only-of-type {\n",
       "        vertical-align: middle;\n",
       "    }\n",
       "\n",
       "    .dataframe tbody tr th {\n",
       "        vertical-align: top;\n",
       "    }\n",
       "\n",
       "    .dataframe thead th {\n",
       "        text-align: right;\n",
       "    }\n",
       "</style>\n",
       "<table border=\"1\" class=\"dataframe\">\n",
       "  <thead>\n",
       "    <tr style=\"text-align: right;\">\n",
       "      <th></th>\n",
       "      <th>pclass</th>\n",
       "      <th>sex</th>\n",
       "      <th>age</th>\n",
       "      <th>fare</th>\n",
       "      <th>adult_male</th>\n",
       "      <th>Queenstown</th>\n",
       "      <th>Southampton</th>\n",
       "      <th>family</th>\n",
       "      <th>survived</th>\n",
       "    </tr>\n",
       "  </thead>\n",
       "  <tbody>\n",
       "    <tr>\n",
       "      <th>0</th>\n",
       "      <td>1</td>\n",
       "      <td>1</td>\n",
       "      <td>45.0</td>\n",
       "      <td>65.6344</td>\n",
       "      <td>1</td>\n",
       "      <td>0</td>\n",
       "      <td>1</td>\n",
       "      <td>1</td>\n",
       "      <td>0</td>\n",
       "    </tr>\n",
       "    <tr>\n",
       "      <th>1</th>\n",
       "      <td>3</td>\n",
       "      <td>1</td>\n",
       "      <td>28.0</td>\n",
       "      <td>8.0500</td>\n",
       "      <td>1</td>\n",
       "      <td>0</td>\n",
       "      <td>1</td>\n",
       "      <td>0</td>\n",
       "      <td>0</td>\n",
       "    </tr>\n",
       "    <tr>\n",
       "      <th>2</th>\n",
       "      <td>2</td>\n",
       "      <td>0</td>\n",
       "      <td>34.0</td>\n",
       "      <td>32.5000</td>\n",
       "      <td>0</td>\n",
       "      <td>0</td>\n",
       "      <td>1</td>\n",
       "      <td>2</td>\n",
       "      <td>1</td>\n",
       "    </tr>\n",
       "    <tr>\n",
       "      <th>3</th>\n",
       "      <td>3</td>\n",
       "      <td>1</td>\n",
       "      <td>28.0</td>\n",
       "      <td>7.8958</td>\n",
       "      <td>1</td>\n",
       "      <td>0</td>\n",
       "      <td>1</td>\n",
       "      <td>0</td>\n",
       "      <td>0</td>\n",
       "    </tr>\n",
       "    <tr>\n",
       "      <th>4</th>\n",
       "      <td>3</td>\n",
       "      <td>0</td>\n",
       "      <td>28.0</td>\n",
       "      <td>7.8792</td>\n",
       "      <td>0</td>\n",
       "      <td>1</td>\n",
       "      <td>0</td>\n",
       "      <td>0</td>\n",
       "      <td>1</td>\n",
       "    </tr>\n",
       "    <tr>\n",
       "      <th>...</th>\n",
       "      <td>...</td>\n",
       "      <td>...</td>\n",
       "      <td>...</td>\n",
       "      <td>...</td>\n",
       "      <td>...</td>\n",
       "      <td>...</td>\n",
       "      <td>...</td>\n",
       "      <td>...</td>\n",
       "      <td>...</td>\n",
       "    </tr>\n",
       "    <tr>\n",
       "      <th>653</th>\n",
       "      <td>1</td>\n",
       "      <td>1</td>\n",
       "      <td>42.0</td>\n",
       "      <td>52.5542</td>\n",
       "      <td>1</td>\n",
       "      <td>0</td>\n",
       "      <td>1</td>\n",
       "      <td>1</td>\n",
       "      <td>1</td>\n",
       "    </tr>\n",
       "    <tr>\n",
       "      <th>654</th>\n",
       "      <td>2</td>\n",
       "      <td>1</td>\n",
       "      <td>52.0</td>\n",
       "      <td>13.0000</td>\n",
       "      <td>1</td>\n",
       "      <td>0</td>\n",
       "      <td>1</td>\n",
       "      <td>0</td>\n",
       "      <td>0</td>\n",
       "    </tr>\n",
       "    <tr>\n",
       "      <th>655</th>\n",
       "      <td>3</td>\n",
       "      <td>0</td>\n",
       "      <td>2.5</td>\n",
       "      <td>11.1333</td>\n",
       "      <td>0</td>\n",
       "      <td>0</td>\n",
       "      <td>1</td>\n",
       "      <td>2</td>\n",
       "      <td>1</td>\n",
       "    </tr>\n",
       "    <tr>\n",
       "      <th>656</th>\n",
       "      <td>3</td>\n",
       "      <td>1</td>\n",
       "      <td>27.0</td>\n",
       "      <td>6.9750</td>\n",
       "      <td>1</td>\n",
       "      <td>0</td>\n",
       "      <td>1</td>\n",
       "      <td>0</td>\n",
       "      <td>1</td>\n",
       "    </tr>\n",
       "    <tr>\n",
       "      <th>657</th>\n",
       "      <td>3</td>\n",
       "      <td>0</td>\n",
       "      <td>18.0</td>\n",
       "      <td>14.4542</td>\n",
       "      <td>0</td>\n",
       "      <td>0</td>\n",
       "      <td>0</td>\n",
       "      <td>1</td>\n",
       "      <td>0</td>\n",
       "    </tr>\n",
       "  </tbody>\n",
       "</table>\n",
       "<p>658 rows × 9 columns</p>\n",
       "</div>"
      ],
      "text/plain": [
       "     pclass  sex   age     fare  adult_male  Queenstown  Southampton  family  \\\n",
       "0         1    1  45.0  65.6344           1           0            1       1   \n",
       "1         3    1  28.0   8.0500           1           0            1       0   \n",
       "2         2    0  34.0  32.5000           0           0            1       2   \n",
       "3         3    1  28.0   7.8958           1           0            1       0   \n",
       "4         3    0  28.0   7.8792           0           1            0       0   \n",
       "..      ...  ...   ...      ...         ...         ...          ...     ...   \n",
       "653       1    1  42.0  52.5542           1           0            1       1   \n",
       "654       2    1  52.0  13.0000           1           0            1       0   \n",
       "655       3    0   2.5  11.1333           0           0            1       2   \n",
       "656       3    1  27.0   6.9750           1           0            1       0   \n",
       "657       3    0  18.0  14.4542           0           0            0       1   \n",
       "\n",
       "     survived  \n",
       "0           0  \n",
       "1           0  \n",
       "2           1  \n",
       "3           0  \n",
       "4           1  \n",
       "..        ...  \n",
       "653         1  \n",
       "654         0  \n",
       "655         1  \n",
       "656         1  \n",
       "657         0  \n",
       "\n",
       "[658 rows x 9 columns]"
      ]
     },
     "execution_count": 83,
     "metadata": {},
     "output_type": "execute_result"
    }
   ],
   "source": [
    "# mélanger les lignes aléatoirement\n",
    "data = data.sample(frac = 1, random_state = 12).reset_index(drop = True)\n",
    "# frac = 1 : pour prendre 100% des lignes\n",
    "data"
   ]
  },
  {
   "cell_type": "code",
   "execution_count": 87,
   "id": "57f0e165-dc14-40ef-9fec-e79df07977d2",
   "metadata": {},
   "outputs": [
    {
     "data": {
      "text/html": [
       "<div>\n",
       "<style scoped>\n",
       "    .dataframe tbody tr th:only-of-type {\n",
       "        vertical-align: middle;\n",
       "    }\n",
       "\n",
       "    .dataframe tbody tr th {\n",
       "        vertical-align: top;\n",
       "    }\n",
       "\n",
       "    .dataframe thead th {\n",
       "        text-align: right;\n",
       "    }\n",
       "</style>\n",
       "<table border=\"1\" class=\"dataframe\">\n",
       "  <thead>\n",
       "    <tr style=\"text-align: right;\">\n",
       "      <th></th>\n",
       "      <th>pclass</th>\n",
       "      <th>sex</th>\n",
       "      <th>age</th>\n",
       "      <th>fare</th>\n",
       "      <th>adult_male</th>\n",
       "      <th>Queenstown</th>\n",
       "      <th>Southampton</th>\n",
       "      <th>family</th>\n",
       "    </tr>\n",
       "  </thead>\n",
       "  <tbody>\n",
       "    <tr>\n",
       "      <th>0</th>\n",
       "      <td>1</td>\n",
       "      <td>1</td>\n",
       "      <td>45.0</td>\n",
       "      <td>65.6344</td>\n",
       "      <td>1</td>\n",
       "      <td>0</td>\n",
       "      <td>1</td>\n",
       "      <td>1</td>\n",
       "    </tr>\n",
       "    <tr>\n",
       "      <th>1</th>\n",
       "      <td>3</td>\n",
       "      <td>1</td>\n",
       "      <td>28.0</td>\n",
       "      <td>8.0500</td>\n",
       "      <td>1</td>\n",
       "      <td>0</td>\n",
       "      <td>1</td>\n",
       "      <td>0</td>\n",
       "    </tr>\n",
       "    <tr>\n",
       "      <th>2</th>\n",
       "      <td>2</td>\n",
       "      <td>0</td>\n",
       "      <td>34.0</td>\n",
       "      <td>32.5000</td>\n",
       "      <td>0</td>\n",
       "      <td>0</td>\n",
       "      <td>1</td>\n",
       "      <td>2</td>\n",
       "    </tr>\n",
       "    <tr>\n",
       "      <th>3</th>\n",
       "      <td>3</td>\n",
       "      <td>1</td>\n",
       "      <td>28.0</td>\n",
       "      <td>7.8958</td>\n",
       "      <td>1</td>\n",
       "      <td>0</td>\n",
       "      <td>1</td>\n",
       "      <td>0</td>\n",
       "    </tr>\n",
       "    <tr>\n",
       "      <th>4</th>\n",
       "      <td>3</td>\n",
       "      <td>0</td>\n",
       "      <td>28.0</td>\n",
       "      <td>7.8792</td>\n",
       "      <td>0</td>\n",
       "      <td>1</td>\n",
       "      <td>0</td>\n",
       "      <td>0</td>\n",
       "    </tr>\n",
       "    <tr>\n",
       "      <th>...</th>\n",
       "      <td>...</td>\n",
       "      <td>...</td>\n",
       "      <td>...</td>\n",
       "      <td>...</td>\n",
       "      <td>...</td>\n",
       "      <td>...</td>\n",
       "      <td>...</td>\n",
       "      <td>...</td>\n",
       "    </tr>\n",
       "    <tr>\n",
       "      <th>653</th>\n",
       "      <td>1</td>\n",
       "      <td>1</td>\n",
       "      <td>42.0</td>\n",
       "      <td>52.5542</td>\n",
       "      <td>1</td>\n",
       "      <td>0</td>\n",
       "      <td>1</td>\n",
       "      <td>1</td>\n",
       "    </tr>\n",
       "    <tr>\n",
       "      <th>654</th>\n",
       "      <td>2</td>\n",
       "      <td>1</td>\n",
       "      <td>52.0</td>\n",
       "      <td>13.0000</td>\n",
       "      <td>1</td>\n",
       "      <td>0</td>\n",
       "      <td>1</td>\n",
       "      <td>0</td>\n",
       "    </tr>\n",
       "    <tr>\n",
       "      <th>655</th>\n",
       "      <td>3</td>\n",
       "      <td>0</td>\n",
       "      <td>2.5</td>\n",
       "      <td>11.1333</td>\n",
       "      <td>0</td>\n",
       "      <td>0</td>\n",
       "      <td>1</td>\n",
       "      <td>2</td>\n",
       "    </tr>\n",
       "    <tr>\n",
       "      <th>656</th>\n",
       "      <td>3</td>\n",
       "      <td>1</td>\n",
       "      <td>27.0</td>\n",
       "      <td>6.9750</td>\n",
       "      <td>1</td>\n",
       "      <td>0</td>\n",
       "      <td>1</td>\n",
       "      <td>0</td>\n",
       "    </tr>\n",
       "    <tr>\n",
       "      <th>657</th>\n",
       "      <td>3</td>\n",
       "      <td>0</td>\n",
       "      <td>18.0</td>\n",
       "      <td>14.4542</td>\n",
       "      <td>0</td>\n",
       "      <td>0</td>\n",
       "      <td>0</td>\n",
       "      <td>1</td>\n",
       "    </tr>\n",
       "  </tbody>\n",
       "</table>\n",
       "<p>658 rows × 8 columns</p>\n",
       "</div>"
      ],
      "text/plain": [
       "     pclass  sex   age     fare  adult_male  Queenstown  Southampton  family\n",
       "0         1    1  45.0  65.6344           1           0            1       1\n",
       "1         3    1  28.0   8.0500           1           0            1       0\n",
       "2         2    0  34.0  32.5000           0           0            1       2\n",
       "3         3    1  28.0   7.8958           1           0            1       0\n",
       "4         3    0  28.0   7.8792           0           1            0       0\n",
       "..      ...  ...   ...      ...         ...         ...          ...     ...\n",
       "653       1    1  42.0  52.5542           1           0            1       1\n",
       "654       2    1  52.0  13.0000           1           0            1       0\n",
       "655       3    0   2.5  11.1333           0           0            1       2\n",
       "656       3    1  27.0   6.9750           1           0            1       0\n",
       "657       3    0  18.0  14.4542           0           0            0       1\n",
       "\n",
       "[658 rows x 8 columns]"
      ]
     },
     "execution_count": 87,
     "metadata": {},
     "output_type": "execute_result"
    }
   ],
   "source": [
    "# diviser en variables explicatives et variable cible\n",
    "X_train_over = data.drop(\"survived\", axis = 1)\n",
    "y_train_over = data[\"survived\"]\n",
    "X_train_over"
   ]
  },
  {
   "cell_type": "code",
   "execution_count": 88,
   "id": "1614f752-e093-437c-9813-d2dcb742e9e9",
   "metadata": {},
   "outputs": [
    {
     "data": {
      "text/plain": [
       "0      0\n",
       "1      0\n",
       "2      1\n",
       "3      0\n",
       "4      1\n",
       "      ..\n",
       "653    1\n",
       "654    0\n",
       "655    1\n",
       "656    1\n",
       "657    0\n",
       "Name: survived, Length: 658, dtype: int64"
      ]
     },
     "execution_count": 88,
     "metadata": {},
     "output_type": "execute_result"
    }
   ],
   "source": [
    "y_train_over"
   ]
  },
  {
   "cell_type": "markdown",
   "id": "44b0c95f-4a05-4e03-b413-98c4568d68bf",
   "metadata": {},
   "source": [
    "### B. Le Sous-échantillonnage (Undersampling)"
   ]
  },
  {
   "cell_type": "markdown",
   "id": "3df0e49d-fccd-4096-8fa3-0224fed127aa",
   "metadata": {},
   "source": [
    "Appliquer les mêmes étapes et lors de l'utilisation de la méthode **resample**, le premier argument sera la dataframe de la classe **mojoritaire**, le paramètre **replace** sera fixé à **False** pour effectuer des **tirages sans remises**, et **n_samples** sera le nombre des lignes de la dataframe de la classe **minoritaire**."
   ]
  }
 ],
 "metadata": {
  "kernelspec": {
   "display_name": "Python [conda env:base] *",
   "language": "python",
   "name": "conda-base-py"
  },
  "language_info": {
   "codemirror_mode": {
    "name": "ipython",
    "version": 3
   },
   "file_extension": ".py",
   "mimetype": "text/x-python",
   "name": "python",
   "nbconvert_exporter": "python",
   "pygments_lexer": "ipython3",
   "version": "3.12.7"
  }
 },
 "nbformat": 4,
 "nbformat_minor": 5
}
